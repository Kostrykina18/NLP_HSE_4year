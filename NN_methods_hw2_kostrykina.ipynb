{
 "cells": [
  {
   "cell_type": "code",
   "execution_count": 1,
   "metadata": {
    "colab": {
     "base_uri": "https://localhost:8080/"
    },
    "id": "YqvhrBFqGxQa",
    "outputId": "bf7da8ce-253f-4c34-8af8-952f679d77d3"
   },
   "outputs": [
    {
     "name": "stdout",
     "output_type": "stream",
     "text": [
      "--2021-12-10 20:14:05--  https://www.dropbox.com/s/7p88tb8aqcuuztm/negative.csv?dl=0\n",
      "Resolving www.dropbox.com (www.dropbox.com)... 162.125.3.18, 2620:100:601b:18::a27d:812\n",
      "Connecting to www.dropbox.com (www.dropbox.com)|162.125.3.18|:443... connected.\n",
      "HTTP request sent, awaiting response... 301 Moved Permanently\n",
      "Location: /s/raw/7p88tb8aqcuuztm/negative.csv [following]\n",
      "--2021-12-10 20:14:06--  https://www.dropbox.com/s/raw/7p88tb8aqcuuztm/negative.csv\n",
      "Reusing existing connection to www.dropbox.com:443.\n",
      "HTTP request sent, awaiting response... 302 Found\n",
      "Location: https://uc44a4588eeb28b00ec1202294b4.dl.dropboxusercontent.com/cd/0/inline/BblXncegq3pQNPDpNI2W3YfAapIpfIf4Lqivof3q7JkUakfJw2XHeUBKejEcyqp8z8n5IEmrYYa0ICIMSuCwnTVhloht5E8CE7unKILyAc5mH1GaCNgPpz1jXpbWyobC__cosW8kJYskFRoY2iUQK77p/file# [following]\n",
      "--2021-12-10 20:14:06--  https://uc44a4588eeb28b00ec1202294b4.dl.dropboxusercontent.com/cd/0/inline/BblXncegq3pQNPDpNI2W3YfAapIpfIf4Lqivof3q7JkUakfJw2XHeUBKejEcyqp8z8n5IEmrYYa0ICIMSuCwnTVhloht5E8CE7unKILyAc5mH1GaCNgPpz1jXpbWyobC__cosW8kJYskFRoY2iUQK77p/file\n",
      "Resolving uc44a4588eeb28b00ec1202294b4.dl.dropboxusercontent.com (uc44a4588eeb28b00ec1202294b4.dl.dropboxusercontent.com)... 162.125.3.15, 2620:100:6018:15::a27d:30f\n",
      "Connecting to uc44a4588eeb28b00ec1202294b4.dl.dropboxusercontent.com (uc44a4588eeb28b00ec1202294b4.dl.dropboxusercontent.com)|162.125.3.15|:443... connected.\n",
      "HTTP request sent, awaiting response... 200 OK\n",
      "Length: 24450101 (23M) [text/plain]\n",
      "Saving to: ‘negative.csv’\n",
      "\n",
      "negative.csv        100%[===================>]  23.32M  77.3MB/s    in 0.3s    \n",
      "\n",
      "2021-12-10 20:14:06 (77.3 MB/s) - ‘negative.csv’ saved [24450101/24450101]\n",
      "\n",
      "--2021-12-10 20:14:07--  https://www.dropbox.com/s/pkv5b8jvo4j9je3/positive.csv?dl=0\n",
      "Resolving www.dropbox.com (www.dropbox.com)... 162.125.3.18, 2620:100:601b:18::a27d:812\n",
      "Connecting to www.dropbox.com (www.dropbox.com)|162.125.3.18|:443... connected.\n",
      "HTTP request sent, awaiting response... 301 Moved Permanently\n",
      "Location: /s/raw/pkv5b8jvo4j9je3/positive.csv [following]\n",
      "--2021-12-10 20:14:07--  https://www.dropbox.com/s/raw/pkv5b8jvo4j9je3/positive.csv\n",
      "Reusing existing connection to www.dropbox.com:443.\n",
      "HTTP request sent, awaiting response... 302 Found\n",
      "Location: https://uc335db20aacebf94f4463f0c6aa.dl.dropboxusercontent.com/cd/0/inline/BbkmTomKbaLV4P0Dzri66S38wh7btTz9i0ehChMhTZEIcmMP1MtzMyFGwQFlgSUi4-48k3Xqtnu9Z8iUXXam6GsBLHRJMeEHasJk7u9gIfia5mCLkmTnzPvl-9P6ounyXLWZ7XrKwkyPHgx048ke15Lm/file# [following]\n",
      "--2021-12-10 20:14:07--  https://uc335db20aacebf94f4463f0c6aa.dl.dropboxusercontent.com/cd/0/inline/BbkmTomKbaLV4P0Dzri66S38wh7btTz9i0ehChMhTZEIcmMP1MtzMyFGwQFlgSUi4-48k3Xqtnu9Z8iUXXam6GsBLHRJMeEHasJk7u9gIfia5mCLkmTnzPvl-9P6ounyXLWZ7XrKwkyPHgx048ke15Lm/file\n",
      "Resolving uc335db20aacebf94f4463f0c6aa.dl.dropboxusercontent.com (uc335db20aacebf94f4463f0c6aa.dl.dropboxusercontent.com)... 162.125.3.15, 2620:100:6018:15::a27d:30f\n",
      "Connecting to uc335db20aacebf94f4463f0c6aa.dl.dropboxusercontent.com (uc335db20aacebf94f4463f0c6aa.dl.dropboxusercontent.com)|162.125.3.15|:443... connected.\n",
      "HTTP request sent, awaiting response... 200 OK\n",
      "Length: 26233379 (25M) [text/plain]\n",
      "Saving to: ‘positive.csv’\n",
      "\n",
      "positive.csv        100%[===================>]  25.02M  51.5MB/s    in 0.5s    \n",
      "\n",
      "2021-12-10 20:14:08 (51.5 MB/s) - ‘positive.csv’ saved [26233379/26233379]\n",
      "\n"
     ]
    }
   ],
   "source": [
    "!wget https://www.dropbox.com/s/7p88tb8aqcuuztm/negative.csv?dl=0 -O negative.csv\n",
    "!wget https://www.dropbox.com/s/pkv5b8jvo4j9je3/positive.csv?dl=0 -O positive.csv "
   ]
  },
  {
   "cell_type": "code",
   "execution_count": 2,
   "metadata": {
    "colab": {
     "base_uri": "https://localhost:8080/"
    },
    "id": "2iQw3rYEd0YT",
    "outputId": "857475ae-4fd5-4273-fa67-b18ef1490c6d"
   },
   "outputs": [
    {
     "name": "stdout",
     "output_type": "stream",
     "text": [
      "Collecting torchmetrics\n",
      "  Downloading torchmetrics-0.6.1-py3-none-any.whl (332 kB)\n",
      "\u001b[?25l\r",
      "\u001b[K     |█                               | 10 kB 25.7 MB/s eta 0:00:01\r",
      "\u001b[K     |██                              | 20 kB 24.9 MB/s eta 0:00:01\r",
      "\u001b[K     |███                             | 30 kB 13.4 MB/s eta 0:00:01\r",
      "\u001b[K     |████                            | 40 kB 10.0 MB/s eta 0:00:01\r",
      "\u001b[K     |█████                           | 51 kB 5.1 MB/s eta 0:00:01\r",
      "\u001b[K     |██████                          | 61 kB 5.6 MB/s eta 0:00:01\r",
      "\u001b[K     |███████                         | 71 kB 6.0 MB/s eta 0:00:01\r",
      "\u001b[K     |███████▉                        | 81 kB 6.7 MB/s eta 0:00:01\r",
      "\u001b[K     |████████▉                       | 92 kB 6.6 MB/s eta 0:00:01\r",
      "\u001b[K     |█████████▉                      | 102 kB 5.4 MB/s eta 0:00:01\r",
      "\u001b[K     |██████████▉                     | 112 kB 5.4 MB/s eta 0:00:01\r",
      "\u001b[K     |███████████▉                    | 122 kB 5.4 MB/s eta 0:00:01\r",
      "\u001b[K     |████████████▉                   | 133 kB 5.4 MB/s eta 0:00:01\r",
      "\u001b[K     |█████████████▉                  | 143 kB 5.4 MB/s eta 0:00:01\r",
      "\u001b[K     |██████████████▉                 | 153 kB 5.4 MB/s eta 0:00:01\r",
      "\u001b[K     |███████████████▊                | 163 kB 5.4 MB/s eta 0:00:01\r",
      "\u001b[K     |████████████████▊               | 174 kB 5.4 MB/s eta 0:00:01\r",
      "\u001b[K     |█████████████████▊              | 184 kB 5.4 MB/s eta 0:00:01\r",
      "\u001b[K     |██████████████████▊             | 194 kB 5.4 MB/s eta 0:00:01\r",
      "\u001b[K     |███████████████████▊            | 204 kB 5.4 MB/s eta 0:00:01\r",
      "\u001b[K     |████████████████████▊           | 215 kB 5.4 MB/s eta 0:00:01\r",
      "\u001b[K     |█████████████████████▊          | 225 kB 5.4 MB/s eta 0:00:01\r",
      "\u001b[K     |██████████████████████▊         | 235 kB 5.4 MB/s eta 0:00:01\r",
      "\u001b[K     |███████████████████████▋        | 245 kB 5.4 MB/s eta 0:00:01\r",
      "\u001b[K     |████████████████████████▋       | 256 kB 5.4 MB/s eta 0:00:01\r",
      "\u001b[K     |█████████████████████████▋      | 266 kB 5.4 MB/s eta 0:00:01\r",
      "\u001b[K     |██████████████████████████▋     | 276 kB 5.4 MB/s eta 0:00:01\r",
      "\u001b[K     |███████████████████████████▋    | 286 kB 5.4 MB/s eta 0:00:01\r",
      "\u001b[K     |████████████████████████████▋   | 296 kB 5.4 MB/s eta 0:00:01\r",
      "\u001b[K     |█████████████████████████████▋  | 307 kB 5.4 MB/s eta 0:00:01\r",
      "\u001b[K     |██████████████████████████████▌ | 317 kB 5.4 MB/s eta 0:00:01\r",
      "\u001b[K     |███████████████████████████████▌| 327 kB 5.4 MB/s eta 0:00:01\r",
      "\u001b[K     |████████████████████████████████| 332 kB 5.4 MB/s \n",
      "\u001b[?25hRequirement already satisfied: torch>=1.3.1 in /usr/local/lib/python3.7/dist-packages (from torchmetrics) (1.10.0+cu111)\n",
      "Requirement already satisfied: numpy>=1.17.2 in /usr/local/lib/python3.7/dist-packages (from torchmetrics) (1.19.5)\n",
      "Requirement already satisfied: packaging in /usr/local/lib/python3.7/dist-packages (from torchmetrics) (21.3)\n",
      "Requirement already satisfied: typing-extensions in /usr/local/lib/python3.7/dist-packages (from torch>=1.3.1->torchmetrics) (3.10.0.2)\n",
      "Requirement already satisfied: pyparsing!=3.0.5,>=2.0.2 in /usr/local/lib/python3.7/dist-packages (from packaging->torchmetrics) (3.0.6)\n",
      "Installing collected packages: torchmetrics\n",
      "Successfully installed torchmetrics-0.6.1\n"
     ]
    }
   ],
   "source": [
    "!pip install torchmetrics"
   ]
  },
  {
   "cell_type": "code",
   "execution_count": 3,
   "metadata": {
    "colab": {
     "base_uri": "https://localhost:8080/",
     "height": 854
    },
    "id": "mE4eqsUQd2PO",
    "outputId": "39c0f727-2626-4ea5-873e-dc74f10b4aa5"
   },
   "outputs": [
    {
     "name": "stdout",
     "output_type": "stream",
     "text": [
      "Collecting ipdb\n",
      "  Downloading ipdb-0.13.9.tar.gz (16 kB)\n",
      "Requirement already satisfied: setuptools in /usr/local/lib/python3.7/dist-packages (from ipdb) (57.4.0)\n",
      "Collecting ipython>=7.17.0\n",
      "  Downloading ipython-7.30.1-py3-none-any.whl (791 kB)\n",
      "\u001b[K     |████████████████████████████████| 791 kB 6.7 MB/s \n",
      "\u001b[?25hRequirement already satisfied: toml>=0.10.2 in /usr/local/lib/python3.7/dist-packages (from ipdb) (0.10.2)\n",
      "Requirement already satisfied: decorator in /usr/local/lib/python3.7/dist-packages (from ipdb) (4.4.2)\n",
      "Requirement already satisfied: matplotlib-inline in /usr/local/lib/python3.7/dist-packages (from ipython>=7.17.0->ipdb) (0.1.3)\n",
      "Collecting prompt-toolkit!=3.0.0,!=3.0.1,<3.1.0,>=2.0.0\n",
      "  Downloading prompt_toolkit-3.0.24-py3-none-any.whl (374 kB)\n",
      "\u001b[K     |████████████████████████████████| 374 kB 37.4 MB/s \n",
      "\u001b[?25hRequirement already satisfied: pygments in /usr/local/lib/python3.7/dist-packages (from ipython>=7.17.0->ipdb) (2.6.1)\n",
      "Requirement already satisfied: backcall in /usr/local/lib/python3.7/dist-packages (from ipython>=7.17.0->ipdb) (0.2.0)\n",
      "Requirement already satisfied: traitlets>=4.2 in /usr/local/lib/python3.7/dist-packages (from ipython>=7.17.0->ipdb) (5.1.1)\n",
      "Requirement already satisfied: pexpect>4.3 in /usr/local/lib/python3.7/dist-packages (from ipython>=7.17.0->ipdb) (4.8.0)\n",
      "Requirement already satisfied: jedi>=0.16 in /usr/local/lib/python3.7/dist-packages (from ipython>=7.17.0->ipdb) (0.18.1)\n",
      "Requirement already satisfied: pickleshare in /usr/local/lib/python3.7/dist-packages (from ipython>=7.17.0->ipdb) (0.7.5)\n",
      "Requirement already satisfied: parso<0.9.0,>=0.8.0 in /usr/local/lib/python3.7/dist-packages (from jedi>=0.16->ipython>=7.17.0->ipdb) (0.8.3)\n",
      "Requirement already satisfied: ptyprocess>=0.5 in /usr/local/lib/python3.7/dist-packages (from pexpect>4.3->ipython>=7.17.0->ipdb) (0.7.0)\n",
      "Requirement already satisfied: wcwidth in /usr/local/lib/python3.7/dist-packages (from prompt-toolkit!=3.0.0,!=3.0.1,<3.1.0,>=2.0.0->ipython>=7.17.0->ipdb) (0.2.5)\n",
      "Building wheels for collected packages: ipdb\n",
      "  Building wheel for ipdb (setup.py) ... \u001b[?25l\u001b[?25hdone\n",
      "  Created wheel for ipdb: filename=ipdb-0.13.9-py3-none-any.whl size=11648 sha256=7c65997d707e31158aaa3a2d495c954f53214cd141acf56504999202854e52a6\n",
      "  Stored in directory: /root/.cache/pip/wheels/65/cd/cc/aaf92acae337a28fdd2aa4d632196a59745c8c39f76eaeed01\n",
      "Successfully built ipdb\n",
      "Installing collected packages: prompt-toolkit, ipython, ipdb\n",
      "  Attempting uninstall: prompt-toolkit\n",
      "    Found existing installation: prompt-toolkit 1.0.18\n",
      "    Uninstalling prompt-toolkit-1.0.18:\n",
      "      Successfully uninstalled prompt-toolkit-1.0.18\n",
      "  Attempting uninstall: ipython\n",
      "    Found existing installation: ipython 5.5.0\n",
      "    Uninstalling ipython-5.5.0:\n",
      "      Successfully uninstalled ipython-5.5.0\n",
      "\u001b[31mERROR: pip's dependency resolver does not currently take into account all the packages that are installed. This behaviour is the source of the following dependency conflicts.\n",
      "jupyter-console 5.2.0 requires prompt-toolkit<2.0.0,>=1.0.0, but you have prompt-toolkit 3.0.24 which is incompatible.\n",
      "google-colab 1.0.0 requires ipython~=5.5.0, but you have ipython 7.30.1 which is incompatible.\u001b[0m\n",
      "Successfully installed ipdb-0.13.9 ipython-7.30.1 prompt-toolkit-3.0.24\n"
     ]
    },
    {
     "data": {
      "application/vnd.colab-display-data+json": {
       "pip_warning": {
        "packages": [
         "IPython",
         "prompt_toolkit"
        ]
       }
      }
     },
     "metadata": {},
     "output_type": "display_data"
    }
   ],
   "source": [
    "!pip install ipdb"
   ]
  },
  {
   "cell_type": "code",
   "execution_count": 4,
   "metadata": {
    "id": "zEBvIDFHG1ua"
   },
   "outputs": [],
   "source": [
    "import re\n",
    "import pandas as pd\n",
    "import numpy as np\n",
    "from string import punctuation\n",
    "punctuation += '...' + '—' + '…' + '«»'\n",
    "\n",
    "from collections import Counter\n",
    "import warnings\n",
    "warnings.filterwarnings(\"ignore\")\n",
    "from sklearn.model_selection import train_test_split\n",
    "from sklearn.utils import shuffle\n",
    "import torch\n",
    "import torch.nn as nn\n",
    "import torch.nn.functional as F\n",
    "from torch.utils.data import Dataset, DataLoader, RandomSampler, SequentialSampler\n",
    "from torch.nn.utils.rnn import pad_sequence\n",
    "import torch.optim as optim\n",
    "from torchmetrics import F1\n",
    "from torchmetrics.functional import f1, recall\n",
    "import ipdb"
   ]
  },
  {
   "cell_type": "code",
   "execution_count": 5,
   "metadata": {
    "id": "5WGnEEncdxwO"
   },
   "outputs": [],
   "source": [
    "pos_tweets = pd.read_csv('positive.csv', encoding='utf-8', sep=';', header=None,  names=[0,1,2,'text','tone',5,6,7,8,9,10,11])\n",
    "neg_tweets = pd.read_csv('negative.csv', encoding='utf-8', sep=';', header=None, names=[0,1,2,'text','tone',5,6,7,8,9,10,11] )\n",
    "neg_tweets['tone'] = 0"
   ]
  },
  {
   "cell_type": "code",
   "execution_count": 6,
   "metadata": {
    "colab": {
     "base_uri": "https://localhost:8080/"
    },
    "id": "ehvZnmSsggs2",
    "outputId": "f5d99ec7-7b6d-4302-ab60-9722e55e9933"
   },
   "outputs": [
    {
     "name": "stdout",
     "output_type": "stream",
     "text": [
      "226834\n"
     ]
    }
   ],
   "source": [
    "all_tweets_data = pos_tweets.append(neg_tweets)\n",
    "print(len(all_tweets_data))"
   ]
  },
  {
   "cell_type": "code",
   "execution_count": 7,
   "metadata": {
    "id": "GxakmTKkggzP"
   },
   "outputs": [],
   "source": [
    "tweets_data = shuffle(all_tweets_data[['text','tone']])[:100000]"
   ]
  },
  {
   "cell_type": "code",
   "execution_count": 8,
   "metadata": {
    "id": "Sv_-HvgSgg1e"
   },
   "outputs": [],
   "source": [
    "train_sentences, val_sentences = train_test_split(tweets_data, test_size=0.1)"
   ]
  },
  {
   "cell_type": "code",
   "execution_count": 9,
   "metadata": {
    "colab": {
     "base_uri": "https://localhost:8080/",
     "height": 419
    },
    "id": "8xfwmtVLgg3d",
    "outputId": "8d9b1a67-14fc-4e1b-c53a-1a1e46a20c6d"
   },
   "outputs": [
    {
     "data": {
      "text/html": [
       "<div>\n",
       "<style scoped>\n",
       "    .dataframe tbody tr th:only-of-type {\n",
       "        vertical-align: middle;\n",
       "    }\n",
       "\n",
       "    .dataframe tbody tr th {\n",
       "        vertical-align: top;\n",
       "    }\n",
       "\n",
       "    .dataframe thead th {\n",
       "        text-align: right;\n",
       "    }\n",
       "</style>\n",
       "<table border=\"1\" class=\"dataframe\">\n",
       "  <thead>\n",
       "    <tr style=\"text-align: right;\">\n",
       "      <th></th>\n",
       "      <th>text</th>\n",
       "      <th>tone</th>\n",
       "    </tr>\n",
       "  </thead>\n",
       "  <tbody>\n",
       "    <tr>\n",
       "      <th>16263</th>\n",
       "      <td>RT @Apollo_Loki: @Loki_Killjoy Крылышко, у теб...</td>\n",
       "      <td>1</td>\n",
       "    </tr>\n",
       "    <tr>\n",
       "      <th>10101</th>\n",
       "      <td>Офигенный день!\\nдень позитива)\\nбегал как иди...</td>\n",
       "      <td>1</td>\n",
       "    </tr>\n",
       "    <tr>\n",
       "      <th>102997</th>\n",
       "      <td>Лентааа я не помню свой пороль...сижу только с...</td>\n",
       "      <td>0</td>\n",
       "    </tr>\n",
       "    <tr>\n",
       "      <th>87291</th>\n",
       "      <td>RT @Natasha_Rudova: Наконец-то дома)))Журнальч...</td>\n",
       "      <td>1</td>\n",
       "    </tr>\n",
       "    <tr>\n",
       "      <th>101604</th>\n",
       "      <td>@skemhey а здоровье? не всякое купишь за деньги(</td>\n",
       "      <td>0</td>\n",
       "    </tr>\n",
       "    <tr>\n",
       "      <th>...</th>\n",
       "      <td>...</td>\n",
       "      <td>...</td>\n",
       "    </tr>\n",
       "    <tr>\n",
       "      <th>88222</th>\n",
       "      <td>относитесь к сексу с юмором: не встал, похохот...</td>\n",
       "      <td>1</td>\n",
       "    </tr>\n",
       "    <tr>\n",
       "      <th>100516</th>\n",
       "      <td>Мама,когда же ты уже научишься себя беречь:(</td>\n",
       "      <td>0</td>\n",
       "    </tr>\n",
       "    <tr>\n",
       "      <th>23335</th>\n",
       "      <td>А ещё я сегодня чуток кое-кому приврала, потом...</td>\n",
       "      <td>0</td>\n",
       "    </tr>\n",
       "    <tr>\n",
       "      <th>83055</th>\n",
       "      <td>Сначала не хотела чтобы каникулы начинались,а ...</td>\n",
       "      <td>0</td>\n",
       "    </tr>\n",
       "    <tr>\n",
       "      <th>106819</th>\n",
       "      <td>Брюнетка или блондинка?) — Волосы – не главное...</td>\n",
       "      <td>1</td>\n",
       "    </tr>\n",
       "  </tbody>\n",
       "</table>\n",
       "<p>90000 rows × 2 columns</p>\n",
       "</div>"
      ],
      "text/plain": [
       "                                                     text  tone\n",
       "16263   RT @Apollo_Loki: @Loki_Killjoy Крылышко, у теб...     1\n",
       "10101   Офигенный день!\\nдень позитива)\\nбегал как иди...     1\n",
       "102997  Лентааа я не помню свой пороль...сижу только с...     0\n",
       "87291   RT @Natasha_Rudova: Наконец-то дома)))Журнальч...     1\n",
       "101604   @skemhey а здоровье? не всякое купишь за деньги(     0\n",
       "...                                                   ...   ...\n",
       "88222   относитесь к сексу с юмором: не встал, похохот...     1\n",
       "100516       Мама,когда же ты уже научишься себя беречь:(     0\n",
       "23335   А ещё я сегодня чуток кое-кому приврала, потом...     0\n",
       "83055   Сначала не хотела чтобы каникулы начинались,а ...     0\n",
       "106819  Брюнетка или блондинка?) — Волосы – не главное...     1\n",
       "\n",
       "[90000 rows x 2 columns]"
      ]
     },
     "execution_count": 9,
     "metadata": {},
     "output_type": "execute_result"
    }
   ],
   "source": [
    "train_sentences"
   ]
  },
  {
   "cell_type": "code",
   "execution_count": 10,
   "metadata": {
    "id": "TTo673-VMlrP"
   },
   "outputs": [],
   "source": [
    "def preprocess(text): \n",
    "    text = text.lower()\n",
    "    text = re.sub('((www\\.[^\\s]+)|(https?://[^\\s]+))', 'URL', text)\n",
    "    text = re.sub('@[^\\s]+', 'USER', text)\n",
    "    return text.split()"
   ]
  },
  {
   "cell_type": "code",
   "execution_count": 11,
   "metadata": {
    "id": "dhFqEe28j7Rk"
   },
   "outputs": [],
   "source": [
    "tweets_data['preprocessed'] = tweets_data.text.apply(lambda x: ' '.join(preprocess(x)))"
   ]
  },
  {
   "cell_type": "code",
   "execution_count": 12,
   "metadata": {
    "id": "uYMiu1Y8mu3W"
   },
   "outputs": [],
   "source": [
    "train_sentences, val_sentences = train_test_split(tweets_data, test_size=0.1)"
   ]
  },
  {
   "cell_type": "code",
   "execution_count": 13,
   "metadata": {
    "colab": {
     "base_uri": "https://localhost:8080/",
     "height": 419
    },
    "id": "NKln4_rAmwD-",
    "outputId": "8c6d2f98-38c8-474e-aa09-cd658c6bb0f1"
   },
   "outputs": [
    {
     "data": {
      "text/html": [
       "<div>\n",
       "<style scoped>\n",
       "    .dataframe tbody tr th:only-of-type {\n",
       "        vertical-align: middle;\n",
       "    }\n",
       "\n",
       "    .dataframe tbody tr th {\n",
       "        vertical-align: top;\n",
       "    }\n",
       "\n",
       "    .dataframe thead th {\n",
       "        text-align: right;\n",
       "    }\n",
       "</style>\n",
       "<table border=\"1\" class=\"dataframe\">\n",
       "  <thead>\n",
       "    <tr style=\"text-align: right;\">\n",
       "      <th></th>\n",
       "      <th>text</th>\n",
       "      <th>tone</th>\n",
       "      <th>preprocessed</th>\n",
       "    </tr>\n",
       "  </thead>\n",
       "  <tbody>\n",
       "    <tr>\n",
       "      <th>3590</th>\n",
       "      <td>@aduckevich пипец, каждый день мимо хожу и не ...</td>\n",
       "      <td>1</td>\n",
       "      <td>USER пипец, каждый день мимо хожу и не узнала....</td>\n",
       "    </tr>\n",
       "    <tr>\n",
       "      <th>103959</th>\n",
       "      <td>Завтра нужно подойти до учительницы английског...</td>\n",
       "      <td>0</td>\n",
       "      <td>завтра нужно подойти до учительницы английског...</td>\n",
       "    </tr>\n",
       "    <tr>\n",
       "      <th>31281</th>\n",
       "      <td>глупая маленькая девочка :D вот убивают такие ...</td>\n",
       "      <td>1</td>\n",
       "      <td>глупая маленькая девочка :d вот убивают такие ...</td>\n",
       "    </tr>\n",
       "    <tr>\n",
       "      <th>94653</th>\n",
       "      <td>К сожалению, в iPhone нет основной и единствен...</td>\n",
       "      <td>0</td>\n",
       "      <td>к сожалению, в iphone нет основной и единствен...</td>\n",
       "    </tr>\n",
       "    <tr>\n",
       "      <th>106405</th>\n",
       "      <td>Быстрее бы этот год уже закончился. Я - слабак...</td>\n",
       "      <td>1</td>\n",
       "      <td>быстрее бы этот год уже закончился. я - слабак...</td>\n",
       "    </tr>\n",
       "    <tr>\n",
       "      <th>...</th>\n",
       "      <td>...</td>\n",
       "      <td>...</td>\n",
       "      <td>...</td>\n",
       "    </tr>\n",
       "    <tr>\n",
       "      <th>93513</th>\n",
       "      <td>Сделать то , что я пыталась сделать все канику...</td>\n",
       "      <td>0</td>\n",
       "      <td>сделать то , что я пыталась сделать все канику...</td>\n",
       "    </tr>\n",
       "    <tr>\n",
       "      <th>49302</th>\n",
       "      <td>@Muravejchik сайлент хилл? Фредди против Джейс...</td>\n",
       "      <td>0</td>\n",
       "      <td>USER сайлент хилл? фредди против джейсона? тех...</td>\n",
       "    </tr>\n",
       "    <tr>\n",
       "      <th>21199</th>\n",
       "      <td>RT @Dallisnotonfire: @viktorysmail5 ой))))) сы...</td>\n",
       "      <td>1</td>\n",
       "      <td>rt USER USER ой))))) сына тоже можно будет наз...</td>\n",
       "    </tr>\n",
       "    <tr>\n",
       "      <th>8627</th>\n",
       "      <td>Иногда бесит, но ничего не попишешь :)\\nЭто же...</td>\n",
       "      <td>1</td>\n",
       "      <td>иногда бесит, но ничего не попишешь :) это же ...</td>\n",
       "    </tr>\n",
       "    <tr>\n",
       "      <th>10028</th>\n",
       "      <td>я люблю пятницу)))\\nахахаха\\nи так каждый раз)...</td>\n",
       "      <td>1</td>\n",
       "      <td>я люблю пятницу))) ахахаха и так каждый раз)лю...</td>\n",
       "    </tr>\n",
       "  </tbody>\n",
       "</table>\n",
       "<p>90000 rows × 3 columns</p>\n",
       "</div>"
      ],
      "text/plain": [
       "                                                     text  ...                                       preprocessed\n",
       "3590    @aduckevich пипец, каждый день мимо хожу и не ...  ...  USER пипец, каждый день мимо хожу и не узнала....\n",
       "103959  Завтра нужно подойти до учительницы английског...  ...  завтра нужно подойти до учительницы английског...\n",
       "31281   глупая маленькая девочка :D вот убивают такие ...  ...  глупая маленькая девочка :d вот убивают такие ...\n",
       "94653   К сожалению, в iPhone нет основной и единствен...  ...  к сожалению, в iphone нет основной и единствен...\n",
       "106405  Быстрее бы этот год уже закончился. Я - слабак...  ...  быстрее бы этот год уже закончился. я - слабак...\n",
       "...                                                   ...  ...                                                ...\n",
       "93513   Сделать то , что я пыталась сделать все канику...  ...  сделать то , что я пыталась сделать все канику...\n",
       "49302   @Muravejchik сайлент хилл? Фредди против Джейс...  ...  USER сайлент хилл? фредди против джейсона? тех...\n",
       "21199   RT @Dallisnotonfire: @viktorysmail5 ой))))) сы...  ...  rt USER USER ой))))) сына тоже можно будет наз...\n",
       "8627    Иногда бесит, но ничего не попишешь :)\\nЭто же...  ...  иногда бесит, но ничего не попишешь :) это же ...\n",
       "10028   я люблю пятницу)))\\nахахаха\\nи так каждый раз)...  ...  я люблю пятницу))) ахахаха и так каждый раз)лю...\n",
       "\n",
       "[90000 rows x 3 columns]"
      ]
     },
     "execution_count": 13,
     "metadata": {},
     "output_type": "execute_result"
    }
   ],
   "source": [
    "train_sentences"
   ]
  },
  {
   "cell_type": "code",
   "execution_count": 14,
   "metadata": {
    "colab": {
     "base_uri": "https://localhost:8080/"
    },
    "id": "2_qvhxW8jxqj",
    "outputId": "27cb8ea9-c6b2-4e3b-f83c-4a6c5700726c"
   },
   "outputs": [
    {
     "name": "stdout",
     "output_type": "stream",
     "text": [
      "всего уникальных токенов: 226970\n"
     ]
    }
   ],
   "source": [
    "vocab = Counter()\n",
    "\n",
    "for text in tweets_data['text']:\n",
    "    vocab.update(preprocess(text))\n",
    "print('всего уникальных токенов:', len(vocab))"
   ]
  },
  {
   "cell_type": "code",
   "execution_count": 15,
   "metadata": {
    "colab": {
     "base_uri": "https://localhost:8080/",
     "height": 419
    },
    "id": "mJpUDRPgkZyA",
    "outputId": "c55fb0ae-b42b-4131-8b5f-2d30ce69d680"
   },
   "outputs": [
    {
     "data": {
      "text/html": [
       "<div>\n",
       "<style scoped>\n",
       "    .dataframe tbody tr th:only-of-type {\n",
       "        vertical-align: middle;\n",
       "    }\n",
       "\n",
       "    .dataframe tbody tr th {\n",
       "        vertical-align: top;\n",
       "    }\n",
       "\n",
       "    .dataframe thead th {\n",
       "        text-align: right;\n",
       "    }\n",
       "</style>\n",
       "<table border=\"1\" class=\"dataframe\">\n",
       "  <thead>\n",
       "    <tr style=\"text-align: right;\">\n",
       "      <th></th>\n",
       "      <th>text</th>\n",
       "      <th>tone</th>\n",
       "      <th>preprocessed</th>\n",
       "    </tr>\n",
       "  </thead>\n",
       "  <tbody>\n",
       "    <tr>\n",
       "      <th>73510</th>\n",
       "      <td>@korovka_mu_mu та шик\\nхавка тви салюты\\nта эт...</td>\n",
       "      <td>0</td>\n",
       "      <td>USER та шик хавка тви салюты та это бы самый л...</td>\n",
       "    </tr>\n",
       "    <tr>\n",
       "      <th>3770</th>\n",
       "      <td>RT @Lezhnevs: Оказывается нашу жизнь можно оха...</td>\n",
       "      <td>1</td>\n",
       "      <td>rt USER оказывается нашу жизнь можно охарактер...</td>\n",
       "    </tr>\n",
       "    <tr>\n",
       "      <th>103024</th>\n",
       "      <td>Михримах...нет.(((\\nнельзя выходить замуж на з...</td>\n",
       "      <td>0</td>\n",
       "      <td>михримах...нет.((( нельзя выходить замуж на зл...</td>\n",
       "    </tr>\n",
       "    <tr>\n",
       "      <th>91018</th>\n",
       "      <td>В свежей серии гриффинов у Питера медиатор в д...</td>\n",
       "      <td>1</td>\n",
       "      <td>в свежей серии гриффинов у питера медиатор в д...</td>\n",
       "    </tr>\n",
       "    <tr>\n",
       "      <th>12174</th>\n",
       "      <td>делать совсем нечего( http://t.co/ryvuUSg6F9</td>\n",
       "      <td>0</td>\n",
       "      <td>делать совсем нечего( URL</td>\n",
       "    </tr>\n",
       "    <tr>\n",
       "      <th>...</th>\n",
       "      <td>...</td>\n",
       "      <td>...</td>\n",
       "      <td>...</td>\n",
       "    </tr>\n",
       "    <tr>\n",
       "      <th>24814</th>\n",
       "      <td>Разачароваться в человеке ничего не стоит 5 ми...</td>\n",
       "      <td>0</td>\n",
       "      <td>разачароваться в человеке ничего не стоит 5 ми...</td>\n",
       "    </tr>\n",
       "    <tr>\n",
       "      <th>59464</th>\n",
       "      <td>@chriscalfer @jenahendersona Колфер дело говор...</td>\n",
       "      <td>1</td>\n",
       "      <td>USER USER колфер дело говорит. я же программис...</td>\n",
       "    </tr>\n",
       "    <tr>\n",
       "      <th>53774</th>\n",
       "      <td>@MatweeAlexeev был бы шум белым - было б здоро...</td>\n",
       "      <td>0</td>\n",
       "      <td>USER был бы шум белым - было б здорово. тут на...</td>\n",
       "    </tr>\n",
       "    <tr>\n",
       "      <th>72793</th>\n",
       "      <td>@J_Farafoshina  я тоже уже сдохну скоро с этим...</td>\n",
       "      <td>1</td>\n",
       "      <td>USER я тоже уже сдохну скоро с этим дз. а у ме...</td>\n",
       "    </tr>\n",
       "    <tr>\n",
       "      <th>52206</th>\n",
       "      <td>@serrtuk_uno @igorg1975 Очень много была\"в нар...</td>\n",
       "      <td>0</td>\n",
       "      <td>USER USER очень много была\"в народе\"на мэрской...</td>\n",
       "    </tr>\n",
       "  </tbody>\n",
       "</table>\n",
       "<p>100000 rows × 3 columns</p>\n",
       "</div>"
      ],
      "text/plain": [
       "                                                     text  ...                                       preprocessed\n",
       "73510   @korovka_mu_mu та шик\\nхавка тви салюты\\nта эт...  ...  USER та шик хавка тви салюты та это бы самый л...\n",
       "3770    RT @Lezhnevs: Оказывается нашу жизнь можно оха...  ...  rt USER оказывается нашу жизнь можно охарактер...\n",
       "103024  Михримах...нет.(((\\nнельзя выходить замуж на з...  ...  михримах...нет.((( нельзя выходить замуж на зл...\n",
       "91018   В свежей серии гриффинов у Питера медиатор в д...  ...  в свежей серии гриффинов у питера медиатор в д...\n",
       "12174        делать совсем нечего( http://t.co/ryvuUSg6F9  ...                          делать совсем нечего( URL\n",
       "...                                                   ...  ...                                                ...\n",
       "24814   Разачароваться в человеке ничего не стоит 5 ми...  ...  разачароваться в человеке ничего не стоит 5 ми...\n",
       "59464   @chriscalfer @jenahendersona Колфер дело говор...  ...  USER USER колфер дело говорит. я же программис...\n",
       "53774   @MatweeAlexeev был бы шум белым - было б здоро...  ...  USER был бы шум белым - было б здорово. тут на...\n",
       "72793   @J_Farafoshina  я тоже уже сдохну скоро с этим...  ...  USER я тоже уже сдохну скоро с этим дз. а у ме...\n",
       "52206   @serrtuk_uno @igorg1975 Очень много была\"в нар...  ...  USER USER очень много была\"в народе\"на мэрской...\n",
       "\n",
       "[100000 rows x 3 columns]"
      ]
     },
     "execution_count": 15,
     "metadata": {},
     "output_type": "execute_result"
    }
   ],
   "source": [
    "tweets_data"
   ]
  },
  {
   "cell_type": "code",
   "execution_count": 16,
   "metadata": {
    "colab": {
     "base_uri": "https://localhost:8080/"
    },
    "id": "VjOnxY-nkw5G",
    "outputId": "8260df5d-9324-4119-892d-7bf5374792e9"
   },
   "outputs": [
    {
     "name": "stdout",
     "output_type": "stream",
     "text": [
      "уникальных токенов, втретившихся больше 5 раз: 14417\n"
     ]
    }
   ],
   "source": [
    "filtered_vocab = set()\n",
    "\n",
    "for word in vocab:\n",
    "    if vocab[word] > 5:\n",
    "        filtered_vocab.add(word)\n",
    "print('уникальных токенов, втретившихся больше 5 раз:', len(filtered_vocab))"
   ]
  },
  {
   "cell_type": "code",
   "execution_count": 17,
   "metadata": {
    "id": "0dvd04xekmYr"
   },
   "outputs": [],
   "source": [
    "#создаем словарь с индексами word2id, для спецсимвола паддинга дефолтный индекс - 0\n",
    "word2id = {'PAD':0}\n",
    "\n",
    "for word in filtered_vocab:\n",
    "    word2id[word] = len(word2id)"
   ]
  },
  {
   "cell_type": "code",
   "execution_count": 18,
   "metadata": {
    "id": "fv5f9acRkmbG"
   },
   "outputs": [],
   "source": [
    "#обратный словарь для того, чтобы раскодировать последовательность\n",
    "id2word = {i:word for word, i in word2id.items()}"
   ]
  },
  {
   "cell_type": "code",
   "execution_count": 19,
   "metadata": {
    "colab": {
     "base_uri": "https://localhost:8080/"
    },
    "id": "sOei8kIEkmdR",
    "outputId": "3e3bcb57-9081-4917-ec18-222fc3ecc1c6"
   },
   "outputs": [
    {
     "data": {
      "text/plain": [
       "device(type='cuda')"
      ]
     },
     "execution_count": 19,
     "metadata": {},
     "output_type": "execute_result"
    }
   ],
   "source": [
    "DEVICE = torch.device('cuda') if torch.cuda.is_available() else torch.device('cpu')\n",
    "DEVICE"
   ]
  },
  {
   "cell_type": "code",
   "execution_count": 30,
   "metadata": {
    "id": "GqPql4G1k8Ti"
   },
   "outputs": [],
   "source": [
    "class TweetsDataset(Dataset):\n",
    "\n",
    "    def __init__(self, dataset, word2id, DEVICE):\n",
    "        self.dataset = dataset['preprocessed'].values\n",
    "        self.word2id = word2id\n",
    "        self.length = dataset.shape[0]\n",
    "        self.target = torch.Tensor(dataset['tone'].values)\n",
    "        self.device = DEVICE\n",
    "\n",
    "    def __len__(self): \n",
    "        return self.length\n",
    "\n",
    "    def __getitem__(self, index):\n",
    "        tokens = self.dataset[index].split()\n",
    "        ids = torch.LongTensor([self.word2id[token] for token in tokens if token in self.word2id])\n",
    "        y = [self.target[index]]\n",
    "        return ids, y\n",
    "\n",
    "    def collate_fn(self, batch):\n",
    "        ids, y = list(zip(*batch))\n",
    "        padded_ids = pad_sequence(ids, batch_first=True).to(self.device)\n",
    "        y = torch.Tensor(y).to(self.device)\n",
    "        return padded_ids, y"
   ]
  },
  {
   "cell_type": "code",
   "execution_count": 31,
   "metadata": {
    "id": "OSDqxg7tlR8M"
   },
   "outputs": [],
   "source": [
    "train_dataset = TweetsDataset(train_sentences, word2id, DEVICE)\n",
    "train_sampler = RandomSampler(train_dataset)\n",
    "train_iterator = DataLoader(train_dataset, collate_fn = train_dataset.collate_fn, sampler=train_sampler, batch_size=1024)"
   ]
  },
  {
   "cell_type": "code",
   "execution_count": 32,
   "metadata": {
    "id": "9eLtibR-l1yO"
   },
   "outputs": [],
   "source": [
    "val_dataset = TweetsDataset(val_sentences, word2id, DEVICE)\n",
    "val_sampler = SequentialSampler(val_dataset)\n",
    "val_iterator = DataLoader(val_dataset, collate_fn = val_dataset.collate_fn, sampler=val_sampler, batch_size=1024)"
   ]
  },
  {
   "cell_type": "code",
   "execution_count": null,
   "metadata": {
    "id": "vLxQ7g0plSCc"
   },
   "outputs": [],
   "source": [
    "batch = next(iter(train_iterator))\n",
    "val_batch = next(iter(val_iterator))"
   ]
  },
  {
   "cell_type": "code",
   "execution_count": 24,
   "metadata": {
    "colab": {
     "base_uri": "https://localhost:8080/"
    },
    "id": "ltBEfQOzlSJV",
    "outputId": "e12dd75d-2714-4070-f786-8e2368295704"
   },
   "outputs": [
    {
     "data": {
      "text/plain": [
       "(tensor([[11565, 10327,  8184,  ...,     0,     0,     0],\n",
       "         [12822,  9668,  6378,  ...,     0,     0,     0],\n",
       "         [ 3288,  1351, 14387,  ...,     0,     0,     0],\n",
       "         ...,\n",
       "         [  942, 12708, 12555,  ...,     0,     0,     0],\n",
       "         [ 9019,  3775, 10287,  ...,     0,     0,     0],\n",
       "         [ 2497,  8838,  5493,  ...,     0,     0,     0]], device='cuda:0'),\n",
       " tensor([[1.],\n",
       "         [1.],\n",
       "         [0.],\n",
       "         ...,\n",
       "         [0.],\n",
       "         [1.],\n",
       "         [1.]], device='cuda:0'))"
      ]
     },
     "execution_count": 24,
     "metadata": {},
     "output_type": "execute_result"
    }
   ],
   "source": [
    "batch"
   ]
  },
  {
   "cell_type": "code",
   "execution_count": 20,
   "metadata": {
    "id": "iU5gZFLvuizN"
   },
   "outputs": [],
   "source": [
    "def train(train_dataloader, val_dataloader, model, optimizer, criterion, \n",
    "          NUM_EPOCHS, metric, device=DEVICE):\n",
    "    \n",
    "    model.to(device)\n",
    "\n",
    "    losses = []\n",
    "    val_losses = []\n",
    "    f1scores = []\n",
    "    val_f1scores = []\n",
    "\n",
    "    for epoch in range(NUM_EPOCHS):\n",
    "        print(\"\")\n",
    "        print('======== Epoch {:} / {:} ========'.format(epoch + 1, NUM_EPOCHS))\n",
    "\n",
    "        model.train()  \n",
    "        print('\\nTraining...')\n",
    "\n",
    "    # ========================================\n",
    "    #               Training\n",
    "    # ========================================\n",
    "\n",
    "        epoch_loss = [] \n",
    "        epoch_metric = []\n",
    "\n",
    "        for i, (*x, y) in enumerate(train_dataloader, 1):\n",
    "            optimizer.zero_grad()\n",
    "            preds = model(*x)\n",
    "            loss = criterion(preds, y)\n",
    "            loss.backward()\n",
    "            optimizer.step()\n",
    "            epoch_loss.append(loss.item())\n",
    "            batch_metric = metric(preds.round().long(), y.long(), ignore_index=0)\n",
    "            epoch_metric.append(batch_metric.cpu().numpy())\n",
    "        losses.extend(epoch_loss)\n",
    "        f1scores.extend(epoch_metric)\n",
    "\n",
    "        print('Train loss: ', np.mean(epoch_loss))\n",
    "        print('Train metric: ', np.mean(epoch_metric))\n",
    "\n",
    "        val_loss, val_metric = evaluate(val_dataloader, model, criterion, metric, device)\n",
    "        val_losses.extend(val_loss)\n",
    "        val_f1scores.extend(val_metric)\n",
    "\n",
    "    return losses, f1scores, val_losses, val_f1scores\n",
    "\n",
    "\n",
    "def evaluate(dataloader, model, criterion, metric, device=DEVICE):\n",
    "    \n",
    "    print('\\n~/~/~/~/~/~/~/~/~/~/~/~/~/~/~/~')\n",
    "    print('\\nValidation...')\n",
    "    # ========================================\n",
    "    #               Validation\n",
    "    # ========================================\n",
    "    epoch_loss = []\n",
    "    epoch_metric = []\n",
    "    model.eval() \n",
    "\n",
    "    with torch.no_grad():\n",
    "        for i, (*x, y) in enumerate(dataloader):\n",
    "            preds = model(*x)\n",
    "            loss = criterion(preds, y)\n",
    "            epoch_loss.append(loss.item())\n",
    "            batch_metric = metric(preds.round().long(), y.long(), ignore_index=0)\n",
    "            epoch_metric.append(batch_metric.cpu().numpy())\n",
    "    \n",
    "    print('Val loss: ', np.mean(epoch_loss))\n",
    "    print('Val metric: ', np.mean(epoch_metric))\n",
    "        \n",
    "    return epoch_loss, epoch_metric"
   ]
  },
  {
   "cell_type": "code",
   "execution_count": 29,
   "metadata": {
    "id": "OmAFnl52WuTv"
   },
   "outputs": [],
   "source": [
    "class myCNN_1(nn.Module):\n",
    "    \n",
    "    def __init__(self, vocab_size, embedding_dim):\n",
    "        super().__init__()\n",
    "        self.embedding = nn.Embedding(vocab_size, embedding_dim)\n",
    "        self.bigrams = nn.Conv1d(in_channels=embedding_dim, out_channels=50, kernel_size=2, padding='same')\n",
    "        self.trigrams = nn.Conv1d(in_channels=embedding_dim, out_channels=70, kernel_size=3, padding='same')\n",
    "        self.sec_conv = nn.Conv1d(in_channels=120, out_channels=30, kernel_size=3, padding='same')\n",
    "        self.pooling = nn.MaxPool1d(kernel_size=2, stride=1)\n",
    "        self.relu = nn.ReLU()\n",
    "        self.hidden = nn.Linear(in_features=30, out_features=1)\n",
    "        self.out = nn.Sigmoid()\n",
    "\n",
    "    def forward(self, word):\n",
    "        embedded = self.embedding(word)\n",
    "        embedded = embedded.transpose(1,2)\n",
    "        feature_map_bigrams = self.relu(self.bigrams(embedded))\n",
    "        feature_map_trigrams = self.relu(self.trigrams(embedded))\n",
    "        concat = torch.cat((feature_map_bigrams, feature_map_trigrams), 1)\n",
    "        concat = self.pooling(self.relu(self.sec_conv(concat)))\n",
    "        pooling1 = concat.max(2)[0]\n",
    "        logits = self.hidden(pooling1) \n",
    "        logits = self.out(logits)    \n",
    "        return logits"
   ]
  },
  {
   "cell_type": "code",
   "execution_count": null,
   "metadata": {
    "colab": {
     "base_uri": "https://localhost:8080/"
    },
    "id": "ZdzfmW-QEKJl",
    "outputId": "a285994a-a647-4dd5-8f61-82b48743ce63"
   },
   "outputs": [
    {
     "name": "stdout",
     "output_type": "stream",
     "text": [
      "\n",
      "======== Epoch 1 / 10 ========\n",
      "\n",
      "Training...\n",
      "Train loss:  0.5330585833977569\n",
      "Train metric:  0.7177462\n",
      "\n",
      "~/~/~/~/~/~/~/~/~/~/~/~/~/~/~/~\n",
      "\n",
      "Validation...\n",
      "Val loss:  0.46784428358078\n",
      "Val metric:  0.75311196\n",
      "\n",
      "======== Epoch 2 / 10 ========\n",
      "\n",
      "Training...\n",
      "Train loss:  0.4367589794776656\n",
      "Train metric:  0.7713154\n",
      "\n",
      "~/~/~/~/~/~/~/~/~/~/~/~/~/~/~/~\n",
      "\n",
      "Validation...\n",
      "Val loss:  0.42142696380615235\n",
      "Val metric:  0.7836741\n",
      "\n",
      "======== Epoch 3 / 10 ========\n",
      "\n",
      "Training...\n",
      "Train loss:  0.3890229361978444\n",
      "Train metric:  0.80409545\n",
      "\n",
      "~/~/~/~/~/~/~/~/~/~/~/~/~/~/~/~\n",
      "\n",
      "Validation...\n",
      "Val loss:  0.3991921961307526\n",
      "Val metric:  0.7961368\n",
      "\n",
      "======== Epoch 4 / 10 ========\n",
      "\n",
      "Training...\n",
      "Train loss:  0.3541033200242303\n",
      "Train metric:  0.8255749\n",
      "\n",
      "~/~/~/~/~/~/~/~/~/~/~/~/~/~/~/~\n",
      "\n",
      "Validation...\n",
      "Val loss:  0.38349699378013613\n",
      "Val metric:  0.80413306\n",
      "\n",
      "======== Epoch 5 / 10 ========\n",
      "\n",
      "Training...\n",
      "Train loss:  0.3194840110161088\n",
      "Train metric:  0.8470015\n",
      "\n",
      "~/~/~/~/~/~/~/~/~/~/~/~/~/~/~/~\n",
      "\n",
      "Validation...\n",
      "Val loss:  0.38045271635055544\n",
      "Val metric:  0.8115674\n",
      "\n",
      "======== Epoch 6 / 10 ========\n",
      "\n",
      "Training...\n",
      "Train loss:  0.2905922938476909\n",
      "Train metric:  0.86484283\n",
      "\n",
      "~/~/~/~/~/~/~/~/~/~/~/~/~/~/~/~\n",
      "\n",
      "Validation...\n",
      "Val loss:  0.3779486298561096\n",
      "Val metric:  0.8136791\n",
      "\n",
      "======== Epoch 7 / 10 ========\n",
      "\n",
      "Training...\n",
      "Train loss:  0.26519604078070685\n",
      "Train metric:  0.87964684\n",
      "\n",
      "~/~/~/~/~/~/~/~/~/~/~/~/~/~/~/~\n",
      "\n",
      "Validation...\n",
      "Val loss:  0.38031535148620604\n",
      "Val metric:  0.81970835\n",
      "\n",
      "======== Epoch 8 / 10 ========\n",
      "\n",
      "Training...\n",
      "Train loss:  0.23894666863436048\n",
      "Train metric:  0.89524704\n",
      "\n",
      "~/~/~/~/~/~/~/~/~/~/~/~/~/~/~/~\n",
      "\n",
      "Validation...\n",
      "Val loss:  0.3871308833360672\n",
      "Val metric:  0.817068\n",
      "\n",
      "======== Epoch 9 / 10 ========\n",
      "\n",
      "Training...\n",
      "Train loss:  0.2179038595746864\n",
      "Train metric:  0.9060715\n",
      "\n",
      "~/~/~/~/~/~/~/~/~/~/~/~/~/~/~/~\n",
      "\n",
      "Validation...\n",
      "Val loss:  0.3981770634651184\n",
      "Val metric:  0.8162357\n",
      "\n",
      "======== Epoch 10 / 10 ========\n",
      "\n",
      "Training...\n",
      "Train loss:  0.19522908245297996\n",
      "Train metric:  0.91905314\n",
      "\n",
      "~/~/~/~/~/~/~/~/~/~/~/~/~/~/~/~\n",
      "\n",
      "Validation...\n",
      "Val loss:  0.4198737859725952\n",
      "Val metric:  0.8067439\n"
     ]
    }
   ],
   "source": [
    "model = myCNN_1(len(word2id), 100)\n",
    "optimizer = optim.Adam(model.parameters(), lr=0.001)\n",
    "criterion = nn.BCELoss()\n",
    "\n",
    "\n",
    "train_loss, train_f1, val_loss, val_f1 = train(train_dataloader=train_iterator,\n",
    "                                               val_dataloader=val_iterator,\n",
    "                                               model=model,\n",
    "                                               optimizer=optimizer,\n",
    "                                               criterion=criterion,\n",
    "                                               NUM_EPOCHS=10,\n",
    "                                               metric=f1)"
   ]
  },
  {
   "cell_type": "code",
   "execution_count": null,
   "metadata": {
    "id": "DVOgv6v01cvO"
   },
   "outputs": [],
   "source": [
    "import matplotlib.pyplot as plt\n",
    "\n",
    "def show_results(train_loss, train_f1, val_loss, val_f1):\n",
    "  plt.figure(figsize=(8, 6))\n",
    "  plt.plot(train_loss)\n",
    "  plt.plot(train_f1)\n",
    "  plt.title('TRAIN')\n",
    "  plt.ylabel('score')\n",
    "  plt.xlabel('iterations')\n",
    "  plt.grid()\n",
    "  plt.legend(['loss', 'f1-score'], loc='upper right')\n",
    "  plt.show()\n",
    "  \n",
    "  plt.figure(figsize=(8, 6))\n",
    "  plt.plot(val_loss)\n",
    "  plt.plot(val_f1)\n",
    "  plt.title('TEST')\n",
    "  plt.ylabel('score')\n",
    "  plt.xlabel('iterations')\n",
    "  plt.grid()\n",
    "  plt.legend(['loss', 'f1-score'], loc='upper right')\n",
    "  plt.show()"
   ]
  },
  {
   "cell_type": "code",
   "execution_count": null,
   "metadata": {
    "colab": {
     "base_uri": "https://localhost:8080/",
     "height": 791
    },
    "id": "pbba_-tR3yzp",
    "outputId": "c87bdd2e-8351-4057-c026-d0a162d153ef"
   },
   "outputs": [
    {
     "data": {
      "image/png": "[encoded data removed]",
      "text/plain": [
       "<Figure size 576x432 with 1 Axes>"
      ]
     },
     "metadata": {
      "needs_background": "light"
     },
     "output_type": "display_data"
    },
    {
     "data": {
      "image/png": "[encoded data removed]",
      "text/plain": [
       "<Figure size 576x432 with 1 Axes>"
      ]
     },
     "metadata": {
      "needs_background": "light"
     },
     "output_type": "display_data"
    }
   ],
   "source": [
    "show_results(train_loss, train_f1, val_loss, val_f1)"
   ]
  },
  {
   "cell_type": "markdown",
   "metadata": {
    "id": "AxJASMX7YG1t"
   },
   "source": [
    "по графику видно, что в какой-то момент лосс начинает расти, мы переобучаемся.."
   ]
  },
  {
   "cell_type": "markdown",
   "metadata": {
    "id": "Ob3DaLnqYf_m"
   },
   "source": [
    "попробуем добавить дропаутов"
   ]
  },
  {
   "cell_type": "code",
   "execution_count": null,
   "metadata": {
    "id": "FMwNvTuV_bcP"
   },
   "outputs": [],
   "source": [
    "class myCNN_1(nn.Module):\n",
    "    \n",
    "    def __init__(self, vocab_size, embedding_dim):\n",
    "        super().__init__()\n",
    "        self.embedding = nn.Embedding(vocab_size, embedding_dim)\n",
    "        self.bigrams = nn.Conv1d(in_channels=embedding_dim, out_channels=50, kernel_size=2, padding='same')\n",
    "        self.trigrams = nn.Conv1d(in_channels=embedding_dim, out_channels=70, kernel_size=3, padding='same')\n",
    "        self.sec_conv = nn.Conv1d(in_channels=120, out_channels=30, kernel_size=3, padding='same')\n",
    "        self.pooling = nn.MaxPool1d(kernel_size=2, stride=1)\n",
    "        self.relu = nn.ReLU()\n",
    "        self.hidden = nn.Linear(in_features=30, out_features=1)\n",
    "        self.dropout = nn.Dropout(p=0.5)\n",
    "        self.out = nn.Sigmoid()\n",
    "\n",
    "    def forward(self, word):\n",
    "        embedded = self.embedding(word)\n",
    "        embedded = embedded.transpose(1,2)\n",
    "        feature_map_bigrams = self.dropout(self.relu(self.bigrams(embedded)))\n",
    "        feature_map_trigrams = self.dropout(self.relu(self.trigrams(embedded)))\n",
    "        concat = torch.cat((feature_map_bigrams, feature_map_trigrams), 1)\n",
    "        concat = self.pooling(self.relu(self.sec_conv(concat)))\n",
    "        pooling1 = concat.max(2)[0]\n",
    "        logits = self.hidden(pooling1) \n",
    "        logits = self.out(logits)    \n",
    "        return logits"
   ]
  },
  {
   "cell_type": "code",
   "execution_count": null,
   "metadata": {
    "colab": {
     "base_uri": "https://localhost:8080/"
    },
    "id": "gAY0dfSvY8aO",
    "outputId": "6ba81ba4-5769-485c-c720-851a87f65f58"
   },
   "outputs": [
    {
     "name": "stdout",
     "output_type": "stream",
     "text": [
      "\n",
      "======== Epoch 1 / 10 ========\n",
      "\n",
      "Training...\n",
      "Train loss:  0.5881347561424429\n",
      "Train metric:  0.66985106\n",
      "\n",
      "~/~/~/~/~/~/~/~/~/~/~/~/~/~/~/~\n",
      "\n",
      "Validation...\n",
      "Val loss:  0.49451699256896975\n",
      "Val metric:  0.71274906\n",
      "\n",
      "======== Epoch 2 / 10 ========\n",
      "\n",
      "Training...\n",
      "Train loss:  0.4717236825010993\n",
      "Train metric:  0.749588\n",
      "\n",
      "~/~/~/~/~/~/~/~/~/~/~/~/~/~/~/~\n",
      "\n",
      "Validation...\n",
      "Val loss:  0.4337932676076889\n",
      "Val metric:  0.76964664\n",
      "\n",
      "======== Epoch 3 / 10 ========\n",
      "\n",
      "Training...\n",
      "Train loss:  0.4236778098751198\n",
      "Train metric:  0.78160894\n",
      "\n",
      "~/~/~/~/~/~/~/~/~/~/~/~/~/~/~/~\n",
      "\n",
      "Validation...\n",
      "Val loss:  0.4090371817350388\n",
      "Val metric:  0.77768755\n",
      "\n",
      "======== Epoch 4 / 10 ========\n",
      "\n",
      "Training...\n",
      "Train loss:  0.3922517452050339\n",
      "Train metric:  0.80121094\n",
      "\n",
      "~/~/~/~/~/~/~/~/~/~/~/~/~/~/~/~\n",
      "\n",
      "Validation...\n",
      "Val loss:  0.38959996700286864\n",
      "Val metric:  0.79184306\n",
      "\n",
      "======== Epoch 5 / 10 ========\n",
      "\n",
      "Training...\n",
      "Train loss:  0.3669559508562088\n",
      "Train metric:  0.8164099\n",
      "\n",
      "~/~/~/~/~/~/~/~/~/~/~/~/~/~/~/~\n",
      "\n",
      "Validation...\n",
      "Val loss:  0.37817096412181855\n",
      "Val metric:  0.803151\n",
      "\n",
      "======== Epoch 6 / 10 ========\n",
      "\n",
      "Training...\n",
      "Train loss:  0.34521290829235857\n",
      "Train metric:  0.83097607\n",
      "\n",
      "~/~/~/~/~/~/~/~/~/~/~/~/~/~/~/~\n",
      "\n",
      "Validation...\n",
      "Val loss:  0.3703944534063339\n",
      "Val metric:  0.81166303\n",
      "\n",
      "======== Epoch 7 / 10 ========\n",
      "\n",
      "Training...\n",
      "Train loss:  0.32673647424036806\n",
      "Train metric:  0.8407481\n",
      "\n",
      "~/~/~/~/~/~/~/~/~/~/~/~/~/~/~/~\n",
      "\n",
      "Validation...\n",
      "Val loss:  0.36443895697593687\n",
      "Val metric:  0.81434345\n",
      "\n",
      "======== Epoch 8 / 10 ========\n",
      "\n",
      "Training...\n",
      "Train loss:  0.311362800611691\n",
      "Train metric:  0.8512178\n",
      "\n",
      "~/~/~/~/~/~/~/~/~/~/~/~/~/~/~/~\n",
      "\n",
      "Validation...\n",
      "Val loss:  0.3595400840044022\n",
      "Val metric:  0.81998795\n",
      "\n",
      "======== Epoch 9 / 10 ========\n",
      "\n",
      "Training...\n",
      "Train loss:  0.2965320267460563\n",
      "Train metric:  0.85863894\n",
      "\n",
      "~/~/~/~/~/~/~/~/~/~/~/~/~/~/~/~\n",
      "\n",
      "Validation...\n",
      "Val loss:  0.35735108852386477\n",
      "Val metric:  0.8232552\n",
      "\n",
      "======== Epoch 10 / 10 ========\n",
      "\n",
      "Training...\n",
      "Train loss:  0.2827746212821115\n",
      "Train metric:  0.8671067\n",
      "\n",
      "~/~/~/~/~/~/~/~/~/~/~/~/~/~/~/~\n",
      "\n",
      "Validation...\n",
      "Val loss:  0.3603862255811691\n",
      "Val metric:  0.82720184\n"
     ]
    }
   ],
   "source": [
    "model = myCNN_1(len(word2id), 100)\n",
    "optimizer = optim.Adam(model.parameters(), lr=0.001)\n",
    "criterion = nn.BCELoss()\n",
    "\n",
    "\n",
    "train_loss, train_f1, val_loss, val_f1 = train(train_dataloader=train_iterator,\n",
    "                                               val_dataloader=val_iterator,\n",
    "                                               model=model,\n",
    "                                               optimizer=optimizer,\n",
    "                                               criterion=criterion,\n",
    "                                               NUM_EPOCHS=10,\n",
    "                                               metric=f1)"
   ]
  },
  {
   "cell_type": "code",
   "execution_count": null,
   "metadata": {
    "colab": {
     "base_uri": "https://localhost:8080/",
     "height": 791
    },
    "id": "dWI1Cq8wY8dS",
    "outputId": "9ebf5eb6-241e-46c1-df28-e53e55c671f5"
   },
   "outputs": [
    {
     "data": {
      "image/png": "[encoded data removed]",
      "text/plain": [
       "<Figure size 576x432 with 1 Axes>"
      ]
     },
     "metadata": {
      "needs_background": "light"
     },
     "output_type": "display_data"
    },
    {
     "data": {
      "image/png": "[encoded data removed]",
      "text/plain": [
       "<Figure size 576x432 with 1 Axes>"
      ]
     },
     "metadata": {
      "needs_background": "light"
     },
     "output_type": "display_data"
    }
   ],
   "source": [
    "show_results(train_loss, train_f1, val_loss, val_f1)"
   ]
  },
  {
   "cell_type": "markdown",
   "metadata": {
    "id": "y9gvf0pyZONK"
   },
   "source": [
    "кажется уже лучше, может еще чуть-чуть дропаута.."
   ]
  },
  {
   "cell_type": "code",
   "execution_count": null,
   "metadata": {
    "id": "R6JzXP5rZVeZ"
   },
   "outputs": [],
   "source": [
    "class myCNN_1(nn.Module):\n",
    "    \n",
    "    def __init__(self, vocab_size, embedding_dim):\n",
    "        super().__init__()\n",
    "        self.embedding = nn.Embedding(vocab_size, embedding_dim)\n",
    "        self.bigrams = nn.Conv1d(in_channels=embedding_dim, out_channels=50, kernel_size=2, padding='same')\n",
    "        self.trigrams = nn.Conv1d(in_channels=embedding_dim, out_channels=70, kernel_size=3, padding='same')\n",
    "        self.sec_conv = nn.Conv1d(in_channels=120, out_channels=30, kernel_size=3, padding='same')\n",
    "        self.pooling = nn.MaxPool1d(kernel_size=2, stride=1)\n",
    "        self.relu = nn.ReLU()\n",
    "        self.hidden = nn.Linear(in_features=30, out_features=1)\n",
    "        self.dropout = nn.Dropout(p=0.5)\n",
    "        self.out = nn.Sigmoid()\n",
    "\n",
    "    def forward(self, word):\n",
    "        embedded = self.embedding(word)\n",
    "        embedded = embedded.transpose(1,2)\n",
    "        feature_map_bigrams = self.dropout(self.relu(self.bigrams(embedded)))\n",
    "        feature_map_trigrams = self.dropout(self.relu(self.trigrams(embedded)))\n",
    "        concat = torch.cat((feature_map_bigrams, feature_map_trigrams), 1)\n",
    "        concat = self.dropout(self.pooling(self.relu(self.sec_conv(concat))))\n",
    "        pooling1 = concat.max(2)[0]\n",
    "        logits = self.hidden(pooling1) \n",
    "        logits = self.out(logits)    \n",
    "        return logits"
   ]
  },
  {
   "cell_type": "code",
   "execution_count": null,
   "metadata": {
    "colab": {
     "base_uri": "https://localhost:8080/"
    },
    "id": "mipSnFvRZrVE",
    "outputId": "6e1b7cd5-8ab9-4294-ee17-bb6491061039"
   },
   "outputs": [
    {
     "name": "stdout",
     "output_type": "stream",
     "text": [
      "\n",
      "======== Epoch 1 / 10 ========\n",
      "\n",
      "Training...\n",
      "Train loss:  0.5942642333155329\n",
      "Train metric:  0.6551035\n",
      "\n",
      "~/~/~/~/~/~/~/~/~/~/~/~/~/~/~/~\n",
      "\n",
      "Validation...\n",
      "Val loss:  0.5137253761291504\n",
      "Val metric:  0.7359711\n",
      "\n",
      "======== Epoch 2 / 10 ========\n",
      "\n",
      "Training...\n",
      "Train loss:  0.47361594303087756\n",
      "Train metric:  0.748892\n",
      "\n",
      "~/~/~/~/~/~/~/~/~/~/~/~/~/~/~/~\n",
      "\n",
      "Validation...\n",
      "Val loss:  0.4599021583795547\n",
      "Val metric:  0.770732\n",
      "\n",
      "======== Epoch 3 / 10 ========\n",
      "\n",
      "Training...\n",
      "Train loss:  0.42801194570281287\n",
      "Train metric:  0.77753884\n",
      "\n",
      "~/~/~/~/~/~/~/~/~/~/~/~/~/~/~/~\n",
      "\n",
      "Validation...\n",
      "Val loss:  0.43108320236206055\n",
      "Val metric:  0.7902848\n",
      "\n",
      "======== Epoch 4 / 10 ========\n",
      "\n",
      "Training...\n",
      "Train loss:  0.39548435333100235\n",
      "Train metric:  0.79918855\n",
      "\n",
      "~/~/~/~/~/~/~/~/~/~/~/~/~/~/~/~\n",
      "\n",
      "Validation...\n",
      "Val loss:  0.4091333419084549\n",
      "Val metric:  0.8045704\n",
      "\n",
      "======== Epoch 5 / 10 ========\n",
      "\n",
      "Training...\n",
      "Train loss:  0.36932189390063286\n",
      "Train metric:  0.8151915\n",
      "\n",
      "~/~/~/~/~/~/~/~/~/~/~/~/~/~/~/~\n",
      "\n",
      "Validation...\n",
      "Val loss:  0.3943906515836716\n",
      "Val metric:  0.8090951\n",
      "\n",
      "======== Epoch 6 / 10 ========\n",
      "\n",
      "Training...\n",
      "Train loss:  0.3472255078906363\n",
      "Train metric:  0.828898\n",
      "\n",
      "~/~/~/~/~/~/~/~/~/~/~/~/~/~/~/~\n",
      "\n",
      "Validation...\n",
      "Val loss:  0.3808537572622299\n",
      "Val metric:  0.8122057\n",
      "\n",
      "======== Epoch 7 / 10 ========\n",
      "\n",
      "Training...\n",
      "Train loss:  0.3283510370688005\n",
      "Train metric:  0.8417454\n",
      "\n",
      "~/~/~/~/~/~/~/~/~/~/~/~/~/~/~/~\n",
      "\n",
      "Validation...\n",
      "Val loss:  0.37200170159339907\n",
      "Val metric:  0.8208845\n",
      "\n",
      "======== Epoch 8 / 10 ========\n",
      "\n",
      "Training...\n",
      "Train loss:  0.3123416815969077\n",
      "Train metric:  0.848597\n",
      "\n",
      "~/~/~/~/~/~/~/~/~/~/~/~/~/~/~/~\n",
      "\n",
      "Validation...\n",
      "Val loss:  0.36212761998176574\n",
      "Val metric:  0.8208129\n",
      "\n",
      "======== Epoch 9 / 10 ========\n",
      "\n",
      "Training...\n",
      "Train loss:  0.2973295697434382\n",
      "Train metric:  0.85688305\n",
      "\n",
      "~/~/~/~/~/~/~/~/~/~/~/~/~/~/~/~\n",
      "\n",
      "Validation...\n",
      "Val loss:  0.3573735684156418\n",
      "Val metric:  0.81850445\n",
      "\n",
      "======== Epoch 10 / 10 ========\n",
      "\n",
      "Training...\n",
      "Train loss:  0.28522521833127196\n",
      "Train metric:  0.86418337\n",
      "\n",
      "~/~/~/~/~/~/~/~/~/~/~/~/~/~/~/~\n",
      "\n",
      "Validation...\n",
      "Val loss:  0.35239033997058866\n",
      "Val metric:  0.81990033\n"
     ]
    }
   ],
   "source": [
    "model = myCNN_1(len(word2id), 100)\n",
    "optimizer = optim.Adam(model.parameters(), lr=0.001)\n",
    "criterion = nn.BCELoss()\n",
    "\n",
    "\n",
    "train_loss, train_f1, val_loss, val_f1 = train(train_dataloader=train_iterator,\n",
    "                                               val_dataloader=val_iterator,\n",
    "                                               model=model,\n",
    "                                               optimizer=optimizer,\n",
    "                                               criterion=criterion,\n",
    "                                               NUM_EPOCHS=10,\n",
    "                                               metric=f1)"
   ]
  },
  {
   "cell_type": "code",
   "execution_count": null,
   "metadata": {
    "colab": {
     "base_uri": "https://localhost:8080/",
     "height": 791
    },
    "id": "JOebYfbsZt9m",
    "outputId": "b513bebe-9c42-4ae8-965d-ea0229cbe5e7"
   },
   "outputs": [
    {
     "data": {
      "image/png": "[encoded data removed]",
      "text/plain": [
       "<Figure size 576x432 with 1 Axes>"
      ]
     },
     "metadata": {
      "needs_background": "light"
     },
     "output_type": "display_data"
    },
    {
     "data": {
      "image/png": "[encoded data removed]",
      "text/plain": [
       "<Figure size 576x432 with 1 Axes>"
      ]
     },
     "metadata": {
      "needs_background": "light"
     },
     "output_type": "display_data"
    }
   ],
   "source": [
    "show_results(train_loss, train_f1, val_loss, val_f1)"
   ]
  },
  {
   "cell_type": "markdown",
   "metadata": {
    "id": "FrjNlQX7ZyEk"
   },
   "source": [
    "какжется теперь еще лучше, попробуем изменить размер фильтров, чтобы улучшить качество"
   ]
  },
  {
   "cell_type": "code",
   "execution_count": null,
   "metadata": {
    "id": "dEWGx7IqbP3k"
   },
   "outputs": [],
   "source": [
    "class myCNN_1(nn.Module):\n",
    "    \n",
    "    def __init__(self, vocab_size, embedding_dim):\n",
    "        super().__init__()\n",
    "        self.embedding = nn.Embedding(vocab_size, embedding_dim)\n",
    "        self.bigrams = nn.Conv1d(in_channels=embedding_dim, out_channels=70, kernel_size=2, padding='same')\n",
    "        self.trigrams = nn.Conv1d(in_channels=embedding_dim, out_channels=100, kernel_size=3, padding='same')\n",
    "        self.sec_conv = nn.Conv1d(in_channels=170, out_channels=40, kernel_size=3, padding='same')\n",
    "        self.pooling = nn.MaxPool1d(kernel_size=2, stride=1)\n",
    "        self.relu = nn.ReLU()\n",
    "        self.hidden = nn.Linear(in_features=40, out_features=1)\n",
    "        self.dropout = nn.Dropout(p=0.5)\n",
    "        self.out = nn.Sigmoid()\n",
    "\n",
    "    def forward(self, word):\n",
    "        embedded = self.embedding(word)\n",
    "        embedded = embedded.transpose(1,2)\n",
    "        feature_map_bigrams = self.dropout(self.relu(self.bigrams(embedded)))\n",
    "        feature_map_trigrams = self.dropout(self.relu(self.trigrams(embedded)))\n",
    "        concat = torch.cat((feature_map_bigrams, feature_map_trigrams), 1)\n",
    "        concat = self.dropout(self.pooling(self.relu(self.sec_conv(concat))))\n",
    "        pooling1 = concat.max(2)[0]\n",
    "        logits = self.hidden(pooling1) \n",
    "        logits = self.out(logits)    \n",
    "        return logits"
   ]
  },
  {
   "cell_type": "code",
   "execution_count": null,
   "metadata": {
    "colab": {
     "base_uri": "https://localhost:8080/"
    },
    "id": "4Bra18q3bSYg",
    "outputId": "678fede7-e81b-49d6-fced-0fe9173ca615"
   },
   "outputs": [
    {
     "name": "stdout",
     "output_type": "stream",
     "text": [
      "\n",
      "======== Epoch 1 / 10 ========\n",
      "\n",
      "Training...\n",
      "Train loss:  0.5747920847074552\n",
      "Train metric:  0.6665956\n",
      "\n",
      "~/~/~/~/~/~/~/~/~/~/~/~/~/~/~/~\n",
      "\n",
      "Validation...\n",
      "Val loss:  0.5090618818998337\n",
      "Val metric:  0.7594315\n",
      "\n",
      "======== Epoch 2 / 10 ========\n",
      "\n",
      "Training...\n",
      "Train loss:  0.47236116365952924\n",
      "Train metric:  0.7479296\n",
      "\n",
      "~/~/~/~/~/~/~/~/~/~/~/~/~/~/~/~\n",
      "\n",
      "Validation...\n",
      "Val loss:  0.4561470776796341\n",
      "Val metric:  0.77631515\n",
      "\n",
      "======== Epoch 3 / 10 ========\n",
      "\n",
      "Training...\n",
      "Train loss:  0.4300032359632579\n",
      "Train metric:  0.7758985\n",
      "\n",
      "~/~/~/~/~/~/~/~/~/~/~/~/~/~/~/~\n",
      "\n",
      "Validation...\n",
      "Val loss:  0.42860797345638274\n",
      "Val metric:  0.7891872\n",
      "\n",
      "======== Epoch 4 / 10 ========\n",
      "\n",
      "Training...\n",
      "Train loss:  0.3994284448298541\n",
      "Train metric:  0.79522616\n",
      "\n",
      "~/~/~/~/~/~/~/~/~/~/~/~/~/~/~/~\n",
      "\n",
      "Validation...\n",
      "Val loss:  0.40887041985988615\n",
      "Val metric:  0.79775655\n",
      "\n",
      "======== Epoch 5 / 10 ========\n",
      "\n",
      "Training...\n",
      "Train loss:  0.37415684590285475\n",
      "Train metric:  0.8112677\n",
      "\n",
      "~/~/~/~/~/~/~/~/~/~/~/~/~/~/~/~\n",
      "\n",
      "Validation...\n",
      "Val loss:  0.39673197865486143\n",
      "Val metric:  0.8076865\n",
      "\n",
      "======== Epoch 6 / 10 ========\n",
      "\n",
      "Training...\n",
      "Train loss:  0.35248106210069224\n",
      "Train metric:  0.8242827\n",
      "\n",
      "~/~/~/~/~/~/~/~/~/~/~/~/~/~/~/~\n",
      "\n",
      "Validation...\n",
      "Val loss:  0.3825096935033798\n",
      "Val metric:  0.8102611\n",
      "\n",
      "======== Epoch 7 / 10 ========\n",
      "\n",
      "Training...\n",
      "Train loss:  0.33287441391836514\n",
      "Train metric:  0.8380256\n",
      "\n",
      "~/~/~/~/~/~/~/~/~/~/~/~/~/~/~/~\n",
      "\n",
      "Validation...\n",
      "Val loss:  0.3705640584230423\n",
      "Val metric:  0.8211087\n",
      "\n",
      "======== Epoch 8 / 10 ========\n",
      "\n",
      "Training...\n",
      "Train loss:  0.3156524452973496\n",
      "Train metric:  0.8477192\n",
      "\n",
      "~/~/~/~/~/~/~/~/~/~/~/~/~/~/~/~\n",
      "\n",
      "Validation...\n",
      "Val loss:  0.3649282336235046\n",
      "Val metric:  0.8209874\n",
      "\n",
      "======== Epoch 9 / 10 ========\n",
      "\n",
      "Training...\n",
      "Train loss:  0.30125857347791846\n",
      "Train metric:  0.854854\n",
      "\n",
      "~/~/~/~/~/~/~/~/~/~/~/~/~/~/~/~\n",
      "\n",
      "Validation...\n",
      "Val loss:  0.3596570879220963\n",
      "Val metric:  0.81951636\n",
      "\n",
      "======== Epoch 10 / 10 ========\n",
      "\n",
      "Training...\n",
      "Train loss:  0.28861933574080467\n",
      "Train metric:  0.86232\n",
      "\n",
      "~/~/~/~/~/~/~/~/~/~/~/~/~/~/~/~\n",
      "\n",
      "Validation...\n",
      "Val loss:  0.35404911637306213\n",
      "Val metric:  0.8251068\n"
     ]
    }
   ],
   "source": [
    "model = myCNN_1(len(word2id), 100)\n",
    "optimizer = optim.Adam(model.parameters(), lr=0.001)\n",
    "criterion = nn.BCELoss()\n",
    "\n",
    "\n",
    "train_loss, train_f1, val_loss, val_f1 = train(train_dataloader=train_iterator,\n",
    "                                               val_dataloader=val_iterator,\n",
    "                                               model=model,\n",
    "                                               optimizer=optimizer,\n",
    "                                               criterion=criterion,\n",
    "                                               NUM_EPOCHS=10,\n",
    "                                               metric=f1)"
   ]
  },
  {
   "cell_type": "code",
   "execution_count": null,
   "metadata": {
    "colab": {
     "base_uri": "https://localhost:8080/",
     "height": 791
    },
    "id": "UPusD3ZubeE5",
    "outputId": "14e50e55-9d7c-4963-a1c2-5962b0742468"
   },
   "outputs": [
    {
     "data": {
      "image/png": "[encoded data removed]",
      "text/plain": [
       "<Figure size 576x432 with 1 Axes>"
      ]
     },
     "metadata": {
      "needs_background": "light"
     },
     "output_type": "display_data"
    },
    {
     "data": {
      "image/png": "[encoded data removed]",
      "text/plain": [
       "<Figure size 576x432 with 1 Axes>"
      ]
     },
     "metadata": {
      "needs_background": "light"
     },
     "output_type": "display_data"
    }
   ],
   "source": [
    "show_results(train_loss, train_f1, val_loss, val_f1)"
   ]
  },
  {
   "cell_type": "markdown",
   "metadata": {
    "id": "0rDPbOoScHNG"
   },
   "source": [
    "супер, качество улучшилось"
   ]
  },
  {
   "cell_type": "markdown",
   "metadata": {
    "id": "AEngZjqF_cMf"
   },
   "source": [
    "# 2 часть"
   ]
  },
  {
   "cell_type": "code",
   "execution_count": 21,
   "metadata": {
    "colab": {
     "base_uri": "https://localhost:8080/"
    },
    "id": "06sQ4zrI_be7",
    "outputId": "012712e8-106a-4cb4-e05b-ec264bd703df"
   },
   "outputs": [
    {
     "name": "stdout",
     "output_type": "stream",
     "text": [
      "всего уникальных символов: 293\n"
     ]
    }
   ],
   "source": [
    "sym_vocab = Counter()\n",
    "for text in tweets_data['preprocessed']:\n",
    "    sym_vocab.update(list(text))\n",
    "print('всего уникальных символов:', len(sym_vocab))"
   ]
  },
  {
   "cell_type": "code",
   "execution_count": 22,
   "metadata": {
    "colab": {
     "base_uri": "https://localhost:8080/"
    },
    "id": "qr4pl3eP_bh9",
    "outputId": "de9baffc-a692-40ce-afe3-c037cfda9dd7"
   },
   "outputs": [
    {
     "name": "stdout",
     "output_type": "stream",
     "text": [
      "уникальных символов, втретившихся больше 1 раза: 110\n"
     ]
    }
   ],
   "source": [
    "filtered_sym_vocab = set()\n",
    "\n",
    "for word in sym_vocab:\n",
    "    if vocab[word] > 1:\n",
    "        filtered_sym_vocab.add(word)\n",
    "print('уникальных символов, втретившихся больше 1 раза:', len(filtered_sym_vocab))"
   ]
  },
  {
   "cell_type": "code",
   "execution_count": 23,
   "metadata": {
    "id": "tShT8uJUBkRK"
   },
   "outputs": [],
   "source": [
    "symbol2id = {'PAD':0}\n",
    "\n",
    "for word in filtered_sym_vocab:\n",
    "    symbol2id[word] = len(symbol2id)+1\n",
    "\n",
    "id2symbol = {i:word for word, i in symbol2id.items()}"
   ]
  },
  {
   "cell_type": "code",
   "execution_count": 24,
   "metadata": {
    "id": "ckfByQgcCsBX"
   },
   "outputs": [],
   "source": [
    "class TweetsDatasetWS(Dataset):\n",
    "    def __init__(self, dataset, word2id, symb2id, DEVICE):\n",
    "        self.dataset = dataset['preprocessed'].values\n",
    "        self.word2id = word2id\n",
    "        self.symbol2id = symbol2id\n",
    "        self.length = dataset.shape[0]\n",
    "        self.target = torch.Tensor(dataset['tone'].values)\n",
    "        self.device = DEVICE\n",
    "\n",
    "    def __len__(self):\n",
    "        return self.length\n",
    "\n",
    "    def __getitem__(self, index): \n",
    "        words = self.dataset[index].split()\n",
    "        word_ids = torch.LongTensor([self.word2id[word] for word in words if word in self.word2id])\n",
    "        symbols = list(self.dataset[index])\n",
    "        symbols_ids = torch.LongTensor([self.symbol2id[symbol] if symbol in symbol2id else 1 for symbol in symbols])\n",
    "        y = [self.target[index]]\n",
    "        return word_ids, symbols_ids, y\n",
    "\n",
    "    def collate_fn(self, batch):\n",
    "      word_ids, symbols_ids, y = list(zip(*batch))\n",
    "      padded_word_ids = pad_sequence(word_ids, batch_first=True).to(self.device)\n",
    "      padded_symbols_ids = pad_sequence(symbols_ids, batch_first=True).to(self.device)\n",
    "      y = torch.Tensor(y).to(self.device)\n",
    "      return padded_word_ids, padded_symbols_ids, y"
   ]
  },
  {
   "cell_type": "code",
   "execution_count": 25,
   "metadata": {
    "id": "NbT4zFRRBkce"
   },
   "outputs": [],
   "source": [
    "train_dataset = TweetsDatasetWS(train_sentences, word2id, symbol2id, DEVICE)\n",
    "train_sampler = RandomSampler(train_dataset)\n",
    "train_iterator = DataLoader(train_dataset, collate_fn = train_dataset.collate_fn, sampler=train_sampler, batch_size=1024)"
   ]
  },
  {
   "cell_type": "code",
   "execution_count": 26,
   "metadata": {
    "id": "BOt_P2qrBkgT"
   },
   "outputs": [],
   "source": [
    "val_dataset = TweetsDatasetWS(val_sentences, word2id, symbol2id, DEVICE)\n",
    "val_sampler = SequentialSampler(val_dataset)\n",
    "val_iterator = DataLoader(val_dataset, collate_fn = val_dataset.collate_fn, sampler=val_sampler, batch_size=1024)"
   ]
  },
  {
   "cell_type": "code",
   "execution_count": 32,
   "metadata": {
    "id": "A07o5ezs83PJ"
   },
   "outputs": [],
   "source": [
    "from gensim.models import FastText"
   ]
  },
  {
   "cell_type": "code",
   "execution_count": 33,
   "metadata": {
    "id": "g8KaUg299QCm"
   },
   "outputs": [],
   "source": [
    "model = FastText(sentences=tweets_data['preprocessed'].values, size=100)"
   ]
  },
  {
   "cell_type": "code",
   "execution_count": 34,
   "metadata": {
    "id": "0ableqzQ8kd-"
   },
   "outputs": [],
   "source": [
    "weights = np.zeros((len(word2id), 100))\n",
    "count = 0\n",
    "for word, i in word2id.items():\n",
    "    if word == 'PAD':\n",
    "        continue   \n",
    "    try:\n",
    "        weights[i] = model.wv[word] \n",
    "    except KeyError:\n",
    "\n",
    "        count += 1\n",
    "      # oov словам сопоставляем случайный вектор\n",
    "        weights[i] = np.random.normal(0,0.1,100)"
   ]
  },
  {
   "cell_type": "code",
   "execution_count": 27,
   "metadata": {
    "id": "ViM1EtvDBkjq"
   },
   "outputs": [],
   "source": [
    "class myCNN_2(nn.Module):\n",
    "    def __init__(self, word_vocab_size, symbols_vocab_size, word_embedding_dim, \n",
    "                 symbols_embedding_dim, weights=False): \n",
    "        super().__init__()\n",
    "        self.embedding = nn.Embedding(word_vocab_size, word_embedding_dim)\n",
    "        if weights:\n",
    "            self.embedding.from_pretrained(torch.tensor(weights), freeze=True)\n",
    "        self.linear = nn.Linear(in_features=word_embedding_dim, out_features=140)\n",
    "        self.symb_embedding = nn.Embedding(symbols_vocab_size, symbols_embedding_dim)\n",
    "        self.bigrams = nn.Conv1d(in_channels=symbols_embedding_dim, out_channels=50, kernel_size=2, padding='same')\n",
    "        self.trigrams = nn.Conv1d(in_channels=symbols_embedding_dim, out_channels=70, kernel_size=3, padding='same')\n",
    "        self.pooling = nn.MaxPool1d(kernel_size=2, stride=2)\n",
    "        self.relu = nn.ReLU()\n",
    "        self.hidden = nn.Linear(in_features=260, out_features=1)\n",
    "        self.out = nn.Sigmoid()\n",
    "    \n",
    "    def forward(self, sentence, symbols):\n",
    "        sentence = self.linear(self.embedding(sentence).mean(axis=1))\n",
    "        symbols = self.symb_embedding(symbols)\n",
    "        symbols = symbols.transpose(1,2)\n",
    "        feature_map_bigrams = self.pooling(self.relu(self.bigrams(symbols)))\n",
    "        feature_map_trigrams = self.pooling(self.relu(self.trigrams(symbols)))\n",
    "        pooling1 = feature_map_bigrams.max(2)[0] \n",
    "        pooling2 = feature_map_trigrams.max(2)[0]\n",
    "        concat = torch.cat((pooling1, pooling2, sentence), 1)\n",
    "        logits = self.hidden(concat) \n",
    "        logits = self.out(logits)      \n",
    "        return logits"
   ]
  },
  {
   "cell_type": "code",
   "execution_count": 28,
   "metadata": {
    "colab": {
     "base_uri": "https://localhost:8080/",
     "height": 460
    },
    "id": "se6I7sLJCWPD",
    "outputId": "33c79e04-eaa1-493d-e9c0-a880306b60df"
   },
   "outputs": [
    {
     "name": "stdout",
     "output_type": "stream",
     "text": [
      "\n",
      "======== Epoch 1 / 10 ========\n",
      "\n",
      "Training...\n"
     ]
    },
    {
     "ename": "RuntimeError",
     "evalue": "ignored",
     "output_type": "error",
     "traceback": [
      "\u001b[0;31m---------------------------------------------------------------------------\u001b[0m",
      "\u001b[0;31mRuntimeError\u001b[0m                              Traceback (most recent call last)",
      "\u001b[0;32m<ipython-input-28-af9aec373bc5>\u001b[0m in \u001b[0;36m<module>\u001b[0;34m()\u001b[0m\n\u001b[1;32m     10\u001b[0m                                                \u001b[0mcriterion\u001b[0m\u001b[0;34m=\u001b[0m\u001b[0mcriterion\u001b[0m\u001b[0;34m,\u001b[0m\u001b[0;34m\u001b[0m\u001b[0;34m\u001b[0m\u001b[0m\n\u001b[1;32m     11\u001b[0m                                                \u001b[0mNUM_EPOCHS\u001b[0m\u001b[0;34m=\u001b[0m\u001b[0;36m10\u001b[0m\u001b[0;34m,\u001b[0m\u001b[0;34m\u001b[0m\u001b[0;34m\u001b[0m\u001b[0m\n\u001b[0;32m---> 12\u001b[0;31m                                                metric=f1)\n\u001b[0m",
      "\u001b[0;32m<ipython-input-20-97f5587047e7>\u001b[0m in \u001b[0;36mtrain\u001b[0;34m(train_dataloader, val_dataloader, model, optimizer, criterion, NUM_EPOCHS, metric, device)\u001b[0m\n\u001b[1;32m     25\u001b[0m         \u001b[0;32mfor\u001b[0m \u001b[0mi\u001b[0m\u001b[0;34m,\u001b[0m \u001b[0;34m(\u001b[0m\u001b[0;34m*\u001b[0m\u001b[0mx\u001b[0m\u001b[0;34m,\u001b[0m \u001b[0my\u001b[0m\u001b[0;34m)\u001b[0m \u001b[0;32min\u001b[0m \u001b[0menumerate\u001b[0m\u001b[0;34m(\u001b[0m\u001b[0mtrain_dataloader\u001b[0m\u001b[0;34m,\u001b[0m \u001b[0;36m1\u001b[0m\u001b[0;34m)\u001b[0m\u001b[0;34m:\u001b[0m\u001b[0;34m\u001b[0m\u001b[0;34m\u001b[0m\u001b[0m\n\u001b[1;32m     26\u001b[0m             \u001b[0moptimizer\u001b[0m\u001b[0;34m.\u001b[0m\u001b[0mzero_grad\u001b[0m\u001b[0;34m(\u001b[0m\u001b[0;34m)\u001b[0m\u001b[0;34m\u001b[0m\u001b[0;34m\u001b[0m\u001b[0m\n\u001b[0;32m---> 27\u001b[0;31m             \u001b[0mpreds\u001b[0m \u001b[0;34m=\u001b[0m \u001b[0mmodel\u001b[0m\u001b[0;34m(\u001b[0m\u001b[0;34m*\u001b[0m\u001b[0mx\u001b[0m\u001b[0;34m)\u001b[0m\u001b[0;34m\u001b[0m\u001b[0;34m\u001b[0m\u001b[0m\n\u001b[0m\u001b[1;32m     28\u001b[0m             \u001b[0mloss\u001b[0m \u001b[0;34m=\u001b[0m \u001b[0mcriterion\u001b[0m\u001b[0;34m(\u001b[0m\u001b[0mpreds\u001b[0m\u001b[0;34m,\u001b[0m \u001b[0my\u001b[0m\u001b[0;34m)\u001b[0m\u001b[0;34m\u001b[0m\u001b[0;34m\u001b[0m\u001b[0m\n\u001b[1;32m     29\u001b[0m             \u001b[0mloss\u001b[0m\u001b[0;34m.\u001b[0m\u001b[0mbackward\u001b[0m\u001b[0;34m(\u001b[0m\u001b[0;34m)\u001b[0m\u001b[0;34m\u001b[0m\u001b[0;34m\u001b[0m\u001b[0m\n",
      "\u001b[0;32m/usr/local/lib/python3.7/dist-packages/torch/nn/modules/module.py\u001b[0m in \u001b[0;36m_call_impl\u001b[0;34m(self, *input, **kwargs)\u001b[0m\n\u001b[1;32m   1100\u001b[0m         if not (self._backward_hooks or self._forward_hooks or self._forward_pre_hooks or _global_backward_hooks\n\u001b[1;32m   1101\u001b[0m                 or _global_forward_hooks or _global_forward_pre_hooks):\n\u001b[0;32m-> 1102\u001b[0;31m             \u001b[0;32mreturn\u001b[0m \u001b[0mforward_call\u001b[0m\u001b[0;34m(\u001b[0m\u001b[0;34m*\u001b[0m\u001b[0minput\u001b[0m\u001b[0;34m,\u001b[0m \u001b[0;34m**\u001b[0m\u001b[0mkwargs\u001b[0m\u001b[0;34m)\u001b[0m\u001b[0;34m\u001b[0m\u001b[0;34m\u001b[0m\u001b[0m\n\u001b[0m\u001b[1;32m   1103\u001b[0m         \u001b[0;31m# Do not call functions when jit is used\u001b[0m\u001b[0;34m\u001b[0m\u001b[0;34m\u001b[0m\u001b[0;34m\u001b[0m\u001b[0m\n\u001b[1;32m   1104\u001b[0m         \u001b[0mfull_backward_hooks\u001b[0m\u001b[0;34m,\u001b[0m \u001b[0mnon_full_backward_hooks\u001b[0m \u001b[0;34m=\u001b[0m \u001b[0;34m[\u001b[0m\u001b[0;34m]\u001b[0m\u001b[0;34m,\u001b[0m \u001b[0;34m[\u001b[0m\u001b[0;34m]\u001b[0m\u001b[0;34m\u001b[0m\u001b[0;34m\u001b[0m\u001b[0m\n",
      "\u001b[0;32m<ipython-input-27-5b351f707b1b>\u001b[0m in \u001b[0;36mforward\u001b[0;34m(self, sentence, symbols)\u001b[0m\n\u001b[1;32m     19\u001b[0m         \u001b[0msymbols\u001b[0m \u001b[0;34m=\u001b[0m \u001b[0mself\u001b[0m\u001b[0;34m.\u001b[0m\u001b[0msymb_embedding\u001b[0m\u001b[0;34m(\u001b[0m\u001b[0msymbols\u001b[0m\u001b[0;34m)\u001b[0m\u001b[0;34m\u001b[0m\u001b[0;34m\u001b[0m\u001b[0m\n\u001b[1;32m     20\u001b[0m         \u001b[0msymbols\u001b[0m \u001b[0;34m=\u001b[0m \u001b[0msymbols\u001b[0m\u001b[0;34m.\u001b[0m\u001b[0mtranspose\u001b[0m\u001b[0;34m(\u001b[0m\u001b[0;36m1\u001b[0m\u001b[0;34m,\u001b[0m\u001b[0;36m2\u001b[0m\u001b[0;34m)\u001b[0m\u001b[0;34m\u001b[0m\u001b[0;34m\u001b[0m\u001b[0m\n\u001b[0;32m---> 21\u001b[0;31m         \u001b[0mfeature_map_bigrams\u001b[0m \u001b[0;34m=\u001b[0m \u001b[0mself\u001b[0m\u001b[0;34m.\u001b[0m\u001b[0mpooling\u001b[0m\u001b[0;34m(\u001b[0m\u001b[0mself\u001b[0m\u001b[0;34m.\u001b[0m\u001b[0mrelu\u001b[0m\u001b[0;34m(\u001b[0m\u001b[0mself\u001b[0m\u001b[0;34m.\u001b[0m\u001b[0mbigrams\u001b[0m\u001b[0;34m(\u001b[0m\u001b[0msymbols\u001b[0m\u001b[0;34m)\u001b[0m\u001b[0;34m)\u001b[0m\u001b[0;34m)\u001b[0m\u001b[0;34m\u001b[0m\u001b[0;34m\u001b[0m\u001b[0m\n\u001b[0m\u001b[1;32m     22\u001b[0m         \u001b[0mfeature_map_trigrams\u001b[0m \u001b[0;34m=\u001b[0m \u001b[0mself\u001b[0m\u001b[0;34m.\u001b[0m\u001b[0mpooling\u001b[0m\u001b[0;34m(\u001b[0m\u001b[0mself\u001b[0m\u001b[0;34m.\u001b[0m\u001b[0mrelu\u001b[0m\u001b[0;34m(\u001b[0m\u001b[0mself\u001b[0m\u001b[0;34m.\u001b[0m\u001b[0mtrigrams\u001b[0m\u001b[0;34m(\u001b[0m\u001b[0msymbols\u001b[0m\u001b[0;34m)\u001b[0m\u001b[0;34m)\u001b[0m\u001b[0;34m)\u001b[0m\u001b[0;34m\u001b[0m\u001b[0;34m\u001b[0m\u001b[0m\n\u001b[1;32m     23\u001b[0m         \u001b[0mpooling1\u001b[0m \u001b[0;34m=\u001b[0m \u001b[0mfeature_map_bigrams\u001b[0m\u001b[0;34m.\u001b[0m\u001b[0mmax\u001b[0m\u001b[0;34m(\u001b[0m\u001b[0;36m2\u001b[0m\u001b[0;34m)\u001b[0m\u001b[0;34m[\u001b[0m\u001b[0;36m0\u001b[0m\u001b[0;34m]\u001b[0m\u001b[0;34m\u001b[0m\u001b[0;34m\u001b[0m\u001b[0m\n",
      "\u001b[0;32m/usr/local/lib/python3.7/dist-packages/torch/nn/modules/module.py\u001b[0m in \u001b[0;36m_call_impl\u001b[0;34m(self, *input, **kwargs)\u001b[0m\n\u001b[1;32m   1100\u001b[0m         if not (self._backward_hooks or self._forward_hooks or self._forward_pre_hooks or _global_backward_hooks\n\u001b[1;32m   1101\u001b[0m                 or _global_forward_hooks or _global_forward_pre_hooks):\n\u001b[0;32m-> 1102\u001b[0;31m             \u001b[0;32mreturn\u001b[0m \u001b[0mforward_call\u001b[0m\u001b[0;34m(\u001b[0m\u001b[0;34m*\u001b[0m\u001b[0minput\u001b[0m\u001b[0;34m,\u001b[0m \u001b[0;34m**\u001b[0m\u001b[0mkwargs\u001b[0m\u001b[0;34m)\u001b[0m\u001b[0;34m\u001b[0m\u001b[0;34m\u001b[0m\u001b[0m\n\u001b[0m\u001b[1;32m   1103\u001b[0m         \u001b[0;31m# Do not call functions when jit is used\u001b[0m\u001b[0;34m\u001b[0m\u001b[0;34m\u001b[0m\u001b[0;34m\u001b[0m\u001b[0m\n\u001b[1;32m   1104\u001b[0m         \u001b[0mfull_backward_hooks\u001b[0m\u001b[0;34m,\u001b[0m \u001b[0mnon_full_backward_hooks\u001b[0m \u001b[0;34m=\u001b[0m \u001b[0;34m[\u001b[0m\u001b[0;34m]\u001b[0m\u001b[0;34m,\u001b[0m \u001b[0;34m[\u001b[0m\u001b[0;34m]\u001b[0m\u001b[0;34m\u001b[0m\u001b[0;34m\u001b[0m\u001b[0m\n",
      "\u001b[0;32m/usr/local/lib/python3.7/dist-packages/torch/nn/modules/conv.py\u001b[0m in \u001b[0;36mforward\u001b[0;34m(self, input)\u001b[0m\n\u001b[1;32m    299\u001b[0m \u001b[0;34m\u001b[0m\u001b[0m\n\u001b[1;32m    300\u001b[0m     \u001b[0;32mdef\u001b[0m \u001b[0mforward\u001b[0m\u001b[0;34m(\u001b[0m\u001b[0mself\u001b[0m\u001b[0;34m,\u001b[0m \u001b[0minput\u001b[0m\u001b[0;34m:\u001b[0m \u001b[0mTensor\u001b[0m\u001b[0;34m)\u001b[0m \u001b[0;34m->\u001b[0m \u001b[0mTensor\u001b[0m\u001b[0;34m:\u001b[0m\u001b[0;34m\u001b[0m\u001b[0;34m\u001b[0m\u001b[0m\n\u001b[0;32m--> 301\u001b[0;31m         \u001b[0;32mreturn\u001b[0m \u001b[0mself\u001b[0m\u001b[0;34m.\u001b[0m\u001b[0m_conv_forward\u001b[0m\u001b[0;34m(\u001b[0m\u001b[0minput\u001b[0m\u001b[0;34m,\u001b[0m \u001b[0mself\u001b[0m\u001b[0;34m.\u001b[0m\u001b[0mweight\u001b[0m\u001b[0;34m,\u001b[0m \u001b[0mself\u001b[0m\u001b[0;34m.\u001b[0m\u001b[0mbias\u001b[0m\u001b[0;34m)\u001b[0m\u001b[0;34m\u001b[0m\u001b[0;34m\u001b[0m\u001b[0m\n\u001b[0m\u001b[1;32m    302\u001b[0m \u001b[0;34m\u001b[0m\u001b[0m\n\u001b[1;32m    303\u001b[0m \u001b[0;34m\u001b[0m\u001b[0m\n",
      "\u001b[0;32m/usr/local/lib/python3.7/dist-packages/torch/nn/modules/conv.py\u001b[0m in \u001b[0;36m_conv_forward\u001b[0;34m(self, input, weight, bias)\u001b[0m\n\u001b[1;32m    296\u001b[0m                             _single(0), self.dilation, self.groups)\n\u001b[1;32m    297\u001b[0m         return F.conv1d(input, weight, bias, self.stride,\n\u001b[0;32m--> 298\u001b[0;31m                         self.padding, self.dilation, self.groups)\n\u001b[0m\u001b[1;32m    299\u001b[0m \u001b[0;34m\u001b[0m\u001b[0m\n\u001b[1;32m    300\u001b[0m     \u001b[0;32mdef\u001b[0m \u001b[0mforward\u001b[0m\u001b[0;34m(\u001b[0m\u001b[0mself\u001b[0m\u001b[0;34m,\u001b[0m \u001b[0minput\u001b[0m\u001b[0;34m:\u001b[0m \u001b[0mTensor\u001b[0m\u001b[0;34m)\u001b[0m \u001b[0;34m->\u001b[0m \u001b[0mTensor\u001b[0m\u001b[0;34m:\u001b[0m\u001b[0;34m\u001b[0m\u001b[0;34m\u001b[0m\u001b[0m\n",
      "\u001b[0;31mRuntimeError\u001b[0m: CUDA error: device-side assert triggered\nCUDA kernel errors might be asynchronously reported at some other API call,so the stacktrace below might be incorrect.\nFor debugging consider passing CUDA_LAUNCH_BLOCKING=1."
     ]
    }
   ],
   "source": [
    "model = myCNN_2(len(word2id), len(symbol2id), 100, 10)\n",
    "optimizer = optim.Adam(model.parameters(), lr=0.001)\n",
    "criterion = nn.BCELoss()\n",
    "\n",
    "\n",
    "train_loss, train_f1, val_loss, val_f1 = train(train_dataloader=train_iterator,\n",
    "                                               val_dataloader=val_iterator,\n",
    "                                               model=model,\n",
    "                                               optimizer=optimizer,\n",
    "                                               criterion=criterion,\n",
    "                                               NUM_EPOCHS=10,\n",
    "                                               metric=f1)"
   ]
  },
  {
   "cell_type": "code",
   "execution_count": null,
   "metadata": {
    "colab": {
     "base_uri": "https://localhost:8080/",
     "height": 791
    },
    "id": "SKoZveceCWW4",
    "outputId": "256e9bc9-8691-474f-f154-824703894cc3"
   },
   "outputs": [
    {
     "data": {
      "image/png": "[encoded data removed]",
      "text/plain": [
       "<Figure size 576x432 with 1 Axes>"
      ]
     },
     "metadata": {
      "needs_background": "light"
     },
     "output_type": "display_data"
    },
    {
     "data": {
      "image/png": "[encoded data removed]",
      "text/plain": [
       "<Figure size 576x432 with 1 Axes>"
      ]
     },
     "metadata": {
      "needs_background": "light"
     },
     "output_type": "display_data"
    }
   ],
   "source": [
    "show_results(train_loss, train_f1, val_loss, val_f1)"
   ]
  },
  {
   "cell_type": "markdown",
   "metadata": {},
   "source": [
    "я решила все перезапустить и что-то произошло с CUDA.... остались только графики"
   ]
  },
  {
   "cell_type": "code",
   "execution_count": null,
   "metadata": {
    "id": "meT_KZRxCWrL"
   },
   "outputs": [],
   "source": []
  },
  {
   "cell_type": "code",
   "execution_count": null,
   "metadata": {
    "id": "8ISybu-qCWuA"
   },
   "outputs": [],
   "source": []
  }
 ],
 "metadata": {
  "accelerator": "GPU",
  "colab": {
   "collapsed_sections": [],
   "name": "NN_methods_hw2_kostrykina .ipynb",
   "provenance": []
  },
  "kernelspec": {
   "display_name": "Python 3",
   "language": "python",
   "name": "python3"
  },
  "language_info": {
   "codemirror_mode": {
    "name": "ipython",
    "version": 3
   },
   "file_extension": ".py",
   "mimetype": "text/x-python",
   "name": "python",
   "nbconvert_exporter": "python",
   "pygments_lexer": "ipython3",
   "version": "3.8.5"
  }
 },
 "nbformat": 4,
 "nbformat_minor": 1
}
