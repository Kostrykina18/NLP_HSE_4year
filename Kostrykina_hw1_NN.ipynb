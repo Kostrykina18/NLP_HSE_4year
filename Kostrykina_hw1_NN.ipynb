{
 "cells": [
  {
   "cell_type": "markdown",
   "metadata": {},
   "source": [
    "# ДЗ 1\n",
    "### Екатерина Кострыкина"
   ]
  },
  {
   "cell_type": "code",
   "execution_count": null,
   "metadata": {
    "colab": {
     "base_uri": "https://localhost:8080/"
    },
    "id": "2EY7Xp3gVR5f",
    "outputId": "238b72ee-0254-4aab-8046-e1ba81f80d6a",
    "scrolled": true
   },
   "outputs": [
    {
     "name": "stdout",
     "output_type": "stream",
     "text": [
      "--2021-09-26 11:26:15--  https://www.dropbox.com/s/802ohw5hy1lgk25/Shoes_Data.csv?dl=0\n",
      "Resolving www.dropbox.com (www.dropbox.com)... 162.125.3.18, 2620:100:6018:18::a27d:312\n",
      "Connecting to www.dropbox.com (www.dropbox.com)|162.125.3.18|:443... connected.\n",
      "HTTP request sent, awaiting response... 301 Moved Permanently\n",
      "Location: /s/raw/802ohw5hy1lgk25/Shoes_Data.csv [following]\n",
      "--2021-09-26 11:26:15--  https://www.dropbox.com/s/raw/802ohw5hy1lgk25/Shoes_Data.csv\n",
      "Reusing existing connection to www.dropbox.com:443.\n",
      "HTTP request sent, awaiting response... 302 Found\n",
      "Location: https://uc2bf46fffd7459ba6812982cdae.dl.dropboxusercontent.com/cd/0/inline/BW7nl5HSWbuoHkfScW6YjrwjJ-uBSS__6WRLA_G3E3pR6U6-gDMNiSPylFUDxd_0G6dDdsIBnRhzmdbbIyRvYaUnGN62VUpenlYzkntSXTplLDpCJFKf9y-Yxg_r3Do3rjllKB-ih8TG5jp7WQG_Z_Uk/file# [following]\n",
      "--2021-09-26 11:26:16--  https://uc2bf46fffd7459ba6812982cdae.dl.dropboxusercontent.com/cd/0/inline/BW7nl5HSWbuoHkfScW6YjrwjJ-uBSS__6WRLA_G3E3pR6U6-gDMNiSPylFUDxd_0G6dDdsIBnRhzmdbbIyRvYaUnGN62VUpenlYzkntSXTplLDpCJFKf9y-Yxg_r3Do3rjllKB-ih8TG5jp7WQG_Z_Uk/file\n",
      "Resolving uc2bf46fffd7459ba6812982cdae.dl.dropboxusercontent.com (uc2bf46fffd7459ba6812982cdae.dl.dropboxusercontent.com)... 162.125.3.15, 2620:100:601b:15::a27d:80f\n",
      "Connecting to uc2bf46fffd7459ba6812982cdae.dl.dropboxusercontent.com (uc2bf46fffd7459ba6812982cdae.dl.dropboxusercontent.com)|162.125.3.15|:443... connected.\n",
      "HTTP request sent, awaiting response... 200 OK\n",
      "Length: 1314561 (1.3M) [text/plain]\n",
      "Saving to: ‘Shoes_Data.csv’\n",
      "\n",
      "Shoes_Data.csv      100%[===================>]   1.25M  --.-KB/s    in 0.1s    \n",
      "\n",
      "2021-09-26 11:26:16 (9.10 MB/s) - ‘Shoes_Data.csv’ saved [1314561/1314561]\n",
      "\n"
     ]
    }
   ],
   "source": [
    "!wget https://www.dropbox.com/s/802ohw5hy1lgk25/Shoes_Data.csv?dl=0 -O Shoes_Data.csv"
   ]
  },
  {
   "cell_type": "code",
   "execution_count": null,
   "metadata": {
    "id": "5I5PpEYRWExi"
   },
   "outputs": [],
   "source": [
    "import pandas as pd\n",
    "import numpy as np\n",
    "import matplotlib.pyplot as plt\n",
    "import warnings\n",
    "warnings.filterwarnings(\"ignore\")\n",
    "\n",
    "from sklearn.feature_extraction.text import CountVectorizer, TfidfVectorizer\n",
    "from sklearn.linear_model import LogisticRegression, LinearRegression\n",
    "from sklearn.tree import DecisionTreeClassifier\n",
    "from sklearn.ensemble import RandomForestClassifier\n",
    "from sklearn.ensemble import RandomForestRegressor\n",
    "from sklearn.neighbors import KNeighborsClassifier\n",
    "from sklearn.naive_bayes import MultinomialNB\n",
    "from sklearn.model_selection import train_test_split\n",
    "from sklearn.metrics import confusion_matrix, make_scorer, mean_squared_error, mean_absolute_error\n",
    "from sklearn.metrics import classification_report, accuracy_score\n",
    "from sklearn.metrics.pairwise import cosine_distances, cosine_similarity"
   ]
  },
  {
   "cell_type": "markdown",
   "metadata": {
    "id": "IpyBuPEua9uh"
   },
   "source": [
    "# Задание 1"
   ]
  },
  {
   "cell_type": "code",
   "execution_count": null,
   "metadata": {
    "id": "Xyf9UbfyWE0m"
   },
   "outputs": [],
   "source": [
    "df = pd.read_csv('Shoes_Data.csv')"
   ]
  },
  {
   "cell_type": "code",
   "execution_count": null,
   "metadata": {
    "colab": {
     "base_uri": "https://localhost:8080/",
     "height": 776
    },
    "id": "rmLXlLWCWE3l",
    "outputId": "005beada-0344-4f77-df4c-5e0ca7386f7e"
   },
   "outputs": [
    {
     "data": {
      "text/html": [
       "<div>\n",
       "<style scoped>\n",
       "    .dataframe tbody tr th:only-of-type {\n",
       "        vertical-align: middle;\n",
       "    }\n",
       "\n",
       "    .dataframe tbody tr th {\n",
       "        vertical-align: top;\n",
       "    }\n",
       "\n",
       "    .dataframe thead th {\n",
       "        text-align: right;\n",
       "    }\n",
       "</style>\n",
       "<table border=\"1\" class=\"dataframe\">\n",
       "  <thead>\n",
       "    <tr style=\"text-align: right;\">\n",
       "      <th></th>\n",
       "      <th>title</th>\n",
       "      <th>price</th>\n",
       "      <th>rating</th>\n",
       "      <th>total_reviews</th>\n",
       "      <th>product_description</th>\n",
       "      <th>reviews</th>\n",
       "      <th>reviews_rating</th>\n",
       "      <th>Shoe Type</th>\n",
       "    </tr>\n",
       "  </thead>\n",
       "  <tbody>\n",
       "    <tr>\n",
       "      <th>0</th>\n",
       "      <td>CLYMB Outdoor Sports Running Shoes for Mens Boy</td>\n",
       "      <td>₹279.00</td>\n",
       "      <td>2.9 out of 5 stars</td>\n",
       "      <td>2389 ratings</td>\n",
       "      <td>Elevate your style with this classy pair of Ru...</td>\n",
       "      <td>Not happy with product|| It's not as expected....</td>\n",
       "      <td>1.0 out of 5 stars|| 1.0 out of 5 stars|| 3.0 ...</td>\n",
       "      <td>Men</td>\n",
       "    </tr>\n",
       "    <tr>\n",
       "      <th>1</th>\n",
       "      <td>Bourge Men's Loire-z126 Running Shoes</td>\n",
       "      <td>₹479.00</td>\n",
       "      <td>3.9 out of 5 stars</td>\n",
       "      <td>11520 ratings</td>\n",
       "      <td>The product will be an excellent pick for you....</td>\n",
       "      <td>Memory cushioning in these shoes is the best f...</td>\n",
       "      <td>5.0 out of 5 stars|| 1.0 out of 5 stars|| 5.0 ...</td>\n",
       "      <td>Men</td>\n",
       "    </tr>\n",
       "    <tr>\n",
       "      <th>2</th>\n",
       "      <td>T-Rock Men's Sneaker</td>\n",
       "      <td>₹430.00</td>\n",
       "      <td>3.3 out of 5 stars</td>\n",
       "      <td>1251 ratings</td>\n",
       "      <td>Flaunt with these stylish and unique red casua...</td>\n",
       "      <td>Worth to its amount|| Go for it|| Perfect|| 5 ...</td>\n",
       "      <td>5.0 out of 5 stars|| 5.0 out of 5 stars|| 5.0 ...</td>\n",
       "      <td>Men</td>\n",
       "    </tr>\n",
       "    <tr>\n",
       "      <th>3</th>\n",
       "      <td>Robbie jones Sneakers Casual Canvas Fabric Col...</td>\n",
       "      <td>₹499.00</td>\n",
       "      <td>4.2 out of 5 stars</td>\n",
       "      <td>3 ratings</td>\n",
       "      <td>Robbie Jones Shoes Are Designed To Keeping In ...</td>\n",
       "      <td>Sup quality|| Good but not expected|| Awesome 👌.!</td>\n",
       "      <td>5.0 out of 5 stars|| 3.0 out of 5 stars|| 5.0 ...</td>\n",
       "      <td>Men</td>\n",
       "    </tr>\n",
       "    <tr>\n",
       "      <th>4</th>\n",
       "      <td>Sparx Men's Sd0323g Sneakers</td>\n",
       "      <td>₹499.00</td>\n",
       "      <td>4.2 out of 5 stars</td>\n",
       "      <td>20110 ratings</td>\n",
       "      <td>Sparx is a spectacular range of footwear from ...</td>\n",
       "      <td>Best|| Satisfied!|| Affordable beauty 😘😘😘😘 the...</td>\n",
       "      <td>5.0 out of 5 stars|| 5.0 out of 5 stars|| 5.0 ...</td>\n",
       "      <td>Men</td>\n",
       "    </tr>\n",
       "    <tr>\n",
       "      <th>...</th>\n",
       "      <td>...</td>\n",
       "      <td>...</td>\n",
       "      <td>...</td>\n",
       "      <td>...</td>\n",
       "      <td>...</td>\n",
       "      <td>...</td>\n",
       "      <td>...</td>\n",
       "      <td>...</td>\n",
       "    </tr>\n",
       "    <tr>\n",
       "      <th>1225</th>\n",
       "      <td>Nike Men's React Vision Running Shoes</td>\n",
       "      <td>₹7256.00</td>\n",
       "      <td>4.4 out of 5 stars</td>\n",
       "      <td>200 ratings</td>\n",
       "      <td>The Nike react vision is a STORY of surreal co...</td>\n",
       "      <td>Must buy|| not have a great fiting but great q...</td>\n",
       "      <td>5.0 out of 5 stars|| 3.0 out of 5 stars|| 5.0 ...</td>\n",
       "      <td>Women</td>\n",
       "    </tr>\n",
       "    <tr>\n",
       "      <th>1226</th>\n",
       "      <td>Puma Men's B.O.G Limitless Hi Evoknit Sneakers</td>\n",
       "      <td>₹5822.00</td>\n",
       "      <td>4.3 out of 5 stars</td>\n",
       "      <td>25 ratings</td>\n",
       "      <td>The B.O.G limitless is Puma's key style for th...</td>\n",
       "      <td>Worth buying !|| Classy Bold and Stylish !!|| ...</td>\n",
       "      <td>4.0 out of 5 stars|| 5.0 out of 5 stars|| 3.0 ...</td>\n",
       "      <td>Women</td>\n",
       "    </tr>\n",
       "    <tr>\n",
       "      <th>1227</th>\n",
       "      <td>new balance Women's FuelCell Echolucent Runnin...</td>\n",
       "      <td>₹5362.00</td>\n",
       "      <td>4.5 out of 5 stars</td>\n",
       "      <td>817 ratings</td>\n",
       "      <td>Lead the pack in New Balance’s Echolucent snea...</td>\n",
       "      <td>size variation in product recd n size chart|| ...</td>\n",
       "      <td>5.0 out of 5 stars|| 5.0 out of 5 stars|| 5.0 ...</td>\n",
       "      <td>Women</td>\n",
       "    </tr>\n",
       "    <tr>\n",
       "      <th>1228</th>\n",
       "      <td>Nike Women's WMNS Air Zoom Pegasus 37 Running ...</td>\n",
       "      <td>₹7480.00</td>\n",
       "      <td>4.5 out of 5 stars</td>\n",
       "      <td>67 ratings</td>\n",
       "      <td>Nike మహిళల రన్నింగ్ షూ ఫీల్స్ మరియు రూపం మృదువ...</td>\n",
       "      <td>Verified Purchase|| Verified Purchase|| Verifi...</td>\n",
       "      <td>5.0 out of 5 stars|| 5.0 out of 5 stars|| 4.0 ...</td>\n",
       "      <td>Women</td>\n",
       "    </tr>\n",
       "    <tr>\n",
       "      <th>1229</th>\n",
       "      <td>ASICS Women Gt-2000 7 Lite-Show Running Shoes</td>\n",
       "      <td>₹5719.00</td>\n",
       "      <td>4.1 out of 5 stars</td>\n",
       "      <td>210 ratings</td>\n",
       "      <td>The GT-2000 7 achieves a reassuringly firm rid...</td>\n",
       "      <td>Great shoe|| excellent quality|| Old manufactu...</td>\n",
       "      <td>5.0 out of 5 stars|| 5.0 out of 5 stars|| 3.0 ...</td>\n",
       "      <td>Women</td>\n",
       "    </tr>\n",
       "  </tbody>\n",
       "</table>\n",
       "<p>1230 rows × 8 columns</p>\n",
       "</div>"
      ],
      "text/plain": [
       "                                                  title  ... Shoe Type\n",
       "0       CLYMB Outdoor Sports Running Shoes for Mens Boy  ...       Men\n",
       "1                 Bourge Men's Loire-z126 Running Shoes  ...       Men\n",
       "2                                  T-Rock Men's Sneaker  ...       Men\n",
       "3     Robbie jones Sneakers Casual Canvas Fabric Col...  ...       Men\n",
       "4                          Sparx Men's Sd0323g Sneakers  ...       Men\n",
       "...                                                 ...  ...       ...\n",
       "1225              Nike Men's React Vision Running Shoes  ...     Women\n",
       "1226     Puma Men's B.O.G Limitless Hi Evoknit Sneakers  ...     Women\n",
       "1227  new balance Women's FuelCell Echolucent Runnin...  ...     Women\n",
       "1228  Nike Women's WMNS Air Zoom Pegasus 37 Running ...  ...     Women\n",
       "1229      ASICS Women Gt-2000 7 Lite-Show Running Shoes  ...     Women\n",
       "\n",
       "[1230 rows x 8 columns]"
      ]
     },
     "execution_count": 159,
     "metadata": {},
     "output_type": "execute_result"
    }
   ],
   "source": [
    "df"
   ]
  },
  {
   "cell_type": "markdown",
   "metadata": {
    "id": "rTejnxdrMagC"
   },
   "source": [
    "проанализируем данные, посмотрим есть ли пропуски"
   ]
  },
  {
   "cell_type": "code",
   "execution_count": null,
   "metadata": {
    "colab": {
     "base_uri": "https://localhost:8080/"
    },
    "id": "cg68cB5RMeny",
    "outputId": "1f7608f1-53c1-4662-d64b-74bd9aa2220b"
   },
   "outputs": [
    {
     "name": "stdout",
     "output_type": "stream",
     "text": [
      "<class 'pandas.core.frame.DataFrame'>\n",
      "RangeIndex: 1230 entries, 0 to 1229\n",
      "Data columns (total 8 columns):\n",
      " #   Column               Non-Null Count  Dtype \n",
      "---  ------               --------------  ----- \n",
      " 0   title                1230 non-null   object\n",
      " 1   price                1230 non-null   object\n",
      " 2   rating               1230 non-null   object\n",
      " 3   total_reviews        1230 non-null   object\n",
      " 4   product_description  1230 non-null   object\n",
      " 5   reviews              1230 non-null   object\n",
      " 6   reviews_rating       1230 non-null   object\n",
      " 7   Shoe Type            1230 non-null   object\n",
      "dtypes: object(8)\n",
      "memory usage: 77.0+ KB\n"
     ]
    }
   ],
   "source": [
    "df.info()"
   ]
  },
  {
   "cell_type": "markdown",
   "metadata": {
    "id": "RhOPAjvjMsT_"
   },
   "source": [
    "Приведем столбец price к числовому виду (уберем значек валюты)"
   ]
  },
  {
   "cell_type": "code",
   "execution_count": null,
   "metadata": {
    "id": "s5CAri9QMr4J"
   },
   "outputs": [],
   "source": [
    "df['price'] = [float(i[1:]) for i in df['price']]"
   ]
  },
  {
   "cell_type": "markdown",
   "metadata": {
    "id": "-qL0nay1PLf_"
   },
   "source": [
    "Может ли цена товара зависеть от длины описания? Например более подробно расписанные товары могут стоить дороже и наоборот?"
   ]
  },
  {
   "cell_type": "code",
   "execution_count": null,
   "metadata": {
    "colab": {
     "base_uri": "https://localhost:8080/",
     "height": 279
    },
    "id": "Sihy8gJ9O1Ou",
    "outputId": "b4e0b4c1-b091-4b66-c1d5-38809188aa96"
   },
   "outputs": [
    {
     "data": {
      "image/png": "[encoded data removed]",
      "text/plain": [
       "<Figure size 432x288 with 1 Axes>"
      ]
     },
     "metadata": {
      "needs_background": "light"
     },
     "output_type": "display_data"
    }
   ],
   "source": [
    "plt.scatter(df.product_description.apply(lambda x: len(x.split(' '))), df.price)\n",
    "plt.ylabel('Цена')\n",
    "plt.xlabel('Количество слов');"
   ]
  },
  {
   "cell_type": "markdown",
   "metadata": {
    "id": "4lAF9ZaOPXbG"
   },
   "source": [
    "По графику видно, что почти все описания +- 0-250 слов, зависимости не видно"
   ]
  },
  {
   "cell_type": "markdown",
   "metadata": {
    "id": "Iq-gAGlyNfU7"
   },
   "source": [
    "Построим графики боксплот и столбчатую диаграмму, чтобы посмотреть распределение цен"
   ]
  },
  {
   "cell_type": "code",
   "execution_count": null,
   "metadata": {
    "colab": {
     "base_uri": "https://localhost:8080/",
     "height": 265
    },
    "id": "20Cw6OiDM_i4",
    "outputId": "80b761f9-ea4e-4ab0-bb54-2d87ce12ba61"
   },
   "outputs": [
    {
     "data": {
      "image/png": "[encoded data removed]",
      "text/plain": [
       "<Figure size 432x288 with 1 Axes>"
      ]
     },
     "metadata": {
      "needs_background": "light"
     },
     "output_type": "display_data"
    }
   ],
   "source": [
    "df.boxplot(column='price');"
   ]
  },
  {
   "cell_type": "code",
   "execution_count": null,
   "metadata": {
    "colab": {
     "base_uri": "https://localhost:8080/",
     "height": 269
    },
    "id": "Mc8GJ3qkM5sM",
    "outputId": "cd1027d2-8d75-4e58-bcdf-e808d33034b5"
   },
   "outputs": [
    {
     "data": {
      "image/png": "[encoded data removed]",
      "text/plain": [
       "<Figure size 432x288 with 1 Axes>"
      ]
     },
     "metadata": {
      "needs_background": "light"
     },
     "output_type": "display_data"
    }
   ],
   "source": [
    "df.price.hist();"
   ]
  },
  {
   "cell_type": "markdown",
   "metadata": {
    "id": "f09kbV6kOczf"
   },
   "source": [
    "По графикам видно, что большинство товаров стоит в районе 0-3000"
   ]
  },
  {
   "cell_type": "code",
   "execution_count": null,
   "metadata": {
    "colab": {
     "base_uri": "https://localhost:8080/"
    },
    "id": "NL-d3ymoYafc",
    "outputId": "4aa6c5ce-86e4-4f55-82fc-1b67b5c29d3e"
   },
   "outputs": [
    {
     "name": "stdout",
     "output_type": "stream",
     "text": [
      "[nltk_data] Downloading package stopwords to /root/nltk_data...\n",
      "[nltk_data]   Package stopwords is already up-to-date!\n",
      "[nltk_data] Downloading package punkt to /root/nltk_data...\n",
      "[nltk_data]   Package punkt is already up-to-date!\n"
     ]
    }
   ],
   "source": [
    "import re\n",
    "from nltk.stem.snowball import SnowballStemmer\n",
    "from nltk.tokenize import word_tokenize\n",
    "from tqdm.notebook import tqdm\n",
    "import nltk\n",
    "nltk.download('stopwords')\n",
    "nltk.download('punkt')\n",
    "from nltk.corpus import stopwords\n",
    "stops = stopwords.words('english')"
   ]
  },
  {
   "cell_type": "markdown",
   "metadata": {
    "id": "BBo7TIVPrb2Q"
   },
   "source": [
    "Приведем текст к нижнему регистру\n",
    "\n",
    "Удалим ссылки, все, что не буквы, цифры, скобочки(например ) может означать что-то хорошее) и восклицательные знаки\n",
    "\n",
    "Уберем стоп-слова, так как это часто встречающееся слова во всех отзывах, плохих и хороших"
   ]
  },
  {
   "cell_type": "code",
   "execution_count": null,
   "metadata": {
    "id": "_Z-U6SKaY9z7"
   },
   "outputs": [],
   "source": [
    "def clean(text):\n",
    "    text = text.lower()\n",
    "    text = re.sub('(https?://[^\\s]+)', '', text)\n",
    "    text = re.sub('[^a-zA-Zа-яА-Я0-9()!]+', ' ', text)\n",
    "    text = re.sub(' +', ' ', text)\n",
    "    text = ' '.join([word for word in word_tokenize(text) if word not in stops])\n",
    "    text = text.strip()\n",
    "    return text"
   ]
  },
  {
   "cell_type": "code",
   "execution_count": null,
   "metadata": {
    "colab": {
     "base_uri": "https://localhost:8080/",
     "height": 49,
     "referenced_widgets": [
      "726457ade753437494b6c74697a3facc",
      "75adba29b17b4218a5cd8940ad53c449",
      "86eb8f59b79948c28435c7a0631a8fc2",
      "a929085b586d4d1a8bc72e8c648401e8",
      "7de8824f54914a76b9b0d5a3450aae9d",
      "55ebc72681c1440cb5c4228992bc6166",
      "10397c1cfd5647cfb855510ec8931568",
      "b89f7b3f2afb47e1a633feaca4535b1c",
      "5d1a462073064e7295362308c408c294",
      "7c7f74e6e830426597a00e1dc4170300",
      "c1e98a83c2e44347ab39fd66a38beb77"
     ]
    },
    "id": "J7JysJa7cbds",
    "outputId": "aac89011-94ae-43ea-9a8d-512628e4bea0"
   },
   "outputs": [
    {
     "data": {
      "application/vnd.jupyter.widget-view+json": {
       "model_id": "726457ade753437494b6c74697a3facc",
       "version_major": 2,
       "version_minor": 0
      },
      "text/plain": [
       "  0%|          | 0/1230 [00:00<?, ?it/s]"
      ]
     },
     "metadata": {},
     "output_type": "display_data"
    }
   ],
   "source": [
    "df['product_description'] = [clean(t) for t in tqdm(df['product_description'])]"
   ]
  },
  {
   "cell_type": "code",
   "execution_count": null,
   "metadata": {
    "colab": {
     "base_uri": "https://localhost:8080/",
     "height": 776
    },
    "id": "T3MNXxiYcxGz",
    "outputId": "d13f968d-bc9e-481c-fcd6-b9035f56d391"
   },
   "outputs": [
    {
     "data": {
      "text/html": [
       "<div>\n",
       "<style scoped>\n",
       "    .dataframe tbody tr th:only-of-type {\n",
       "        vertical-align: middle;\n",
       "    }\n",
       "\n",
       "    .dataframe tbody tr th {\n",
       "        vertical-align: top;\n",
       "    }\n",
       "\n",
       "    .dataframe thead th {\n",
       "        text-align: right;\n",
       "    }\n",
       "</style>\n",
       "<table border=\"1\" class=\"dataframe\">\n",
       "  <thead>\n",
       "    <tr style=\"text-align: right;\">\n",
       "      <th></th>\n",
       "      <th>title</th>\n",
       "      <th>price</th>\n",
       "      <th>rating</th>\n",
       "      <th>total_reviews</th>\n",
       "      <th>product_description</th>\n",
       "      <th>reviews</th>\n",
       "      <th>reviews_rating</th>\n",
       "      <th>Shoe Type</th>\n",
       "    </tr>\n",
       "  </thead>\n",
       "  <tbody>\n",
       "    <tr>\n",
       "      <th>0</th>\n",
       "      <td>CLYMB Outdoor Sports Running Shoes for Mens Boy</td>\n",
       "      <td>279.0</td>\n",
       "      <td>2.9 out of 5 stars</td>\n",
       "      <td>2389 ratings</td>\n",
       "      <td>elevate style classy pair running shoe house c...</td>\n",
       "      <td>Not happy with product|| It's not as expected....</td>\n",
       "      <td>1.0 out of 5 stars|| 1.0 out of 5 stars|| 3.0 ...</td>\n",
       "      <td>Men</td>\n",
       "    </tr>\n",
       "    <tr>\n",
       "      <th>1</th>\n",
       "      <td>Bourge Men's Loire-z126 Running Shoes</td>\n",
       "      <td>479.0</td>\n",
       "      <td>3.9 out of 5 stars</td>\n",
       "      <td>11520 ratings</td>\n",
       "      <td>product excellent pick ensures easy maintenance</td>\n",
       "      <td>Memory cushioning in these shoes is the best f...</td>\n",
       "      <td>5.0 out of 5 stars|| 1.0 out of 5 stars|| 5.0 ...</td>\n",
       "      <td>Men</td>\n",
       "    </tr>\n",
       "    <tr>\n",
       "      <th>2</th>\n",
       "      <td>T-Rock Men's Sneaker</td>\n",
       "      <td>430.0</td>\n",
       "      <td>3.3 out of 5 stars</td>\n",
       "      <td>1251 ratings</td>\n",
       "      <td>flaunt stylish unique red casual shoes per lat...</td>\n",
       "      <td>Worth to its amount|| Go for it|| Perfect|| 5 ...</td>\n",
       "      <td>5.0 out of 5 stars|| 5.0 out of 5 stars|| 5.0 ...</td>\n",
       "      <td>Men</td>\n",
       "    </tr>\n",
       "    <tr>\n",
       "      <th>3</th>\n",
       "      <td>Robbie jones Sneakers Casual Canvas Fabric Col...</td>\n",
       "      <td>499.0</td>\n",
       "      <td>4.2 out of 5 stars</td>\n",
       "      <td>3 ratings</td>\n",
       "      <td>robbie jones shoes designed keeping mind durab...</td>\n",
       "      <td>Sup quality|| Good but not expected|| Awesome 👌.!</td>\n",
       "      <td>5.0 out of 5 stars|| 3.0 out of 5 stars|| 5.0 ...</td>\n",
       "      <td>Men</td>\n",
       "    </tr>\n",
       "    <tr>\n",
       "      <th>4</th>\n",
       "      <td>Sparx Men's Sd0323g Sneakers</td>\n",
       "      <td>499.0</td>\n",
       "      <td>4.2 out of 5 stars</td>\n",
       "      <td>20110 ratings</td>\n",
       "      <td>sparx spectacular range footwear house relaxo ...</td>\n",
       "      <td>Best|| Satisfied!|| Affordable beauty 😘😘😘😘 the...</td>\n",
       "      <td>5.0 out of 5 stars|| 5.0 out of 5 stars|| 5.0 ...</td>\n",
       "      <td>Men</td>\n",
       "    </tr>\n",
       "    <tr>\n",
       "      <th>...</th>\n",
       "      <td>...</td>\n",
       "      <td>...</td>\n",
       "      <td>...</td>\n",
       "      <td>...</td>\n",
       "      <td>...</td>\n",
       "      <td>...</td>\n",
       "      <td>...</td>\n",
       "      <td>...</td>\n",
       "    </tr>\n",
       "    <tr>\n",
       "      <th>1225</th>\n",
       "      <td>Nike Men's React Vision Running Shoes</td>\n",
       "      <td>7256.0</td>\n",
       "      <td>4.4 out of 5 stars</td>\n",
       "      <td>200 ratings</td>\n",
       "      <td>nike react vision story surreal comfort layere...</td>\n",
       "      <td>Must buy|| not have a great fiting but great q...</td>\n",
       "      <td>5.0 out of 5 stars|| 3.0 out of 5 stars|| 5.0 ...</td>\n",
       "      <td>Women</td>\n",
       "    </tr>\n",
       "    <tr>\n",
       "      <th>1226</th>\n",
       "      <td>Puma Men's B.O.G Limitless Hi Evoknit Sneakers</td>\n",
       "      <td>5822.0</td>\n",
       "      <td>4.3 out of 5 stars</td>\n",
       "      <td>25 ratings</td>\n",
       "      <td>b g limitless puma key style new season inspir...</td>\n",
       "      <td>Worth buying !|| Classy Bold and Stylish !!|| ...</td>\n",
       "      <td>4.0 out of 5 stars|| 5.0 out of 5 stars|| 3.0 ...</td>\n",
       "      <td>Women</td>\n",
       "    </tr>\n",
       "    <tr>\n",
       "      <th>1227</th>\n",
       "      <td>new balance Women's FuelCell Echolucent Runnin...</td>\n",
       "      <td>5362.0</td>\n",
       "      <td>4.5 out of 5 stars</td>\n",
       "      <td>817 ratings</td>\n",
       "      <td>lead pack new balance echolucent sneaker sneak...</td>\n",
       "      <td>size variation in product recd n size chart|| ...</td>\n",
       "      <td>5.0 out of 5 stars|| 5.0 out of 5 stars|| 5.0 ...</td>\n",
       "      <td>Women</td>\n",
       "    </tr>\n",
       "    <tr>\n",
       "      <th>1228</th>\n",
       "      <td>Nike Women's WMNS Air Zoom Pegasus 37 Running ...</td>\n",
       "      <td>7480.0</td>\n",
       "      <td>4.5 out of 5 stars</td>\n",
       "      <td>67 ratings</td>\n",
       "      <td>nike 5k nike women running shoe feels even loo...</td>\n",
       "      <td>Verified Purchase|| Verified Purchase|| Verifi...</td>\n",
       "      <td>5.0 out of 5 stars|| 5.0 out of 5 stars|| 4.0 ...</td>\n",
       "      <td>Women</td>\n",
       "    </tr>\n",
       "    <tr>\n",
       "      <th>1229</th>\n",
       "      <td>ASICS Women Gt-2000 7 Lite-Show Running Shoes</td>\n",
       "      <td>5719.0</td>\n",
       "      <td>4.1 out of 5 stars</td>\n",
       "      <td>210 ratings</td>\n",
       "      <td>gt 2000 7 achieves reassuringly firm ride feat...</td>\n",
       "      <td>Great shoe|| excellent quality|| Old manufactu...</td>\n",
       "      <td>5.0 out of 5 stars|| 5.0 out of 5 stars|| 3.0 ...</td>\n",
       "      <td>Women</td>\n",
       "    </tr>\n",
       "  </tbody>\n",
       "</table>\n",
       "<p>1230 rows × 8 columns</p>\n",
       "</div>"
      ],
      "text/plain": [
       "                                                  title  ...  Shoe Type\n",
       "0       CLYMB Outdoor Sports Running Shoes for Mens Boy  ...        Men\n",
       "1                 Bourge Men's Loire-z126 Running Shoes  ...        Men\n",
       "2                                  T-Rock Men's Sneaker  ...        Men\n",
       "3     Robbie jones Sneakers Casual Canvas Fabric Col...  ...        Men\n",
       "4                          Sparx Men's Sd0323g Sneakers  ...        Men\n",
       "...                                                 ...  ...        ...\n",
       "1225              Nike Men's React Vision Running Shoes  ...      Women\n",
       "1226     Puma Men's B.O.G Limitless Hi Evoknit Sneakers  ...      Women\n",
       "1227  new balance Women's FuelCell Echolucent Runnin...  ...      Women\n",
       "1228  Nike Women's WMNS Air Zoom Pegasus 37 Running ...  ...      Women\n",
       "1229      ASICS Women Gt-2000 7 Lite-Show Running Shoes  ...      Women\n",
       "\n",
       "[1230 rows x 8 columns]"
      ]
     },
     "execution_count": 177,
     "metadata": {},
     "output_type": "execute_result"
    }
   ],
   "source": [
    "df"
   ]
  },
  {
   "cell_type": "markdown",
   "metadata": {
    "id": "RciD5xOORb6a"
   },
   "source": [
    "Разобьем данные на трейн и тест, далее будем обучать векторайзеры на трейне и векторизовать тест"
   ]
  },
  {
   "cell_type": "code",
   "execution_count": null,
   "metadata": {
    "id": "TDRirevoT4n-"
   },
   "outputs": [],
   "source": [
    "XX_train, XX_test, y_train, y_test = train_test_split(df['product_description'], df['price'])"
   ]
  },
  {
   "cell_type": "code",
   "execution_count": null,
   "metadata": {
    "id": "HxxeSlIjsIQD"
   },
   "outputs": [],
   "source": [
    "vectorizer = TfidfVectorizer()\n",
    "X_train =  vectorizer.fit_transform(XX_train)\n",
    "X_test = vectorizer.transform(XX_test)"
   ]
  },
  {
   "cell_type": "code",
   "execution_count": null,
   "metadata": {
    "id": "2eNNf_eeV4vS"
   },
   "outputs": [],
   "source": [
    "from sklearn.model_selection import GridSearchCV"
   ]
  },
  {
   "cell_type": "code",
   "execution_count": null,
   "metadata": {
    "colab": {
     "base_uri": "https://localhost:8080/"
    },
    "id": "i06Y3RylaEby",
    "outputId": "277b66ac-4641-4b25-c635-556cbd20c6ac"
   },
   "outputs": [
    {
     "data": {
      "text/plain": [
       "(922, 3507)"
      ]
     },
     "execution_count": 181,
     "metadata": {},
     "output_type": "execute_result"
    }
   ],
   "source": [
    "X_train.shape"
   ]
  },
  {
   "cell_type": "markdown",
   "metadata": {
    "id": "ZkMG6ScRRxtI"
   },
   "source": [
    "Напишем функцию для более удобного вывода качества"
   ]
  },
  {
   "cell_type": "code",
   "execution_count": null,
   "metadata": {
    "id": "BMqM_Pj_SbTU"
   },
   "outputs": [],
   "source": [
    "def get_score(ytest, ypred):\n",
    "    print('MAE:', mean_absolute_error(ytest, ypred), '\\n'\n",
    "    'MSE:', mean_squared_error(ytest, ypred), '\\n'\n",
    "    'RMSE:', mean_squared_error(ytest, ypred, squared=False)\n",
    "    )"
   ]
  },
  {
   "cell_type": "markdown",
   "metadata": {
    "id": "J2dLtP6Ghd8l"
   },
   "source": [
    "RandomForestRegressor"
   ]
  },
  {
   "cell_type": "code",
   "execution_count": null,
   "metadata": {
    "colab": {
     "base_uri": "https://localhost:8080/"
    },
    "id": "dqZSpvghV3IW",
    "outputId": "d0bac7b2-8d20-4bb1-d158-60c16bf8adbf"
   },
   "outputs": [
    {
     "data": {
      "text/plain": [
       "GridSearchCV(cv=3, error_score=nan,\n",
       "             estimator=RandomForestRegressor(bootstrap=True, ccp_alpha=0.0,\n",
       "                                             criterion='mse', max_depth=None,\n",
       "                                             max_features='auto',\n",
       "                                             max_leaf_nodes=None,\n",
       "                                             max_samples=None,\n",
       "                                             min_impurity_decrease=0.0,\n",
       "                                             min_impurity_split=None,\n",
       "                                             min_samples_leaf=1,\n",
       "                                             min_samples_split=2,\n",
       "                                             min_weight_fraction_leaf=0.0,\n",
       "                                             n_estimators=100, n_jobs=None,\n",
       "                                             oob_score=False, random_state=None,\n",
       "                                             verbose=0, warm_start=False),\n",
       "             iid='deprecated', n_jobs=None,\n",
       "             param_grid={'max_depth': [100, 300, 500],\n",
       "                         'n_estimators': [50, 100, 200]},\n",
       "             pre_dispatch='2*n_jobs', refit=True, return_train_score=False,\n",
       "             scoring=make_scorer(mean_squared_error, greater_is_better=False),\n",
       "             verbose=0)"
      ]
     },
     "execution_count": 190,
     "metadata": {},
     "output_type": "execute_result"
    }
   ],
   "source": [
    "model1 = RandomForestRegressor()\n",
    "param_grid = {\n",
    "    'n_estimators': [50, 100, 200],\n",
    "    'max_depth': [100, 300, 500],\n",
    "    }\n",
    "clf1 = GridSearchCV(model1, param_grid, scoring=make_scorer(mean_squared_error, greater_is_better=False), cv=3)\n",
    "clf1.fit(X_train, y_train)"
   ]
  },
  {
   "cell_type": "code",
   "execution_count": null,
   "metadata": {
    "colab": {
     "base_uri": "https://localhost:8080/"
    },
    "id": "RtQWRtHmUnMZ",
    "outputId": "336e74d3-f55c-47d3-e172-bf61b77cc172"
   },
   "outputs": [
    {
     "name": "stdout",
     "output_type": "stream",
     "text": [
      "MAE: 571.7992705007979 \n",
      "MSE: 887099.2649296116 \n",
      "RMSE: 941.8594719646936\n"
     ]
    }
   ],
   "source": [
    "get_score(y_test, clf1.predict(X_test))"
   ]
  },
  {
   "cell_type": "markdown",
   "metadata": {
    "id": "sypJvn0Dg7xj"
   },
   "source": [
    "LinearRegression"
   ]
  },
  {
   "cell_type": "code",
   "execution_count": null,
   "metadata": {
    "colab": {
     "base_uri": "https://localhost:8080/"
    },
    "id": "sc7PXsz4V9kH",
    "outputId": "bff7c763-fa72-45d0-ff8d-76e7df34695d"
   },
   "outputs": [
    {
     "data": {
      "text/plain": [
       "GridSearchCV(cv=3, error_score=nan,\n",
       "             estimator=LinearRegression(copy_X=True, fit_intercept=True,\n",
       "                                        n_jobs=None, normalize=False),\n",
       "             iid='deprecated', n_jobs=None,\n",
       "             param_grid={'fit_intercept': [True, False],\n",
       "                         'normalize': ['True', 'False']},\n",
       "             pre_dispatch='2*n_jobs', refit=True, return_train_score=False,\n",
       "             scoring=make_scorer(mean_squared_error, greater_is_better=False),\n",
       "             verbose=0)"
      ]
     },
     "execution_count": 196,
     "metadata": {},
     "output_type": "execute_result"
    }
   ],
   "source": [
    "model2 = LinearRegression()\n",
    "param_grid2 = {\n",
    "    \"fit_intercept\": [True, False],\n",
    "    \"normalize\": ['True', 'False'], \n",
    "    }\n",
    "clf2 = GridSearchCV(model2, param_grid2, scoring=make_scorer(mean_squared_error, greater_is_better=False), cv=3)\n",
    "clf2.fit(X_train, y_train)"
   ]
  },
  {
   "cell_type": "code",
   "execution_count": null,
   "metadata": {
    "colab": {
     "base_uri": "https://localhost:8080/"
    },
    "id": "GaTLesstg02I",
    "outputId": "a8139758-6755-4cde-ad61-99b8aadab8a1"
   },
   "outputs": [
    {
     "name": "stdout",
     "output_type": "stream",
     "text": [
      "MAE: 703.8532787206765 \n",
      "MSE: 1433337.1391866428 \n",
      "RMSE: 1197.220589192586\n"
     ]
    }
   ],
   "source": [
    "get_score(y_test, clf2.predict(X_test))"
   ]
  },
  {
   "cell_type": "markdown",
   "metadata": {
    "id": "DmQf7PmBVziR"
   },
   "source": [
    "Линейная регрессия справилась хуже, чем случайный лес"
   ]
  },
  {
   "cell_type": "markdown",
   "metadata": {
    "id": "mZS7l16xCL8g"
   },
   "source": [
    "SGDRegressor"
   ]
  },
  {
   "cell_type": "code",
   "execution_count": null,
   "metadata": {
    "id": "tfGJoYvxCPth"
   },
   "outputs": [],
   "source": [
    "from sklearn.linear_model import SGDRegressor"
   ]
  },
  {
   "cell_type": "code",
   "execution_count": null,
   "metadata": {
    "colab": {
     "base_uri": "https://localhost:8080/"
    },
    "id": "EIxSBHWwEZGe",
    "outputId": "64b2f562-11a0-4972-8a93-64d406aafd43"
   },
   "outputs": [
    {
     "data": {
      "text/plain": [
       "GridSearchCV(cv=3, error_score=nan,\n",
       "             estimator=SGDRegressor(alpha=0.0001, average=False,\n",
       "                                    early_stopping=False, epsilon=0.1,\n",
       "                                    eta0=0.01, fit_intercept=True,\n",
       "                                    l1_ratio=0.15, learning_rate='invscaling',\n",
       "                                    loss='squared_loss', max_iter=1000,\n",
       "                                    n_iter_no_change=5, penalty='l2',\n",
       "                                    power_t=0.25, random_state=None,\n",
       "                                    shuffle=True, tol=0.001,\n",
       "                                    validation_fraction=0.1, verbose=0,\n",
       "                                    warm_start=False),\n",
       "             iid='deprecated', n_jobs=None,\n",
       "             param_grid={'alpha': array([0.        , 0.11111111, 0.22222222, 0.33333333, 0.44444444,\n",
       "       0.55555556, 0.66666667, 0.77777778, 0.88888889, 1.        ]),\n",
       "                         'max_iter': [500, 1000, 1500, 2500]},\n",
       "             pre_dispatch='2*n_jobs', refit=True, return_train_score=False,\n",
       "             scoring=make_scorer(mean_squared_error, greater_is_better=False),\n",
       "             verbose=0)"
      ]
     },
     "execution_count": 210,
     "metadata": {},
     "output_type": "execute_result"
    }
   ],
   "source": [
    "model3 = SGDRegressor()\n",
    "param_grid3 = {\n",
    "    \"max_iter\": [500, 1000, 1500, 2500],\n",
    "    \"alpha\": np.linspace(0, 1, 10), \n",
    "    }\n",
    "clf3 = GridSearchCV(model3, param_grid3, scoring=make_scorer(mean_squared_error, greater_is_better=False), cv=3)\n",
    "clf3.fit(X_train, y_train)"
   ]
  },
  {
   "cell_type": "code",
   "execution_count": null,
   "metadata": {
    "colab": {
     "base_uri": "https://localhost:8080/"
    },
    "id": "xqVTpdARWMvm",
    "outputId": "d4ee5c73-1564-4fa8-9e46-06ad332fb07b"
   },
   "outputs": [
    {
     "name": "stdout",
     "output_type": "stream",
     "text": [
      "MAE: 736.9720251332765 \n",
      "MSE: 1707968.0526059829 \n",
      "RMSE: 1306.8925176180262\n"
     ]
    }
   ],
   "source": [
    "get_score(y_test, clf3.predict(X_test))"
   ]
  },
  {
   "cell_type": "markdown",
   "metadata": {
    "id": "yxQeOl-oF_I4"
   },
   "source": [
    "(чем больше количество итераций, тем лучше качество)\n",
    "\n",
    "Слусайный лес остается лидером"
   ]
  },
  {
   "cell_type": "markdown",
   "metadata": {
    "id": "TLaJNwlVGGhc"
   },
   "source": [
    "### Bag Of Words"
   ]
  },
  {
   "cell_type": "code",
   "execution_count": null,
   "metadata": {
    "id": "8Dbo5Z5yGJ5R"
   },
   "outputs": [],
   "source": [
    "vectorizer = CountVectorizer()\n",
    "X_train =  vectorizer.fit_transform(XX_train)\n",
    "X_test = vectorizer.transform(XX_test)"
   ]
  },
  {
   "cell_type": "code",
   "execution_count": null,
   "metadata": {
    "colab": {
     "base_uri": "https://localhost:8080/"
    },
    "id": "Gur0oZEbGJ8d",
    "outputId": "c682d320-5892-4bc8-9c00-0e20190ef067"
   },
   "outputs": [
    {
     "data": {
      "text/plain": [
       "GridSearchCV(cv=3, error_score=nan,\n",
       "             estimator=RandomForestRegressor(bootstrap=True, ccp_alpha=0.0,\n",
       "                                             criterion='mse', max_depth=None,\n",
       "                                             max_features='auto',\n",
       "                                             max_leaf_nodes=None,\n",
       "                                             max_samples=None,\n",
       "                                             min_impurity_decrease=0.0,\n",
       "                                             min_impurity_split=None,\n",
       "                                             min_samples_leaf=1,\n",
       "                                             min_samples_split=2,\n",
       "                                             min_weight_fraction_leaf=0.0,\n",
       "                                             n_estimators=100, n_jobs=None,\n",
       "                                             oob_score=False, random_state=None,\n",
       "                                             verbose=0, warm_start=False),\n",
       "             iid='deprecated', n_jobs=None,\n",
       "             param_grid={'max_depth': [100, 300, 500],\n",
       "                         'n_estimators': [50, 100, 200]},\n",
       "             pre_dispatch='2*n_jobs', refit=True, return_train_score=False,\n",
       "             scoring=make_scorer(mean_squared_error, greater_is_better=False),\n",
       "             verbose=0)"
      ]
     },
     "execution_count": 205,
     "metadata": {},
     "output_type": "execute_result"
    }
   ],
   "source": [
    "model4 = RandomForestRegressor()\n",
    "param_grid4 = {\n",
    "    'n_estimators': [50, 100, 200],\n",
    "    'max_depth': [100, 300, 500],\n",
    "    }\n",
    "clf4 = GridSearchCV(model1, param_grid, scoring=make_scorer(mean_squared_error, greater_is_better=False), cv=3)\n",
    "clf4.fit(X_train, y_train)"
   ]
  },
  {
   "cell_type": "code",
   "execution_count": null,
   "metadata": {
    "colab": {
     "base_uri": "https://localhost:8080/"
    },
    "id": "zMtV9vLBW9Wi",
    "outputId": "07a4adab-5bc6-4f23-f1dd-1ee2d5641662"
   },
   "outputs": [
    {
     "name": "stdout",
     "output_type": "stream",
     "text": [
      "MAE: 536.3062725213833 \n",
      "MSE: 829218.6891423166 \n",
      "RMSE: 910.6144569148441\n"
     ]
    }
   ],
   "source": [
    "get_score(y_test, clf4.predict(X_test))"
   ]
  },
  {
   "cell_type": "markdown",
   "metadata": {
    "id": "vtSAFzocYmQQ"
   },
   "source": [
    "Векторизация BOW способствует лучшему качеству при использовании Random Forest"
   ]
  },
  {
   "cell_type": "markdown",
   "metadata": {
    "id": "iEveuDGBYzSc"
   },
   "source": [
    "LinearRegression"
   ]
  },
  {
   "cell_type": "code",
   "execution_count": null,
   "metadata": {
    "colab": {
     "base_uri": "https://localhost:8080/"
    },
    "id": "5EU01y1-IGBa",
    "outputId": "2ab914bc-a37a-4fe4-a944-80dd722de095"
   },
   "outputs": [
    {
     "data": {
      "text/plain": [
       "GridSearchCV(cv=3, error_score=nan,\n",
       "             estimator=LinearRegression(copy_X=True, fit_intercept=True,\n",
       "                                        n_jobs=None, normalize=False),\n",
       "             iid='deprecated', n_jobs=None,\n",
       "             param_grid={'fit_intercept': [True, False],\n",
       "                         'normalize': ['True', 'False']},\n",
       "             pre_dispatch='2*n_jobs', refit=True, return_train_score=False,\n",
       "             scoring=make_scorer(mean_squared_error, greater_is_better=False),\n",
       "             verbose=0)"
      ]
     },
     "execution_count": 207,
     "metadata": {},
     "output_type": "execute_result"
    }
   ],
   "source": [
    "model5 = LinearRegression()\n",
    "param_grid5 = {\n",
    "    \"fit_intercept\": [True, False],\n",
    "    \"normalize\": ['True', 'False'], \n",
    "    }\n",
    "clf5 = GridSearchCV(model5, param_grid5, scoring=make_scorer(mean_squared_error, greater_is_better=False), cv=3)\n",
    "clf5.fit(X_train, y_train)"
   ]
  },
  {
   "cell_type": "code",
   "execution_count": null,
   "metadata": {
    "colab": {
     "base_uri": "https://localhost:8080/"
    },
    "id": "MeBKOJgdY97A",
    "outputId": "233da85c-63d6-4cc3-dfbf-7ed8ac1f58ea"
   },
   "outputs": [
    {
     "name": "stdout",
     "output_type": "stream",
     "text": [
      "MAE: 1015.7294725205129 \n",
      "MSE: 3454072.203637611 \n",
      "RMSE: 1858.5134391867095\n"
     ]
    }
   ],
   "source": [
    "get_score(y_test, clf5.predict(X_test))"
   ]
  },
  {
   "cell_type": "markdown",
   "metadata": {
    "id": "L6wrmIkoZL4i"
   },
   "source": [
    "SGDRegressor"
   ]
  },
  {
   "cell_type": "code",
   "execution_count": null,
   "metadata": {
    "colab": {
     "base_uri": "https://localhost:8080/"
    },
    "id": "HHnnQeHJZMFR",
    "outputId": "a1771e20-0b66-4e7d-8d08-779437c3f4f4"
   },
   "outputs": [
    {
     "data": {
      "text/plain": [
       "GridSearchCV(cv=3, error_score=nan,\n",
       "             estimator=SGDRegressor(alpha=0.0001, average=False,\n",
       "                                    early_stopping=False, epsilon=0.1,\n",
       "                                    eta0=0.01, fit_intercept=True,\n",
       "                                    l1_ratio=0.15, learning_rate='invscaling',\n",
       "                                    loss='squared_loss', max_iter=1000,\n",
       "                                    n_iter_no_change=5, penalty='l2',\n",
       "                                    power_t=0.25, random_state=None,\n",
       "                                    shuffle=True, tol=0.001,\n",
       "                                    validation_fraction=0.1, verbose=0,\n",
       "                                    warm_start=False),\n",
       "             iid='deprecated', n_jobs=None,\n",
       "             param_grid={'alpha': array([0.        , 0.11111111, 0.22222222, 0.33333333, 0.44444444,\n",
       "       0.55555556, 0.66666667, 0.77777778, 0.88888889, 1.        ]),\n",
       "                         'max_iter': [500, 1000, 1500, 2500]},\n",
       "             pre_dispatch='2*n_jobs', refit=True, return_train_score=False,\n",
       "             scoring=make_scorer(mean_squared_error, greater_is_better=False),\n",
       "             verbose=0)"
      ]
     },
     "execution_count": 212,
     "metadata": {},
     "output_type": "execute_result"
    }
   ],
   "source": [
    "model6 = SGDRegressor()\n",
    "param_grid6 = {\n",
    "    \"max_iter\": [500, 1000, 1500, 2500],\n",
    "    \"alpha\": np.linspace(0, 1, 10), \n",
    "    }\n",
    "clf6 = GridSearchCV(model6, param_grid6, scoring=make_scorer(mean_squared_error, greater_is_better=False), cv=3)\n",
    "clf6.fit(X_train, y_train)"
   ]
  },
  {
   "cell_type": "code",
   "execution_count": null,
   "metadata": {
    "colab": {
     "base_uri": "https://localhost:8080/"
    },
    "id": "dcC7vvuWZMKE",
    "outputId": "e0839342-486a-41e7-b88f-28f6144913be"
   },
   "outputs": [
    {
     "name": "stdout",
     "output_type": "stream",
     "text": [
      "MAE: 738.5553456718786 \n",
      "MSE: 1701466.8323918155 \n",
      "RMSE: 1304.4028642991457\n"
     ]
    }
   ],
   "source": [
    "get_score(y_test, clf6.predict(X_test))"
   ]
  },
  {
   "cell_type": "markdown",
   "metadata": {
    "id": "og0hsEeuZm95"
   },
   "source": [
    "Вывод: лучшее качество было достигнуто при использовании Random Forest (что было ожидаемо, так как это более сильная модель, чем простая линейная регрессия) и векторизации с помощью BOW. Последнее мне показалось странным, я думала, что TF-IDF лучше себя покажет. "
   ]
  },
  {
   "cell_type": "markdown",
   "metadata": {
    "id": "UGa1TNZMa27W"
   },
   "source": [
    "# Задание 2"
   ]
  },
  {
   "cell_type": "code",
   "execution_count": null,
   "metadata": {
    "colab": {
     "base_uri": "https://localhost:8080/",
     "height": 776
    },
    "id": "YqUG5J7ObAit",
    "outputId": "11dc44c6-de18-41b9-808d-ab8c036300d3"
   },
   "outputs": [
    {
     "data": {
      "text/html": [
       "<div>\n",
       "<style scoped>\n",
       "    .dataframe tbody tr th:only-of-type {\n",
       "        vertical-align: middle;\n",
       "    }\n",
       "\n",
       "    .dataframe tbody tr th {\n",
       "        vertical-align: top;\n",
       "    }\n",
       "\n",
       "    .dataframe thead th {\n",
       "        text-align: right;\n",
       "    }\n",
       "</style>\n",
       "<table border=\"1\" class=\"dataframe\">\n",
       "  <thead>\n",
       "    <tr style=\"text-align: right;\">\n",
       "      <th></th>\n",
       "      <th>title</th>\n",
       "      <th>price</th>\n",
       "      <th>rating</th>\n",
       "      <th>total_reviews</th>\n",
       "      <th>product_description</th>\n",
       "      <th>reviews</th>\n",
       "      <th>reviews_rating</th>\n",
       "      <th>Shoe Type</th>\n",
       "    </tr>\n",
       "  </thead>\n",
       "  <tbody>\n",
       "    <tr>\n",
       "      <th>0</th>\n",
       "      <td>CLYMB Outdoor Sports Running Shoes for Mens Boy</td>\n",
       "      <td>₹279.00</td>\n",
       "      <td>2.9 out of 5 stars</td>\n",
       "      <td>2389 ratings</td>\n",
       "      <td>Elevate your style with this classy pair of Ru...</td>\n",
       "      <td>Not happy with product|| It's not as expected....</td>\n",
       "      <td>1.0 out of 5 stars|| 1.0 out of 5 stars|| 3.0 ...</td>\n",
       "      <td>Men</td>\n",
       "    </tr>\n",
       "    <tr>\n",
       "      <th>1</th>\n",
       "      <td>Bourge Men's Loire-z126 Running Shoes</td>\n",
       "      <td>₹479.00</td>\n",
       "      <td>3.9 out of 5 stars</td>\n",
       "      <td>11520 ratings</td>\n",
       "      <td>The product will be an excellent pick for you....</td>\n",
       "      <td>Memory cushioning in these shoes is the best f...</td>\n",
       "      <td>5.0 out of 5 stars|| 1.0 out of 5 stars|| 5.0 ...</td>\n",
       "      <td>Men</td>\n",
       "    </tr>\n",
       "    <tr>\n",
       "      <th>2</th>\n",
       "      <td>T-Rock Men's Sneaker</td>\n",
       "      <td>₹430.00</td>\n",
       "      <td>3.3 out of 5 stars</td>\n",
       "      <td>1251 ratings</td>\n",
       "      <td>Flaunt with these stylish and unique red casua...</td>\n",
       "      <td>Worth to its amount|| Go for it|| Perfect|| 5 ...</td>\n",
       "      <td>5.0 out of 5 stars|| 5.0 out of 5 stars|| 5.0 ...</td>\n",
       "      <td>Men</td>\n",
       "    </tr>\n",
       "    <tr>\n",
       "      <th>3</th>\n",
       "      <td>Robbie jones Sneakers Casual Canvas Fabric Col...</td>\n",
       "      <td>₹499.00</td>\n",
       "      <td>4.2 out of 5 stars</td>\n",
       "      <td>3 ratings</td>\n",
       "      <td>Robbie Jones Shoes Are Designed To Keeping In ...</td>\n",
       "      <td>Sup quality|| Good but not expected|| Awesome 👌.!</td>\n",
       "      <td>5.0 out of 5 stars|| 3.0 out of 5 stars|| 5.0 ...</td>\n",
       "      <td>Men</td>\n",
       "    </tr>\n",
       "    <tr>\n",
       "      <th>4</th>\n",
       "      <td>Sparx Men's Sd0323g Sneakers</td>\n",
       "      <td>₹499.00</td>\n",
       "      <td>4.2 out of 5 stars</td>\n",
       "      <td>20110 ratings</td>\n",
       "      <td>Sparx is a spectacular range of footwear from ...</td>\n",
       "      <td>Best|| Satisfied!|| Affordable beauty 😘😘😘😘 the...</td>\n",
       "      <td>5.0 out of 5 stars|| 5.0 out of 5 stars|| 5.0 ...</td>\n",
       "      <td>Men</td>\n",
       "    </tr>\n",
       "    <tr>\n",
       "      <th>...</th>\n",
       "      <td>...</td>\n",
       "      <td>...</td>\n",
       "      <td>...</td>\n",
       "      <td>...</td>\n",
       "      <td>...</td>\n",
       "      <td>...</td>\n",
       "      <td>...</td>\n",
       "      <td>...</td>\n",
       "    </tr>\n",
       "    <tr>\n",
       "      <th>1225</th>\n",
       "      <td>Nike Men's React Vision Running Shoes</td>\n",
       "      <td>₹7256.00</td>\n",
       "      <td>4.4 out of 5 stars</td>\n",
       "      <td>200 ratings</td>\n",
       "      <td>The Nike react vision is a STORY of surreal co...</td>\n",
       "      <td>Must buy|| not have a great fiting but great q...</td>\n",
       "      <td>5.0 out of 5 stars|| 3.0 out of 5 stars|| 5.0 ...</td>\n",
       "      <td>Women</td>\n",
       "    </tr>\n",
       "    <tr>\n",
       "      <th>1226</th>\n",
       "      <td>Puma Men's B.O.G Limitless Hi Evoknit Sneakers</td>\n",
       "      <td>₹5822.00</td>\n",
       "      <td>4.3 out of 5 stars</td>\n",
       "      <td>25 ratings</td>\n",
       "      <td>The B.O.G limitless is Puma's key style for th...</td>\n",
       "      <td>Worth buying !|| Classy Bold and Stylish !!|| ...</td>\n",
       "      <td>4.0 out of 5 stars|| 5.0 out of 5 stars|| 3.0 ...</td>\n",
       "      <td>Women</td>\n",
       "    </tr>\n",
       "    <tr>\n",
       "      <th>1227</th>\n",
       "      <td>new balance Women's FuelCell Echolucent Runnin...</td>\n",
       "      <td>₹5362.00</td>\n",
       "      <td>4.5 out of 5 stars</td>\n",
       "      <td>817 ratings</td>\n",
       "      <td>Lead the pack in New Balance’s Echolucent snea...</td>\n",
       "      <td>size variation in product recd n size chart|| ...</td>\n",
       "      <td>5.0 out of 5 stars|| 5.0 out of 5 stars|| 5.0 ...</td>\n",
       "      <td>Women</td>\n",
       "    </tr>\n",
       "    <tr>\n",
       "      <th>1228</th>\n",
       "      <td>Nike Women's WMNS Air Zoom Pegasus 37 Running ...</td>\n",
       "      <td>₹7480.00</td>\n",
       "      <td>4.5 out of 5 stars</td>\n",
       "      <td>67 ratings</td>\n",
       "      <td>Nike మహిళల రన్నింగ్ షూ ఫీల్స్ మరియు రూపం మృదువ...</td>\n",
       "      <td>Verified Purchase|| Verified Purchase|| Verifi...</td>\n",
       "      <td>5.0 out of 5 stars|| 5.0 out of 5 stars|| 4.0 ...</td>\n",
       "      <td>Women</td>\n",
       "    </tr>\n",
       "    <tr>\n",
       "      <th>1229</th>\n",
       "      <td>ASICS Women Gt-2000 7 Lite-Show Running Shoes</td>\n",
       "      <td>₹5719.00</td>\n",
       "      <td>4.1 out of 5 stars</td>\n",
       "      <td>210 ratings</td>\n",
       "      <td>The GT-2000 7 achieves a reassuringly firm rid...</td>\n",
       "      <td>Great shoe|| excellent quality|| Old manufactu...</td>\n",
       "      <td>5.0 out of 5 stars|| 5.0 out of 5 stars|| 3.0 ...</td>\n",
       "      <td>Women</td>\n",
       "    </tr>\n",
       "  </tbody>\n",
       "</table>\n",
       "<p>1230 rows × 8 columns</p>\n",
       "</div>"
      ],
      "text/plain": [
       "                                                  title  ... Shoe Type\n",
       "0       CLYMB Outdoor Sports Running Shoes for Mens Boy  ...       Men\n",
       "1                 Bourge Men's Loire-z126 Running Shoes  ...       Men\n",
       "2                                  T-Rock Men's Sneaker  ...       Men\n",
       "3     Robbie jones Sneakers Casual Canvas Fabric Col...  ...       Men\n",
       "4                          Sparx Men's Sd0323g Sneakers  ...       Men\n",
       "...                                                 ...  ...       ...\n",
       "1225              Nike Men's React Vision Running Shoes  ...     Women\n",
       "1226     Puma Men's B.O.G Limitless Hi Evoknit Sneakers  ...     Women\n",
       "1227  new balance Women's FuelCell Echolucent Runnin...  ...     Women\n",
       "1228  Nike Women's WMNS Air Zoom Pegasus 37 Running ...  ...     Women\n",
       "1229      ASICS Women Gt-2000 7 Lite-Show Running Shoes  ...     Women\n",
       "\n",
       "[1230 rows x 8 columns]"
      ]
     },
     "execution_count": 214,
     "metadata": {},
     "output_type": "execute_result"
    }
   ],
   "source": [
    "df = pd.read_csv('Shoes_Data.csv')\n",
    "df"
   ]
  },
  {
   "cell_type": "markdown",
   "metadata": {
    "id": "nNchyWfBbh52"
   },
   "source": [
    "проанализируем данные, посмотрим есть ли пропуски\n"
   ]
  },
  {
   "cell_type": "code",
   "execution_count": null,
   "metadata": {
    "colab": {
     "base_uri": "https://localhost:8080/"
    },
    "id": "_8MlwPYZbAli",
    "outputId": "88dadb75-32ce-4b31-837c-1df0695f1539"
   },
   "outputs": [
    {
     "name": "stdout",
     "output_type": "stream",
     "text": [
      "<class 'pandas.core.frame.DataFrame'>\n",
      "RangeIndex: 1230 entries, 0 to 1229\n",
      "Data columns (total 8 columns):\n",
      " #   Column               Non-Null Count  Dtype \n",
      "---  ------               --------------  ----- \n",
      " 0   title                1230 non-null   object\n",
      " 1   price                1230 non-null   object\n",
      " 2   rating               1230 non-null   object\n",
      " 3   total_reviews        1230 non-null   object\n",
      " 4   product_description  1230 non-null   object\n",
      " 5   reviews              1230 non-null   object\n",
      " 6   reviews_rating       1230 non-null   object\n",
      " 7   Shoe Type            1230 non-null   object\n",
      "dtypes: object(8)\n",
      "memory usage: 77.0+ KB\n"
     ]
    }
   ],
   "source": [
    "df.info()"
   ]
  },
  {
   "cell_type": "markdown",
   "metadata": {},
   "source": [
    "Так как в одной строчке находится сразу несколько отзывов и оценок на один товар, разделим эти строки по знаку '||' и сделаем новый датафрейм"
   ]
  },
  {
   "cell_type": "code",
   "execution_count": null,
   "metadata": {
    "id": "_cyaPLzRbAoT"
   },
   "outputs": [],
   "source": [
    "titles, reviews, stars = [], [], []\n",
    "for i in range(df.shape[0]):\n",
    "  reviews.extend(df['reviews'][i].split('||'))\n",
    "  marks = df['reviews_rating'][i].split('|| ')\n",
    "  stars.extend([int(j[0]) for j in marks])\n",
    "  titles.extend([df['title'][i] for _ in range(len(marks))])"
   ]
  },
  {
   "cell_type": "code",
   "execution_count": null,
   "metadata": {
    "id": "z1C7Xpd_bAq8"
   },
   "outputs": [],
   "source": [
    "df = pd.DataFrame()\n",
    "df['title'] = titles\n",
    "df['review'] = reviews\n",
    "df['star'] = stars"
   ]
  },
  {
   "cell_type": "code",
   "execution_count": null,
   "metadata": {
    "colab": {
     "base_uri": "https://localhost:8080/",
     "height": 419
    },
    "id": "lh3HEQ1gbAtq",
    "outputId": "af93f6c7-649f-41bd-b32c-4831aa67afde"
   },
   "outputs": [
    {
     "data": {
      "text/html": [
       "<div>\n",
       "<style scoped>\n",
       "    .dataframe tbody tr th:only-of-type {\n",
       "        vertical-align: middle;\n",
       "    }\n",
       "\n",
       "    .dataframe tbody tr th {\n",
       "        vertical-align: top;\n",
       "    }\n",
       "\n",
       "    .dataframe thead th {\n",
       "        text-align: right;\n",
       "    }\n",
       "</style>\n",
       "<table border=\"1\" class=\"dataframe\">\n",
       "  <thead>\n",
       "    <tr style=\"text-align: right;\">\n",
       "      <th></th>\n",
       "      <th>title</th>\n",
       "      <th>review</th>\n",
       "      <th>star</th>\n",
       "    </tr>\n",
       "  </thead>\n",
       "  <tbody>\n",
       "    <tr>\n",
       "      <th>0</th>\n",
       "      <td>CLYMB Outdoor Sports Running Shoes for Mens Boy</td>\n",
       "      <td>Not happy with product</td>\n",
       "      <td>1</td>\n",
       "    </tr>\n",
       "    <tr>\n",
       "      <th>1</th>\n",
       "      <td>CLYMB Outdoor Sports Running Shoes for Mens Boy</td>\n",
       "      <td>It's not as expected.</td>\n",
       "      <td>1</td>\n",
       "    </tr>\n",
       "    <tr>\n",
       "      <th>2</th>\n",
       "      <td>CLYMB Outdoor Sports Running Shoes for Mens Boy</td>\n",
       "      <td>AVERAGE PRODUCT</td>\n",
       "      <td>3</td>\n",
       "    </tr>\n",
       "    <tr>\n",
       "      <th>3</th>\n",
       "      <td>CLYMB Outdoor Sports Running Shoes for Mens Boy</td>\n",
       "      <td>Pic more beautiful</td>\n",
       "      <td>3</td>\n",
       "    </tr>\n",
       "    <tr>\n",
       "      <th>4</th>\n",
       "      <td>CLYMB Outdoor Sports Running Shoes for Mens Boy</td>\n",
       "      <td>Got damage product. But quality is average fo...</td>\n",
       "      <td>3</td>\n",
       "    </tr>\n",
       "    <tr>\n",
       "      <th>...</th>\n",
       "      <td>...</td>\n",
       "      <td>...</td>\n",
       "      <td>...</td>\n",
       "    </tr>\n",
       "    <tr>\n",
       "      <th>9953</th>\n",
       "      <td>ASICS Women Gt-2000 7 Lite-Show Running Shoes</td>\n",
       "      <td>Go for it!</td>\n",
       "      <td>5</td>\n",
       "    </tr>\n",
       "    <tr>\n",
       "      <th>9954</th>\n",
       "      <td>ASICS Women Gt-2000 7 Lite-Show Running Shoes</td>\n",
       "      <td>Excellent product</td>\n",
       "      <td>5</td>\n",
       "    </tr>\n",
       "    <tr>\n",
       "      <th>9955</th>\n",
       "      <td>ASICS Women Gt-2000 7 Lite-Show Running Shoes</td>\n",
       "      <td>Nice shoe</td>\n",
       "      <td>5</td>\n",
       "    </tr>\n",
       "    <tr>\n",
       "      <th>9956</th>\n",
       "      <td>ASICS Women Gt-2000 7 Lite-Show Running Shoes</td>\n",
       "      <td>Nice</td>\n",
       "      <td>5</td>\n",
       "    </tr>\n",
       "    <tr>\n",
       "      <th>9957</th>\n",
       "      <td>ASICS Women Gt-2000 7 Lite-Show Running Shoes</td>\n",
       "      <td>Asics shoes are the best</td>\n",
       "      <td>5</td>\n",
       "    </tr>\n",
       "  </tbody>\n",
       "</table>\n",
       "<p>9958 rows × 3 columns</p>\n",
       "</div>"
      ],
      "text/plain": [
       "                                                title  ... star\n",
       "0     CLYMB Outdoor Sports Running Shoes for Mens Boy  ...    1\n",
       "1     CLYMB Outdoor Sports Running Shoes for Mens Boy  ...    1\n",
       "2     CLYMB Outdoor Sports Running Shoes for Mens Boy  ...    3\n",
       "3     CLYMB Outdoor Sports Running Shoes for Mens Boy  ...    3\n",
       "4     CLYMB Outdoor Sports Running Shoes for Mens Boy  ...    3\n",
       "...                                               ...  ...  ...\n",
       "9953    ASICS Women Gt-2000 7 Lite-Show Running Shoes  ...    5\n",
       "9954    ASICS Women Gt-2000 7 Lite-Show Running Shoes  ...    5\n",
       "9955    ASICS Women Gt-2000 7 Lite-Show Running Shoes  ...    5\n",
       "9956    ASICS Women Gt-2000 7 Lite-Show Running Shoes  ...    5\n",
       "9957    ASICS Women Gt-2000 7 Lite-Show Running Shoes  ...    5\n",
       "\n",
       "[9958 rows x 3 columns]"
      ]
     },
     "execution_count": 218,
     "metadata": {},
     "output_type": "execute_result"
    }
   ],
   "source": [
    "df"
   ]
  },
  {
   "cell_type": "markdown",
   "metadata": {
    "id": "HzSch-_ocZ73"
   },
   "source": [
    "Может ли оценка товара зависеть от длины отзыва? Например более подробно расписанные отзывы могут иметь плохую оценку и наоборот?"
   ]
  },
  {
   "cell_type": "code",
   "execution_count": null,
   "metadata": {
    "colab": {
     "base_uri": "https://localhost:8080/",
     "height": 279
    },
    "id": "yoirp329bAze",
    "outputId": "5792d885-fc18-4787-faa9-505c915e4afa"
   },
   "outputs": [
    {
     "data": {
      "image/png": "[encoded data removed]",
      "text/plain": [
       "<Figure size 432x288 with 1 Axes>"
      ]
     },
     "metadata": {
      "needs_background": "light"
     },
     "output_type": "display_data"
    }
   ],
   "source": [
    "plt.scatter(df.star, df.review.apply(lambda x: len(x.split(' '))))\n",
    "plt.xlabel('Оценка (1-5)')\n",
    "plt.ylabel('Количество слов');"
   ]
  },
  {
   "cell_type": "markdown",
   "metadata": {
    "id": "Tjbu9tFVcS15"
   },
   "source": [
    "Особой зависимости нет"
   ]
  },
  {
   "cell_type": "markdown",
   "metadata": {
    "id": "2weEc-oGexlo"
   },
   "source": [
    "Посмотрим на распределение оценок"
   ]
  },
  {
   "cell_type": "code",
   "execution_count": null,
   "metadata": {
    "colab": {
     "base_uri": "https://localhost:8080/",
     "height": 265
    },
    "id": "k1Q0g8RMbA44",
    "outputId": "edca79ea-eaca-448d-e917-a1cc697dfe02"
   },
   "outputs": [
    {
     "data": {
      "image/png": "[encoded data removed]",
      "text/plain": [
       "<Figure size 432x288 with 1 Axes>"
      ]
     },
     "metadata": {
      "needs_background": "light"
     },
     "output_type": "display_data"
    }
   ],
   "source": [
    "df.boxplot(column='star');"
   ]
  },
  {
   "cell_type": "code",
   "execution_count": null,
   "metadata": {
    "colab": {
     "base_uri": "https://localhost:8080/",
     "height": 265
    },
    "id": "5omVredDbA76",
    "outputId": "9f2a5b4f-e321-491e-b328-45d802f019cf"
   },
   "outputs": [
    {
     "data": {
      "image/png": "[encoded data removed]",
      "text/plain": [
       "<Figure size 432x288 with 1 Axes>"
      ]
     },
     "metadata": {
      "needs_background": "light"
     },
     "output_type": "display_data"
    }
   ],
   "source": [
    "df.star.hist();"
   ]
  },
  {
   "cell_type": "code",
   "execution_count": null,
   "metadata": {
    "colab": {
     "base_uri": "https://localhost:8080/"
    },
    "id": "iALEwBjjhFlw",
    "outputId": "9a18975a-a50e-42f3-ffe9-6cd09b59d1d9"
   },
   "outputs": [
    {
     "data": {
      "text/plain": [
       "5    4944\n",
       "4    1853\n",
       "1    1749\n",
       "3     863\n",
       "2     549\n",
       "Name: star, dtype: int64"
      ]
     },
     "execution_count": 230,
     "metadata": {},
     "output_type": "execute_result"
    }
   ],
   "source": [
    "df['star'].value_counts()"
   ]
  },
  {
   "cell_type": "markdown",
   "metadata": {
    "id": "YifZfijOe3aa"
   },
   "source": [
    "Больше всего оценок 5, далее идут 1 и 4, оставшееся на 2 и 3"
   ]
  },
  {
   "cell_type": "code",
   "execution_count": null,
   "metadata": {
    "colab": {
     "base_uri": "https://localhost:8080/",
     "height": 49,
     "referenced_widgets": [
      "cd4ddae72b73415b866a014c1c1fa5f0",
      "f70673911cf941dbbf46a48c15df9cf2",
      "9bb5969145cc4768a5677e02929beb81",
      "a7094b27a2334e89a9488d599b57277c",
      "086da43045794eb0af02d6da7221f531",
      "8fece3304f404e5d987ed7c6ddaadf28",
      "e70dd6a84e9e49c5a9226dbce506d648",
      "312d9df985014a96b7225285bf9c4dd9",
      "208c11c1d35e469697e0330f3f26ce55",
      "478b0fed4c334d71b74a1fc94dd67006",
      "0783885cee744277b2a23f121e3ffb66"
     ]
    },
    "id": "ulBzBXIVfAE2",
    "outputId": "dbb9f63f-1e61-4583-8794-ac67b98744c9"
   },
   "outputs": [
    {
     "data": {
      "application/vnd.jupyter.widget-view+json": {
       "model_id": "cd4ddae72b73415b866a014c1c1fa5f0",
       "version_major": 2,
       "version_minor": 0
      },
      "text/plain": [
       "  0%|          | 0/9958 [00:00<?, ?it/s]"
      ]
     },
     "metadata": {},
     "output_type": "display_data"
    }
   ],
   "source": [
    "df['review'] = [clean(t) for t in tqdm(df['review'])]"
   ]
  },
  {
   "cell_type": "code",
   "execution_count": null,
   "metadata": {
    "colab": {
     "base_uri": "https://localhost:8080/",
     "height": 419
    },
    "id": "APSC4cC1fSQh",
    "outputId": "2b132d45-d937-44bd-f9c5-03388d5ecaf7"
   },
   "outputs": [
    {
     "data": {
      "text/html": [
       "<div>\n",
       "<style scoped>\n",
       "    .dataframe tbody tr th:only-of-type {\n",
       "        vertical-align: middle;\n",
       "    }\n",
       "\n",
       "    .dataframe tbody tr th {\n",
       "        vertical-align: top;\n",
       "    }\n",
       "\n",
       "    .dataframe thead th {\n",
       "        text-align: right;\n",
       "    }\n",
       "</style>\n",
       "<table border=\"1\" class=\"dataframe\">\n",
       "  <thead>\n",
       "    <tr style=\"text-align: right;\">\n",
       "      <th></th>\n",
       "      <th>title</th>\n",
       "      <th>review</th>\n",
       "      <th>star</th>\n",
       "    </tr>\n",
       "  </thead>\n",
       "  <tbody>\n",
       "    <tr>\n",
       "      <th>0</th>\n",
       "      <td>CLYMB Outdoor Sports Running Shoes for Mens Boy</td>\n",
       "      <td>happy product</td>\n",
       "      <td>1</td>\n",
       "    </tr>\n",
       "    <tr>\n",
       "      <th>1</th>\n",
       "      <td>CLYMB Outdoor Sports Running Shoes for Mens Boy</td>\n",
       "      <td>expected</td>\n",
       "      <td>1</td>\n",
       "    </tr>\n",
       "    <tr>\n",
       "      <th>2</th>\n",
       "      <td>CLYMB Outdoor Sports Running Shoes for Mens Boy</td>\n",
       "      <td>average product</td>\n",
       "      <td>3</td>\n",
       "    </tr>\n",
       "    <tr>\n",
       "      <th>3</th>\n",
       "      <td>CLYMB Outdoor Sports Running Shoes for Mens Boy</td>\n",
       "      <td>pic beautiful</td>\n",
       "      <td>3</td>\n",
       "    </tr>\n",
       "    <tr>\n",
       "      <th>4</th>\n",
       "      <td>CLYMB Outdoor Sports Running Shoes for Mens Boy</td>\n",
       "      <td>got damage product quality average 300</td>\n",
       "      <td>3</td>\n",
       "    </tr>\n",
       "    <tr>\n",
       "      <th>...</th>\n",
       "      <td>...</td>\n",
       "      <td>...</td>\n",
       "      <td>...</td>\n",
       "    </tr>\n",
       "    <tr>\n",
       "      <th>9953</th>\n",
       "      <td>ASICS Women Gt-2000 7 Lite-Show Running Shoes</td>\n",
       "      <td>go !</td>\n",
       "      <td>5</td>\n",
       "    </tr>\n",
       "    <tr>\n",
       "      <th>9954</th>\n",
       "      <td>ASICS Women Gt-2000 7 Lite-Show Running Shoes</td>\n",
       "      <td>excellent product</td>\n",
       "      <td>5</td>\n",
       "    </tr>\n",
       "    <tr>\n",
       "      <th>9955</th>\n",
       "      <td>ASICS Women Gt-2000 7 Lite-Show Running Shoes</td>\n",
       "      <td>nice shoe</td>\n",
       "      <td>5</td>\n",
       "    </tr>\n",
       "    <tr>\n",
       "      <th>9956</th>\n",
       "      <td>ASICS Women Gt-2000 7 Lite-Show Running Shoes</td>\n",
       "      <td>nice</td>\n",
       "      <td>5</td>\n",
       "    </tr>\n",
       "    <tr>\n",
       "      <th>9957</th>\n",
       "      <td>ASICS Women Gt-2000 7 Lite-Show Running Shoes</td>\n",
       "      <td>asics shoes best</td>\n",
       "      <td>5</td>\n",
       "    </tr>\n",
       "  </tbody>\n",
       "</table>\n",
       "<p>9958 rows × 3 columns</p>\n",
       "</div>"
      ],
      "text/plain": [
       "                                                title  ... star\n",
       "0     CLYMB Outdoor Sports Running Shoes for Mens Boy  ...    1\n",
       "1     CLYMB Outdoor Sports Running Shoes for Mens Boy  ...    1\n",
       "2     CLYMB Outdoor Sports Running Shoes for Mens Boy  ...    3\n",
       "3     CLYMB Outdoor Sports Running Shoes for Mens Boy  ...    3\n",
       "4     CLYMB Outdoor Sports Running Shoes for Mens Boy  ...    3\n",
       "...                                               ...  ...  ...\n",
       "9953    ASICS Women Gt-2000 7 Lite-Show Running Shoes  ...    5\n",
       "9954    ASICS Women Gt-2000 7 Lite-Show Running Shoes  ...    5\n",
       "9955    ASICS Women Gt-2000 7 Lite-Show Running Shoes  ...    5\n",
       "9956    ASICS Women Gt-2000 7 Lite-Show Running Shoes  ...    5\n",
       "9957    ASICS Women Gt-2000 7 Lite-Show Running Shoes  ...    5\n",
       "\n",
       "[9958 rows x 3 columns]"
      ]
     },
     "execution_count": 225,
     "metadata": {},
     "output_type": "execute_result"
    }
   ],
   "source": [
    "df"
   ]
  },
  {
   "cell_type": "markdown",
   "metadata": {
    "id": "mO8_mCw5feN6"
   },
   "source": [
    "Разобьем данные на трейн и тест, далее будем обучать векторайзеры на трейне и векторизовать тест"
   ]
  },
  {
   "cell_type": "code",
   "execution_count": null,
   "metadata": {
    "id": "XzT-p7f0fST8"
   },
   "outputs": [],
   "source": [
    "XX_train, XX_test, y_train, y_test = train_test_split(df['review'], df['star'])"
   ]
  },
  {
   "cell_type": "code",
   "execution_count": null,
   "metadata": {
    "id": "XgKEfn-nfSXX"
   },
   "outputs": [],
   "source": [
    "vectorizer = TfidfVectorizer()\n",
    "X_train =  vectorizer.fit_transform(XX_train)\n",
    "X_test = vectorizer.transform(XX_test)"
   ]
  },
  {
   "cell_type": "markdown",
   "metadata": {
    "id": "NUKdkQAjgmno"
   },
   "source": [
    "RandomForestClassifier"
   ]
  },
  {
   "cell_type": "code",
   "execution_count": null,
   "metadata": {
    "colab": {
     "base_uri": "https://localhost:8080/"
    },
    "id": "JTOmhwa7fSac",
    "outputId": "02056a15-90f7-44ba-a352-523629f94f13"
   },
   "outputs": [
    {
     "data": {
      "text/plain": [
       "GridSearchCV(cv=3, error_score=nan,\n",
       "             estimator=RandomForestClassifier(bootstrap=True, ccp_alpha=0.0,\n",
       "                                              class_weight=None,\n",
       "                                              criterion='gini', max_depth=None,\n",
       "                                              max_features='auto',\n",
       "                                              max_leaf_nodes=None,\n",
       "                                              max_samples=None,\n",
       "                                              min_impurity_decrease=0.0,\n",
       "                                              min_impurity_split=None,\n",
       "                                              min_samples_leaf=1,\n",
       "                                              min_samples_split=2,\n",
       "                                              min_weight_fraction_leaf=0.0,\n",
       "                                              n_estimators=100, n_jobs=None,\n",
       "                                              oob_score=False,\n",
       "                                              random_state=None, verbose=0,\n",
       "                                              warm_start=False),\n",
       "             iid='deprecated', n_jobs=None,\n",
       "             param_grid={'max_depth': [100, 300, 500],\n",
       "                         'n_estimators': [50, 100, 200]},\n",
       "             pre_dispatch='2*n_jobs', refit=True, return_train_score=False,\n",
       "             scoring=None, verbose=0)"
      ]
     },
     "execution_count": 235,
     "metadata": {},
     "output_type": "execute_result"
    }
   ],
   "source": [
    "model1 = RandomForestClassifier()\n",
    "param_grid = {\n",
    "    'n_estimators': [50, 100, 200],\n",
    "    'max_depth': [100, 300, 500],\n",
    "    }\n",
    "clf1 = GridSearchCV(model1, param_grid, cv=3)\n",
    "clf1.fit(X_train, y_train)"
   ]
  },
  {
   "cell_type": "code",
   "execution_count": null,
   "metadata": {
    "id": "NMDeeuhTlzRI"
   },
   "outputs": [],
   "source": [
    "import seaborn as sns"
   ]
  },
  {
   "cell_type": "code",
   "execution_count": 263,
   "metadata": {
    "colab": {
     "base_uri": "https://localhost:8080/",
     "height": 282
    },
    "id": "XWyD3Llfr7If",
    "outputId": "d2819c32-a6ba-4522-d5b2-c3870c02d41c"
   },
   "outputs": [
    {
     "data": {
      "text/plain": [
       "<matplotlib.axes._subplots.AxesSubplot at 0x7fa839ba3690>"
      ]
     },
     "execution_count": 263,
     "metadata": {},
     "output_type": "execute_result"
    },
    {
     "data": {
      "image/png": "[encoded data removed]",
      "text/plain": [
       "<Figure size 432x288 with 1 Axes>"
      ]
     },
     "metadata": {
      "needs_background": "light"
     },
     "output_type": "display_data"
    }
   ],
   "source": [
    "cs = [i for i in clf1.cv_results_['param_n_estimators']]\n",
    "quals = [i for i in clf1.cv_results_['mean_test_score']]\n",
    "sns.scatterplot(cs, quals)"
   ]
  },
  {
   "cell_type": "code",
   "execution_count": null,
   "metadata": {
    "colab": {
     "base_uri": "https://localhost:8080/",
     "height": 265
    },
    "id": "RIqINViPfSku",
    "outputId": "b7e27fae-c1ef-44f1-a5b4-d534436d961c"
   },
   "outputs": [
    {
     "data": {
      "image/png": "[encoded data removed]",
      "text/plain": [
       "<Figure size 432x288 with 2 Axes>"
      ]
     },
     "metadata": {
      "needs_background": "light"
     },
     "output_type": "display_data"
    }
   ],
   "source": [
    "sns.heatmap(confusion_matrix(y_test, clf1.predict(X_test)), xticklabels=clf1.classes_[1:], yticklabels=clf1.classes_[1:]);"
   ]
  },
  {
   "cell_type": "code",
   "execution_count": null,
   "metadata": {
    "colab": {
     "base_uri": "https://localhost:8080/"
    },
    "id": "tktTk6XgfSeG",
    "outputId": "745eba5b-341e-4496-e897-292b4d12d375"
   },
   "outputs": [
    {
     "name": "stdout",
     "output_type": "stream",
     "text": [
      "              precision    recall  f1-score   support\n",
      "\n",
      "           1       0.73      0.65      0.69       415\n",
      "           2       0.45      0.18      0.26       134\n",
      "           3       0.61      0.28      0.39       218\n",
      "           4       0.59      0.22      0.32       468\n",
      "           5       0.66      0.94      0.78      1255\n",
      "\n",
      "    accuracy                           0.66      2490\n",
      "   macro avg       0.61      0.46      0.49      2490\n",
      "weighted avg       0.64      0.66      0.61      2490\n",
      "\n"
     ]
    }
   ],
   "source": [
    "print(classification_report(y_test, clf1.predict(X_test)))"
   ]
  },
  {
   "cell_type": "markdown",
   "metadata": {
    "id": "fzMePcPzmJfH"
   },
   "source": [
    "LogisticRegression"
   ]
  },
  {
   "cell_type": "code",
   "execution_count": null,
   "metadata": {
    "colab": {
     "base_uri": "https://localhost:8080/"
    },
    "id": "IQQyUzDomJnL",
    "outputId": "bf267506-6023-47ee-f69a-c70351209530"
   },
   "outputs": [
    {
     "data": {
      "text/plain": [
       "GridSearchCV(cv=3, error_score=nan,\n",
       "             estimator=LogisticRegression(C=1.0, class_weight=None, dual=False,\n",
       "                                          fit_intercept=True,\n",
       "                                          intercept_scaling=1, l1_ratio=None,\n",
       "                                          max_iter=100, multi_class='auto',\n",
       "                                          n_jobs=None, penalty='l2',\n",
       "                                          random_state=None, solver='liblinear',\n",
       "                                          tol=0.0001, verbose=0,\n",
       "                                          warm_start=False),\n",
       "             iid='deprecated', n_jobs=None,\n",
       "             param_grid={'C': array([1.e-03, 1.e-02, 1.e-01, 1.e+00, 1.e+01, 1.e+02, 1.e+03]),\n",
       "                         'penalty': ['l1', 'l2']},\n",
       "             pre_dispatch='2*n_jobs', refit=True, return_train_score=False,\n",
       "             scoring=None, verbose=0)"
      ]
     },
     "execution_count": 242,
     "metadata": {},
     "output_type": "execute_result"
    }
   ],
   "source": [
    "model2 = LogisticRegression(solver='liblinear')\n",
    "param_grid2 = {\"C\":np.logspace(-3,3,7), \n",
    "               \"penalty\":[\"l1\",\"l2\"]}\n",
    "clf2 = GridSearchCV(model2, param_grid2, cv=3)\n",
    "clf2.fit(X_train, y_train)"
   ]
  },
  {
   "cell_type": "code",
   "execution_count": 255,
   "metadata": {
    "colab": {
     "base_uri": "https://localhost:8080/"
    },
    "id": "K8NZHWbxrldQ",
    "outputId": "4a0b070c-beb9-44a7-e870-d9006ac63072"
   },
   "outputs": [
    {
     "data": {
      "text/plain": [
       "{'C': 10.0, 'penalty': 'l2'}"
      ]
     },
     "execution_count": 255,
     "metadata": {},
     "output_type": "execute_result"
    }
   ],
   "source": [
    "clf2.best_params_"
   ]
  },
  {
   "cell_type": "code",
   "execution_count": 266,
   "metadata": {
    "colab": {
     "base_uri": "https://localhost:8080/",
     "height": 282
    },
    "id": "kbpQtzs6sTq4",
    "outputId": "dcda7881-1ed3-4424-a0da-f885d7704f4b"
   },
   "outputs": [
    {
     "data": {
      "text/plain": [
       "<matplotlib.axes._subplots.AxesSubplot at 0x7fa839c0b710>"
      ]
     },
     "execution_count": 266,
     "metadata": {},
     "output_type": "execute_result"
    },
    {
     "data": {
      "image/png": "[encoded data removed]",
      "text/plain": [
       "<Figure size 432x288 with 1 Axes>"
      ]
     },
     "metadata": {
      "needs_background": "light"
     },
     "output_type": "display_data"
    }
   ],
   "source": [
    "cs = [i for i in clf2.cv_results_['param_C']]\n",
    "quals = [i for i in clf2.cv_results_['mean_test_score']]\n",
    "sns.scatterplot(cs, quals)"
   ]
  },
  {
   "cell_type": "code",
   "execution_count": null,
   "metadata": {
    "colab": {
     "base_uri": "https://localhost:8080/",
     "height": 265
    },
    "id": "lbnLwKmGmJuH",
    "outputId": "49f61733-cca2-45f3-ae76-39e60d1bb009"
   },
   "outputs": [
    {
     "data": {
      "image/png": "[encoded data removed]",
      "text/plain": [
       "<Figure size 432x288 with 2 Axes>"
      ]
     },
     "metadata": {
      "needs_background": "light"
     },
     "output_type": "display_data"
    }
   ],
   "source": [
    "sns.heatmap(confusion_matrix(y_test, clf2.predict(X_test)), xticklabels=clf2.classes_[1:], yticklabels=clf2.classes_[1:]);"
   ]
  },
  {
   "cell_type": "code",
   "execution_count": null,
   "metadata": {
    "colab": {
     "base_uri": "https://localhost:8080/"
    },
    "id": "Z8Q3qO-wmJy_",
    "outputId": "fd2c6a63-d6a7-44c4-c5a4-329e53a7e8df"
   },
   "outputs": [
    {
     "name": "stdout",
     "output_type": "stream",
     "text": [
      "              precision    recall  f1-score   support\n",
      "\n",
      "           1       0.71      0.65      0.68       415\n",
      "           2       0.48      0.15      0.23       134\n",
      "           3       0.47      0.28      0.35       218\n",
      "           4       0.53      0.18      0.27       468\n",
      "           5       0.66      0.94      0.78      1255\n",
      "\n",
      "    accuracy                           0.65      2490\n",
      "   macro avg       0.57      0.44      0.46      2490\n",
      "weighted avg       0.62      0.65      0.60      2490\n",
      "\n"
     ]
    }
   ],
   "source": [
    "print(classification_report(y_test, clf2.predict(X_test)))"
   ]
  },
  {
   "cell_type": "markdown",
   "metadata": {
    "id": "RxxF1LmGn1w7"
   },
   "source": [
    "KNeighborsClassifier"
   ]
  },
  {
   "cell_type": "code",
   "execution_count": 251,
   "metadata": {
    "colab": {
     "base_uri": "https://localhost:8080/"
    },
    "id": "Me19JdI6n2jy",
    "outputId": "3de6fbb9-72c7-4d99-e7c6-934ce89ccf9d"
   },
   "outputs": [
    {
     "data": {
      "text/plain": [
       "GridSearchCV(cv=3, error_score=nan,\n",
       "             estimator=KNeighborsClassifier(algorithm='auto', leaf_size=30,\n",
       "                                            metric='minkowski',\n",
       "                                            metric_params=None, n_jobs=None,\n",
       "                                            n_neighbors=5, p=2,\n",
       "                                            weights='uniform'),\n",
       "             iid='deprecated', n_jobs=None,\n",
       "             param_grid={'metric': ['euclidean', 'manhattan'],\n",
       "                         'n_neighbors': [5, 15, 25, 35, 45, 55, 65, 75, 85, 95,\n",
       "                                         105, 115, 125, 135, 145, 155, 165, 175,\n",
       "                                         185, 195, 205, 215, 225, 235, 245, 255,\n",
       "                                         265, 275, 285, 295, ...]},\n",
       "             pre_dispatch='2*n_jobs', refit=True, return_train_score=False,\n",
       "             scoring=None, verbose=0)"
      ]
     },
     "execution_count": 251,
     "metadata": {},
     "output_type": "execute_result"
    }
   ],
   "source": [
    "model3 = KNeighborsClassifier()\n",
    "param_grid3 = {\"n_neighbors\": [i for i in range(5, 500, 10)],\n",
    "               \"metric\": ['euclidean', 'manhattan']\n",
    "               }\n",
    "clf3 = GridSearchCV(model3, param_grid3, cv=3)\n",
    "clf3.fit(X_train, y_train)"
   ]
  },
  {
   "cell_type": "code",
   "execution_count": 252,
   "metadata": {
    "colab": {
     "base_uri": "https://localhost:8080/",
     "height": 282
    },
    "id": "cwPkorA8n2or",
    "outputId": "760f186a-5b9b-4568-874f-6ea400128ce8"
   },
   "outputs": [
    {
     "data": {
      "text/plain": [
       "<matplotlib.axes._subplots.AxesSubplot at 0x7fa83ad49050>"
      ]
     },
     "execution_count": 252,
     "metadata": {},
     "output_type": "execute_result"
    },
    {
     "data": {
      "image/png": "[encoded data removed]",
      "text/plain": [
       "<Figure size 432x288 with 1 Axes>"
      ]
     },
     "metadata": {
      "needs_background": "light"
     },
     "output_type": "display_data"
    }
   ],
   "source": [
    "cs = [i for i in clf3.cv_results_['param_n_neighbors']]\n",
    "quals = [i for i in clf3.cv_results_['mean_test_score']]\n",
    "sns.scatterplot(cs, quals)"
   ]
  },
  {
   "cell_type": "markdown",
   "metadata": {
    "id": "j47rLVBUq8eN"
   },
   "source": [
    "C увеличением количества соседей качество падает, так что больше брать не нужно"
   ]
  },
  {
   "cell_type": "code",
   "execution_count": 267,
   "metadata": {
    "colab": {
     "base_uri": "https://localhost:8080/",
     "height": 265
    },
    "id": "FO_IXJbBq7p9",
    "outputId": "a62121af-e389-4b90-ca79-4d8ce29541aa"
   },
   "outputs": [
    {
     "data": {
      "image/png": "[encoded data removed]",
      "text/plain": [
       "<Figure size 432x288 with 2 Axes>"
      ]
     },
     "metadata": {
      "needs_background": "light"
     },
     "output_type": "display_data"
    }
   ],
   "source": [
    "sns.heatmap(confusion_matrix(y_test, clf3.predict(X_test)), xticklabels=clf3.classes_[1:], yticklabels=clf3.classes_[1:]);"
   ]
  },
  {
   "cell_type": "code",
   "execution_count": 268,
   "metadata": {
    "colab": {
     "base_uri": "https://localhost:8080/"
    },
    "id": "5umhgctgn2tL",
    "outputId": "2c1fdaf6-0763-4ed0-bcce-229b203f3aeb"
   },
   "outputs": [
    {
     "name": "stdout",
     "output_type": "stream",
     "text": [
      "              precision    recall  f1-score   support\n",
      "\n",
      "           1       0.69      0.49      0.57       415\n",
      "           2       0.25      0.02      0.04       134\n",
      "           3       0.42      0.15      0.22       218\n",
      "           4       0.39      0.17      0.24       468\n",
      "           5       0.59      0.89      0.71      1255\n",
      "\n",
      "    accuracy                           0.58      2490\n",
      "   macro avg       0.47      0.34      0.36      2490\n",
      "weighted avg       0.53      0.58      0.52      2490\n",
      "\n"
     ]
    }
   ],
   "source": [
    "print(classification_report(y_test, clf3.predict(X_test)))"
   ]
  },
  {
   "cell_type": "markdown",
   "metadata": {
    "id": "IjteXjYRsrub"
   },
   "source": [
    "### BOW"
   ]
  },
  {
   "cell_type": "code",
   "execution_count": 269,
   "metadata": {
    "id": "nLOURflKmJ2-"
   },
   "outputs": [],
   "source": [
    "vectorizer = CountVectorizer()\n",
    "X_train =  vectorizer.fit_transform(XX_train)\n",
    "X_test = vectorizer.transform(XX_test)"
   ]
  },
  {
   "cell_type": "markdown",
   "metadata": {
    "id": "TijUDo90tDDi"
   },
   "source": [
    "RandomForestClassifier"
   ]
  },
  {
   "cell_type": "code",
   "execution_count": 270,
   "metadata": {
    "colab": {
     "base_uri": "https://localhost:8080/"
    },
    "id": "geKchZ8as4Zi",
    "outputId": "604fb008-4213-4dbf-bac1-10c681cd998c"
   },
   "outputs": [
    {
     "data": {
      "text/plain": [
       "GridSearchCV(cv=3, error_score=nan,\n",
       "             estimator=RandomForestClassifier(bootstrap=True, ccp_alpha=0.0,\n",
       "                                              class_weight=None,\n",
       "                                              criterion='gini', max_depth=None,\n",
       "                                              max_features='auto',\n",
       "                                              max_leaf_nodes=None,\n",
       "                                              max_samples=None,\n",
       "                                              min_impurity_decrease=0.0,\n",
       "                                              min_impurity_split=None,\n",
       "                                              min_samples_leaf=1,\n",
       "                                              min_samples_split=2,\n",
       "                                              min_weight_fraction_leaf=0.0,\n",
       "                                              n_estimators=100, n_jobs=None,\n",
       "                                              oob_score=False,\n",
       "                                              random_state=None, verbose=0,\n",
       "                                              warm_start=False),\n",
       "             iid='deprecated', n_jobs=None,\n",
       "             param_grid={'max_depth': [100, 300, 500],\n",
       "                         'n_estimators': [50, 100, 200]},\n",
       "             pre_dispatch='2*n_jobs', refit=True, return_train_score=False,\n",
       "             scoring=None, verbose=0)"
      ]
     },
     "execution_count": 270,
     "metadata": {},
     "output_type": "execute_result"
    }
   ],
   "source": [
    "model4 = RandomForestClassifier()\n",
    "param_grid4 = {\n",
    "    'n_estimators': [50, 100, 200],\n",
    "    'max_depth': [100, 300, 500],\n",
    "    }\n",
    "clf4 = GridSearchCV(model4, param_grid4, cv=3)\n",
    "clf4.fit(X_train, y_train)"
   ]
  },
  {
   "cell_type": "code",
   "execution_count": 271,
   "metadata": {
    "colab": {
     "base_uri": "https://localhost:8080/",
     "height": 282
    },
    "id": "ZH5vqbFbs4ds",
    "outputId": "d1533932-817d-4232-fbd7-ebd7eb4d1b68"
   },
   "outputs": [
    {
     "data": {
      "text/plain": [
       "<matplotlib.axes._subplots.AxesSubplot at 0x7fa839a64a90>"
      ]
     },
     "execution_count": 271,
     "metadata": {},
     "output_type": "execute_result"
    },
    {
     "data": {
      "image/png": "[encoded data removed]",
      "text/plain": [
       "<Figure size 432x288 with 1 Axes>"
      ]
     },
     "metadata": {
      "needs_background": "light"
     },
     "output_type": "display_data"
    }
   ],
   "source": [
    "cs = [i for i in clf4.cv_results_['param_n_estimators']]\n",
    "quals = [i for i in clf4.cv_results_['mean_test_score']]\n",
    "sns.scatterplot(cs, quals)"
   ]
  },
  {
   "cell_type": "code",
   "execution_count": 272,
   "metadata": {
    "colab": {
     "base_uri": "https://localhost:8080/",
     "height": 265
    },
    "id": "zKb-e4vos4hp",
    "outputId": "c7269186-68b7-4844-b01d-fc7f2abc91e7"
   },
   "outputs": [
    {
     "data": {
      "image/png": "[encoded data removed]",
      "text/plain": [
       "<Figure size 432x288 with 2 Axes>"
      ]
     },
     "metadata": {
      "needs_background": "light"
     },
     "output_type": "display_data"
    }
   ],
   "source": [
    "sns.heatmap(confusion_matrix(y_test, clf4.predict(X_test)), xticklabels=clf4.classes_[1:], yticklabels=clf4.classes_[1:]);"
   ]
  },
  {
   "cell_type": "code",
   "execution_count": 273,
   "metadata": {
    "colab": {
     "base_uri": "https://localhost:8080/"
    },
    "id": "HWszQAAjs4lI",
    "outputId": "63e4a5c8-f45c-447e-8be9-bc9683c53bbe"
   },
   "outputs": [
    {
     "name": "stdout",
     "output_type": "stream",
     "text": [
      "              precision    recall  f1-score   support\n",
      "\n",
      "           1       0.75      0.66      0.70       415\n",
      "           2       0.56      0.20      0.30       134\n",
      "           3       0.60      0.32      0.42       218\n",
      "           4       0.57      0.22      0.32       468\n",
      "           5       0.67      0.94      0.78      1255\n",
      "\n",
      "    accuracy                           0.67      2490\n",
      "   macro avg       0.63      0.47      0.50      2490\n",
      "weighted avg       0.65      0.67      0.62      2490\n",
      "\n"
     ]
    }
   ],
   "source": [
    "print(classification_report(y_test, clf4.predict(X_test)))"
   ]
  },
  {
   "cell_type": "markdown",
   "metadata": {
    "id": "KDEVcHwevtmr"
   },
   "source": [
    "LogisticRegression"
   ]
  },
  {
   "cell_type": "code",
   "execution_count": 274,
   "metadata": {
    "colab": {
     "base_uri": "https://localhost:8080/"
    },
    "id": "ql370Hw6s4o8",
    "outputId": "f984122d-f041-4346-b600-f6a86e462ebb"
   },
   "outputs": [
    {
     "data": {
      "text/plain": [
       "GridSearchCV(cv=3, error_score=nan,\n",
       "             estimator=LogisticRegression(C=1.0, class_weight=None, dual=False,\n",
       "                                          fit_intercept=True,\n",
       "                                          intercept_scaling=1, l1_ratio=None,\n",
       "                                          max_iter=100, multi_class='auto',\n",
       "                                          n_jobs=None, penalty='l2',\n",
       "                                          random_state=None, solver='liblinear',\n",
       "                                          tol=0.0001, verbose=0,\n",
       "                                          warm_start=False),\n",
       "             iid='deprecated', n_jobs=None,\n",
       "             param_grid={'C': array([1.e-03, 1.e-02, 1.e-01, 1.e+00, 1.e+01, 1.e+02, 1.e+03]),\n",
       "                         'penalty': ['l1', 'l2']},\n",
       "             pre_dispatch='2*n_jobs', refit=True, return_train_score=False,\n",
       "             scoring=None, verbose=0)"
      ]
     },
     "execution_count": 274,
     "metadata": {},
     "output_type": "execute_result"
    }
   ],
   "source": [
    "model5 = LogisticRegression(solver='liblinear')\n",
    "param_grid5 = {\"C\":np.logspace(-3,3,7), \n",
    "               \"penalty\":[\"l1\",\"l2\"]}\n",
    "clf5 = GridSearchCV(model5, param_grid5, cv=3)\n",
    "clf5.fit(X_train, y_train)"
   ]
  },
  {
   "cell_type": "code",
   "execution_count": 275,
   "metadata": {
    "colab": {
     "base_uri": "https://localhost:8080/",
     "height": 282
    },
    "id": "ebxpC9vCs4so",
    "outputId": "c47f5a59-ce12-4e61-da22-673b89553b58"
   },
   "outputs": [
    {
     "data": {
      "text/plain": [
       "<matplotlib.axes._subplots.AxesSubplot at 0x7fa83b8fddd0>"
      ]
     },
     "execution_count": 275,
     "metadata": {},
     "output_type": "execute_result"
    },
    {
     "data": {
      "image/png": "[encoded data removed]",
      "text/plain": [
       "<Figure size 432x288 with 1 Axes>"
      ]
     },
     "metadata": {
      "needs_background": "light"
     },
     "output_type": "display_data"
    }
   ],
   "source": [
    "cs = [i for i in clf5.cv_results_['param_C']]\n",
    "quals = [i for i in clf5.cv_results_['mean_test_score']]\n",
    "sns.scatterplot(cs, quals)"
   ]
  },
  {
   "cell_type": "code",
   "execution_count": 276,
   "metadata": {
    "colab": {
     "base_uri": "https://localhost:8080/",
     "height": 268
    },
    "id": "R30pjH2bs4wK",
    "outputId": "f2ffab3f-aa68-4ffa-b243-050d4b9acfe7"
   },
   "outputs": [
    {
     "data": {
      "image/png": "[encoded data removed]",
      "text/plain": [
       "<Figure size 432x288 with 2 Axes>"
      ]
     },
     "metadata": {
      "needs_background": "light"
     },
     "output_type": "display_data"
    }
   ],
   "source": [
    "sns.heatmap(confusion_matrix(y_test, clf5.predict(X_test)), xticklabels=clf5.classes_[1:], yticklabels=clf5.classes_[1:]);"
   ]
  },
  {
   "cell_type": "code",
   "execution_count": 277,
   "metadata": {
    "colab": {
     "base_uri": "https://localhost:8080/"
    },
    "id": "XjA1dN-Av6xk",
    "outputId": "cae6d072-84dc-4309-c8a5-03ee0f333e96"
   },
   "outputs": [
    {
     "name": "stdout",
     "output_type": "stream",
     "text": [
      "              precision    recall  f1-score   support\n",
      "\n",
      "           1       0.71      0.63      0.67       415\n",
      "           2       0.62      0.12      0.20       134\n",
      "           3       0.53      0.23      0.32       218\n",
      "           4       0.52      0.12      0.19       468\n",
      "           5       0.64      0.96      0.77      1255\n",
      "\n",
      "    accuracy                           0.64      2490\n",
      "   macro avg       0.60      0.41      0.43      2490\n",
      "weighted avg       0.62      0.64      0.57      2490\n",
      "\n"
     ]
    }
   ],
   "source": [
    "print(classification_report(y_test, clf5.predict(X_test)))"
   ]
  },
  {
   "cell_type": "markdown",
   "metadata": {
    "id": "kIB1IHO2wF2H"
   },
   "source": [
    "KNeighborsClassifier"
   ]
  },
  {
   "cell_type": "code",
   "execution_count": 278,
   "metadata": {
    "colab": {
     "base_uri": "https://localhost:8080/"
    },
    "id": "P2aSEqx-v65g",
    "outputId": "a7930173-192b-4239-b167-ec490b5cbaf7"
   },
   "outputs": [
    {
     "data": {
      "text/plain": [
       "GridSearchCV(cv=3, error_score=nan,\n",
       "             estimator=KNeighborsClassifier(algorithm='auto', leaf_size=30,\n",
       "                                            metric='minkowski',\n",
       "                                            metric_params=None, n_jobs=None,\n",
       "                                            n_neighbors=5, p=2,\n",
       "                                            weights='uniform'),\n",
       "             iid='deprecated', n_jobs=None,\n",
       "             param_grid={'metric': ['euclidean', 'manhattan'],\n",
       "                         'n_neighbors': [5, 15, 25, 35, 45, 55, 65, 75, 85, 95,\n",
       "                                         105, 115, 125, 135, 145, 155, 165, 175,\n",
       "                                         185, 195, 205, 215, 225, 235, 245, 255,\n",
       "                                         265, 275, 285, 295, ...]},\n",
       "             pre_dispatch='2*n_jobs', refit=True, return_train_score=False,\n",
       "             scoring=None, verbose=0)"
      ]
     },
     "execution_count": 278,
     "metadata": {},
     "output_type": "execute_result"
    }
   ],
   "source": [
    "model6 = KNeighborsClassifier()\n",
    "param_grid6 = {\"n_neighbors\": [i for i in range(5, 500, 10)],\n",
    "               \"metric\": ['euclidean', 'manhattan']\n",
    "               }\n",
    "clf6 = GridSearchCV(model6, param_grid6, cv=3)\n",
    "clf6.fit(X_train, y_train)"
   ]
  },
  {
   "cell_type": "code",
   "execution_count": 279,
   "metadata": {
    "colab": {
     "base_uri": "https://localhost:8080/",
     "height": 282
    },
    "id": "YVR9ON9Qv69r",
    "outputId": "80591160-f212-4eff-ff71-43b81450f73a"
   },
   "outputs": [
    {
     "data": {
      "text/plain": [
       "<matplotlib.axes._subplots.AxesSubplot at 0x7fa839a99f50>"
      ]
     },
     "execution_count": 279,
     "metadata": {},
     "output_type": "execute_result"
    },
    {
     "data": {
      "image/png": "[encoded data removed]",
      "text/plain": [
       "<Figure size 432x288 with 1 Axes>"
      ]
     },
     "metadata": {
      "needs_background": "light"
     },
     "output_type": "display_data"
    }
   ],
   "source": [
    "cs = [i for i in clf6.cv_results_['param_n_neighbors']]\n",
    "quals = [i for i in clf6.cv_results_['mean_test_score']]\n",
    "sns.scatterplot(cs, quals)"
   ]
  },
  {
   "cell_type": "code",
   "execution_count": 280,
   "metadata": {
    "colab": {
     "base_uri": "https://localhost:8080/",
     "height": 265
    },
    "id": "winXbcMQv7CF",
    "outputId": "931d786a-5474-4df7-8338-c5767f84a55d"
   },
   "outputs": [
    {
     "data": {
      "image/png": "[encoded data removed]",
      "text/plain": [
       "<Figure size 432x288 with 2 Axes>"
      ]
     },
     "metadata": {
      "needs_background": "light"
     },
     "output_type": "display_data"
    }
   ],
   "source": [
    "sns.heatmap(confusion_matrix(y_test, clf6.predict(X_test)), xticklabels=clf6.classes_[1:], yticklabels=clf6.classes_[1:]);"
   ]
  },
  {
   "cell_type": "code",
   "execution_count": 281,
   "metadata": {
    "colab": {
     "base_uri": "https://localhost:8080/"
    },
    "id": "J5GMa0Vpv7F-",
    "outputId": "c4466c0d-128a-4b07-bc27-2d782f80365c"
   },
   "outputs": [
    {
     "name": "stdout",
     "output_type": "stream",
     "text": [
      "              precision    recall  f1-score   support\n",
      "\n",
      "           1       0.71      0.63      0.67       415\n",
      "           2       0.62      0.12      0.20       134\n",
      "           3       0.53      0.23      0.32       218\n",
      "           4       0.52      0.12      0.19       468\n",
      "           5       0.64      0.96      0.77      1255\n",
      "\n",
      "    accuracy                           0.64      2490\n",
      "   macro avg       0.60      0.41      0.43      2490\n",
      "weighted avg       0.62      0.64      0.57      2490\n",
      "\n"
     ]
    }
   ],
   "source": [
    "print(classification_report(y_test, clf5.predict(X_test)))"
   ]
  },
  {
   "cell_type": "markdown",
   "metadata": {},
   "source": [
    "Вывод: в этом задании опять лучший результат у Random Forest и BOW векторизации. \n",
    "\n",
    "По графикам и classification_report видно, что все три модели плохо справляются с выделением редких классов, как и предполагалось ранее - лучше всего модели выделяют 5 класс (оценка 5 самая частотная)\n",
    "\n"
   ]
  }
 ],
 "metadata": {
  "colab": {
   "collapsed_sections": [],
   "name": "Kostrykina_hw1_NLP.ipynb",
   "provenance": []
  },
  "kernelspec": {
   "display_name": "Python 3",
   "language": "python",
   "name": "python3"
  },
  "language_info": {
   "codemirror_mode": {
    "name": "ipython",
    "version": 3
   },
   "file_extension": ".py",
   "mimetype": "text/x-python",
   "name": "python",
   "nbconvert_exporter": "python",
   "pygments_lexer": "ipython3",
   "version": "3.8.5"
  },
  "widgets": {
   "application/vnd.jupyter.widget-state+json": {
    "0783885cee744277b2a23f121e3ffb66": {
     "model_module": "@jupyter-widgets/base",
     "model_module_version": "1.2.0",
     "model_name": "LayoutModel",
     "state": {
      "_model_module": "@jupyter-widgets/base",
      "_model_module_version": "1.2.0",
      "_model_name": "LayoutModel",
      "_view_count": null,
      "_view_module": "@jupyter-widgets/base",
      "_view_module_version": "1.2.0",
      "_view_name": "LayoutView",
      "align_content": null,
      "align_items": null,
      "align_self": null,
      "border": null,
      "bottom": null,
      "display": null,
      "flex": null,
      "flex_flow": null,
      "grid_area": null,
      "grid_auto_columns": null,
      "grid_auto_flow": null,
      "grid_auto_rows": null,
      "grid_column": null,
      "grid_gap": null,
      "grid_row": null,
      "grid_template_areas": null,
      "grid_template_columns": null,
      "grid_template_rows": null,
      "height": null,
      "justify_content": null,
      "justify_items": null,
      "left": null,
      "margin": null,
      "max_height": null,
      "max_width": null,
      "min_height": null,
      "min_width": null,
      "object_fit": null,
      "object_position": null,
      "order": null,
      "overflow": null,
      "overflow_x": null,
      "overflow_y": null,
      "padding": null,
      "right": null,
      "top": null,
      "visibility": null,
      "width": null
     }
    },
    "086da43045794eb0af02d6da7221f531": {
     "model_module": "@jupyter-widgets/controls",
     "model_module_version": "1.5.0",
     "model_name": "HTMLModel",
     "state": {
      "_dom_classes": [],
      "_model_module": "@jupyter-widgets/controls",
      "_model_module_version": "1.5.0",
      "_model_name": "HTMLModel",
      "_view_count": null,
      "_view_module": "@jupyter-widgets/controls",
      "_view_module_version": "1.5.0",
      "_view_name": "HTMLView",
      "description": "",
      "description_tooltip": null,
      "layout": "IPY_MODEL_0783885cee744277b2a23f121e3ffb66",
      "placeholder": "​",
      "style": "IPY_MODEL_478b0fed4c334d71b74a1fc94dd67006",
      "value": " 9958/9958 [00:01&lt;00:00, 9200.29it/s]"
     }
    },
    "10397c1cfd5647cfb855510ec8931568": {
     "model_module": "@jupyter-widgets/base",
     "model_module_version": "1.2.0",
     "model_name": "LayoutModel",
     "state": {
      "_model_module": "@jupyter-widgets/base",
      "_model_module_version": "1.2.0",
      "_model_name": "LayoutModel",
      "_view_count": null,
      "_view_module": "@jupyter-widgets/base",
      "_view_module_version": "1.2.0",
      "_view_name": "LayoutView",
      "align_content": null,
      "align_items": null,
      "align_self": null,
      "border": null,
      "bottom": null,
      "display": null,
      "flex": null,
      "flex_flow": null,
      "grid_area": null,
      "grid_auto_columns": null,
      "grid_auto_flow": null,
      "grid_auto_rows": null,
      "grid_column": null,
      "grid_gap": null,
      "grid_row": null,
      "grid_template_areas": null,
      "grid_template_columns": null,
      "grid_template_rows": null,
      "height": null,
      "justify_content": null,
      "justify_items": null,
      "left": null,
      "margin": null,
      "max_height": null,
      "max_width": null,
      "min_height": null,
      "min_width": null,
      "object_fit": null,
      "object_position": null,
      "order": null,
      "overflow": null,
      "overflow_x": null,
      "overflow_y": null,
      "padding": null,
      "right": null,
      "top": null,
      "visibility": null,
      "width": null
     }
    },
    "208c11c1d35e469697e0330f3f26ce55": {
     "model_module": "@jupyter-widgets/base",
     "model_module_version": "1.2.0",
     "model_name": "LayoutModel",
     "state": {
      "_model_module": "@jupyter-widgets/base",
      "_model_module_version": "1.2.0",
      "_model_name": "LayoutModel",
      "_view_count": null,
      "_view_module": "@jupyter-widgets/base",
      "_view_module_version": "1.2.0",
      "_view_name": "LayoutView",
      "align_content": null,
      "align_items": null,
      "align_self": null,
      "border": null,
      "bottom": null,
      "display": null,
      "flex": null,
      "flex_flow": null,
      "grid_area": null,
      "grid_auto_columns": null,
      "grid_auto_flow": null,
      "grid_auto_rows": null,
      "grid_column": null,
      "grid_gap": null,
      "grid_row": null,
      "grid_template_areas": null,
      "grid_template_columns": null,
      "grid_template_rows": null,
      "height": null,
      "justify_content": null,
      "justify_items": null,
      "left": null,
      "margin": null,
      "max_height": null,
      "max_width": null,
      "min_height": null,
      "min_width": null,
      "object_fit": null,
      "object_position": null,
      "order": null,
      "overflow": null,
      "overflow_x": null,
      "overflow_y": null,
      "padding": null,
      "right": null,
      "top": null,
      "visibility": null,
      "width": null
     }
    },
    "312d9df985014a96b7225285bf9c4dd9": {
     "model_module": "@jupyter-widgets/controls",
     "model_module_version": "1.5.0",
     "model_name": "ProgressStyleModel",
     "state": {
      "_model_module": "@jupyter-widgets/controls",
      "_model_module_version": "1.5.0",
      "_model_name": "ProgressStyleModel",
      "_view_count": null,
      "_view_module": "@jupyter-widgets/base",
      "_view_module_version": "1.2.0",
      "_view_name": "StyleView",
      "bar_color": null,
      "description_width": ""
     }
    },
    "478b0fed4c334d71b74a1fc94dd67006": {
     "model_module": "@jupyter-widgets/controls",
     "model_module_version": "1.5.0",
     "model_name": "DescriptionStyleModel",
     "state": {
      "_model_module": "@jupyter-widgets/controls",
      "_model_module_version": "1.5.0",
      "_model_name": "DescriptionStyleModel",
      "_view_count": null,
      "_view_module": "@jupyter-widgets/base",
      "_view_module_version": "1.2.0",
      "_view_name": "StyleView",
      "description_width": ""
     }
    },
    "55ebc72681c1440cb5c4228992bc6166": {
     "model_module": "@jupyter-widgets/controls",
     "model_module_version": "1.5.0",
     "model_name": "DescriptionStyleModel",
     "state": {
      "_model_module": "@jupyter-widgets/controls",
      "_model_module_version": "1.5.0",
      "_model_name": "DescriptionStyleModel",
      "_view_count": null,
      "_view_module": "@jupyter-widgets/base",
      "_view_module_version": "1.2.0",
      "_view_name": "StyleView",
      "description_width": ""
     }
    },
    "5d1a462073064e7295362308c408c294": {
     "model_module": "@jupyter-widgets/base",
     "model_module_version": "1.2.0",
     "model_name": "LayoutModel",
     "state": {
      "_model_module": "@jupyter-widgets/base",
      "_model_module_version": "1.2.0",
      "_model_name": "LayoutModel",
      "_view_count": null,
      "_view_module": "@jupyter-widgets/base",
      "_view_module_version": "1.2.0",
      "_view_name": "LayoutView",
      "align_content": null,
      "align_items": null,
      "align_self": null,
      "border": null,
      "bottom": null,
      "display": null,
      "flex": null,
      "flex_flow": null,
      "grid_area": null,
      "grid_auto_columns": null,
      "grid_auto_flow": null,
      "grid_auto_rows": null,
      "grid_column": null,
      "grid_gap": null,
      "grid_row": null,
      "grid_template_areas": null,
      "grid_template_columns": null,
      "grid_template_rows": null,
      "height": null,
      "justify_content": null,
      "justify_items": null,
      "left": null,
      "margin": null,
      "max_height": null,
      "max_width": null,
      "min_height": null,
      "min_width": null,
      "object_fit": null,
      "object_position": null,
      "order": null,
      "overflow": null,
      "overflow_x": null,
      "overflow_y": null,
      "padding": null,
      "right": null,
      "top": null,
      "visibility": null,
      "width": null
     }
    },
    "726457ade753437494b6c74697a3facc": {
     "model_module": "@jupyter-widgets/controls",
     "model_module_version": "1.5.0",
     "model_name": "HBoxModel",
     "state": {
      "_dom_classes": [],
      "_model_module": "@jupyter-widgets/controls",
      "_model_module_version": "1.5.0",
      "_model_name": "HBoxModel",
      "_view_count": null,
      "_view_module": "@jupyter-widgets/controls",
      "_view_module_version": "1.5.0",
      "_view_name": "HBoxView",
      "box_style": "",
      "children": [
       "IPY_MODEL_86eb8f59b79948c28435c7a0631a8fc2",
       "IPY_MODEL_a929085b586d4d1a8bc72e8c648401e8",
       "IPY_MODEL_7de8824f54914a76b9b0d5a3450aae9d"
      ],
      "layout": "IPY_MODEL_75adba29b17b4218a5cd8940ad53c449"
     }
    },
    "75adba29b17b4218a5cd8940ad53c449": {
     "model_module": "@jupyter-widgets/base",
     "model_module_version": "1.2.0",
     "model_name": "LayoutModel",
     "state": {
      "_model_module": "@jupyter-widgets/base",
      "_model_module_version": "1.2.0",
      "_model_name": "LayoutModel",
      "_view_count": null,
      "_view_module": "@jupyter-widgets/base",
      "_view_module_version": "1.2.0",
      "_view_name": "LayoutView",
      "align_content": null,
      "align_items": null,
      "align_self": null,
      "border": null,
      "bottom": null,
      "display": null,
      "flex": null,
      "flex_flow": null,
      "grid_area": null,
      "grid_auto_columns": null,
      "grid_auto_flow": null,
      "grid_auto_rows": null,
      "grid_column": null,
      "grid_gap": null,
      "grid_row": null,
      "grid_template_areas": null,
      "grid_template_columns": null,
      "grid_template_rows": null,
      "height": null,
      "justify_content": null,
      "justify_items": null,
      "left": null,
      "margin": null,
      "max_height": null,
      "max_width": null,
      "min_height": null,
      "min_width": null,
      "object_fit": null,
      "object_position": null,
      "order": null,
      "overflow": null,
      "overflow_x": null,
      "overflow_y": null,
      "padding": null,
      "right": null,
      "top": null,
      "visibility": null,
      "width": null
     }
    },
    "7c7f74e6e830426597a00e1dc4170300": {
     "model_module": "@jupyter-widgets/controls",
     "model_module_version": "1.5.0",
     "model_name": "DescriptionStyleModel",
     "state": {
      "_model_module": "@jupyter-widgets/controls",
      "_model_module_version": "1.5.0",
      "_model_name": "DescriptionStyleModel",
      "_view_count": null,
      "_view_module": "@jupyter-widgets/base",
      "_view_module_version": "1.2.0",
      "_view_name": "StyleView",
      "description_width": ""
     }
    },
    "7de8824f54914a76b9b0d5a3450aae9d": {
     "model_module": "@jupyter-widgets/controls",
     "model_module_version": "1.5.0",
     "model_name": "HTMLModel",
     "state": {
      "_dom_classes": [],
      "_model_module": "@jupyter-widgets/controls",
      "_model_module_version": "1.5.0",
      "_model_name": "HTMLModel",
      "_view_count": null,
      "_view_module": "@jupyter-widgets/controls",
      "_view_module_version": "1.5.0",
      "_view_name": "HTMLView",
      "description": "",
      "description_tooltip": null,
      "layout": "IPY_MODEL_c1e98a83c2e44347ab39fd66a38beb77",
      "placeholder": "​",
      "style": "IPY_MODEL_7c7f74e6e830426597a00e1dc4170300",
      "value": " 1230/1230 [00:00&lt;00:00, 1337.79it/s]"
     }
    },
    "86eb8f59b79948c28435c7a0631a8fc2": {
     "model_module": "@jupyter-widgets/controls",
     "model_module_version": "1.5.0",
     "model_name": "HTMLModel",
     "state": {
      "_dom_classes": [],
      "_model_module": "@jupyter-widgets/controls",
      "_model_module_version": "1.5.0",
      "_model_name": "HTMLModel",
      "_view_count": null,
      "_view_module": "@jupyter-widgets/controls",
      "_view_module_version": "1.5.0",
      "_view_name": "HTMLView",
      "description": "",
      "description_tooltip": null,
      "layout": "IPY_MODEL_10397c1cfd5647cfb855510ec8931568",
      "placeholder": "​",
      "style": "IPY_MODEL_55ebc72681c1440cb5c4228992bc6166",
      "value": "100%"
     }
    },
    "8fece3304f404e5d987ed7c6ddaadf28": {
     "model_module": "@jupyter-widgets/controls",
     "model_module_version": "1.5.0",
     "model_name": "DescriptionStyleModel",
     "state": {
      "_model_module": "@jupyter-widgets/controls",
      "_model_module_version": "1.5.0",
      "_model_name": "DescriptionStyleModel",
      "_view_count": null,
      "_view_module": "@jupyter-widgets/base",
      "_view_module_version": "1.2.0",
      "_view_name": "StyleView",
      "description_width": ""
     }
    },
    "9bb5969145cc4768a5677e02929beb81": {
     "model_module": "@jupyter-widgets/controls",
     "model_module_version": "1.5.0",
     "model_name": "HTMLModel",
     "state": {
      "_dom_classes": [],
      "_model_module": "@jupyter-widgets/controls",
      "_model_module_version": "1.5.0",
      "_model_name": "HTMLModel",
      "_view_count": null,
      "_view_module": "@jupyter-widgets/controls",
      "_view_module_version": "1.5.0",
      "_view_name": "HTMLView",
      "description": "",
      "description_tooltip": null,
      "layout": "IPY_MODEL_e70dd6a84e9e49c5a9226dbce506d648",
      "placeholder": "​",
      "style": "IPY_MODEL_8fece3304f404e5d987ed7c6ddaadf28",
      "value": "100%"
     }
    },
    "a7094b27a2334e89a9488d599b57277c": {
     "model_module": "@jupyter-widgets/controls",
     "model_module_version": "1.5.0",
     "model_name": "FloatProgressModel",
     "state": {
      "_dom_classes": [],
      "_model_module": "@jupyter-widgets/controls",
      "_model_module_version": "1.5.0",
      "_model_name": "FloatProgressModel",
      "_view_count": null,
      "_view_module": "@jupyter-widgets/controls",
      "_view_module_version": "1.5.0",
      "_view_name": "ProgressView",
      "bar_style": "success",
      "description": "",
      "description_tooltip": null,
      "layout": "IPY_MODEL_208c11c1d35e469697e0330f3f26ce55",
      "max": 9958,
      "min": 0,
      "orientation": "horizontal",
      "style": "IPY_MODEL_312d9df985014a96b7225285bf9c4dd9",
      "value": 9958
     }
    },
    "a929085b586d4d1a8bc72e8c648401e8": {
     "model_module": "@jupyter-widgets/controls",
     "model_module_version": "1.5.0",
     "model_name": "FloatProgressModel",
     "state": {
      "_dom_classes": [],
      "_model_module": "@jupyter-widgets/controls",
      "_model_module_version": "1.5.0",
      "_model_name": "FloatProgressModel",
      "_view_count": null,
      "_view_module": "@jupyter-widgets/controls",
      "_view_module_version": "1.5.0",
      "_view_name": "ProgressView",
      "bar_style": "success",
      "description": "",
      "description_tooltip": null,
      "layout": "IPY_MODEL_5d1a462073064e7295362308c408c294",
      "max": 1230,
      "min": 0,
      "orientation": "horizontal",
      "style": "IPY_MODEL_b89f7b3f2afb47e1a633feaca4535b1c",
      "value": 1230
     }
    },
    "b89f7b3f2afb47e1a633feaca4535b1c": {
     "model_module": "@jupyter-widgets/controls",
     "model_module_version": "1.5.0",
     "model_name": "ProgressStyleModel",
     "state": {
      "_model_module": "@jupyter-widgets/controls",
      "_model_module_version": "1.5.0",
      "_model_name": "ProgressStyleModel",
      "_view_count": null,
      "_view_module": "@jupyter-widgets/base",
      "_view_module_version": "1.2.0",
      "_view_name": "StyleView",
      "bar_color": null,
      "description_width": ""
     }
    },
    "c1e98a83c2e44347ab39fd66a38beb77": {
     "model_module": "@jupyter-widgets/base",
     "model_module_version": "1.2.0",
     "model_name": "LayoutModel",
     "state": {
      "_model_module": "@jupyter-widgets/base",
      "_model_module_version": "1.2.0",
      "_model_name": "LayoutModel",
      "_view_count": null,
      "_view_module": "@jupyter-widgets/base",
      "_view_module_version": "1.2.0",
      "_view_name": "LayoutView",
      "align_content": null,
      "align_items": null,
      "align_self": null,
      "border": null,
      "bottom": null,
      "display": null,
      "flex": null,
      "flex_flow": null,
      "grid_area": null,
      "grid_auto_columns": null,
      "grid_auto_flow": null,
      "grid_auto_rows": null,
      "grid_column": null,
      "grid_gap": null,
      "grid_row": null,
      "grid_template_areas": null,
      "grid_template_columns": null,
      "grid_template_rows": null,
      "height": null,
      "justify_content": null,
      "justify_items": null,
      "left": null,
      "margin": null,
      "max_height": null,
      "max_width": null,
      "min_height": null,
      "min_width": null,
      "object_fit": null,
      "object_position": null,
      "order": null,
      "overflow": null,
      "overflow_x": null,
      "overflow_y": null,
      "padding": null,
      "right": null,
      "top": null,
      "visibility": null,
      "width": null
     }
    },
    "cd4ddae72b73415b866a014c1c1fa5f0": {
     "model_module": "@jupyter-widgets/controls",
     "model_module_version": "1.5.0",
     "model_name": "HBoxModel",
     "state": {
      "_dom_classes": [],
      "_model_module": "@jupyter-widgets/controls",
      "_model_module_version": "1.5.0",
      "_model_name": "HBoxModel",
      "_view_count": null,
      "_view_module": "@jupyter-widgets/controls",
      "_view_module_version": "1.5.0",
      "_view_name": "HBoxView",
      "box_style": "",
      "children": [
       "IPY_MODEL_9bb5969145cc4768a5677e02929beb81",
       "IPY_MODEL_a7094b27a2334e89a9488d599b57277c",
       "IPY_MODEL_086da43045794eb0af02d6da7221f531"
      ],
      "layout": "IPY_MODEL_f70673911cf941dbbf46a48c15df9cf2"
     }
    },
    "e70dd6a84e9e49c5a9226dbce506d648": {
     "model_module": "@jupyter-widgets/base",
     "model_module_version": "1.2.0",
     "model_name": "LayoutModel",
     "state": {
      "_model_module": "@jupyter-widgets/base",
      "_model_module_version": "1.2.0",
      "_model_name": "LayoutModel",
      "_view_count": null,
      "_view_module": "@jupyter-widgets/base",
      "_view_module_version": "1.2.0",
      "_view_name": "LayoutView",
      "align_content": null,
      "align_items": null,
      "align_self": null,
      "border": null,
      "bottom": null,
      "display": null,
      "flex": null,
      "flex_flow": null,
      "grid_area": null,
      "grid_auto_columns": null,
      "grid_auto_flow": null,
      "grid_auto_rows": null,
      "grid_column": null,
      "grid_gap": null,
      "grid_row": null,
      "grid_template_areas": null,
      "grid_template_columns": null,
      "grid_template_rows": null,
      "height": null,
      "justify_content": null,
      "justify_items": null,
      "left": null,
      "margin": null,
      "max_height": null,
      "max_width": null,
      "min_height": null,
      "min_width": null,
      "object_fit": null,
      "object_position": null,
      "order": null,
      "overflow": null,
      "overflow_x": null,
      "overflow_y": null,
      "padding": null,
      "right": null,
      "top": null,
      "visibility": null,
      "width": null
     }
    },
    "f70673911cf941dbbf46a48c15df9cf2": {
     "model_module": "@jupyter-widgets/base",
     "model_module_version": "1.2.0",
     "model_name": "LayoutModel",
     "state": {
      "_model_module": "@jupyter-widgets/base",
      "_model_module_version": "1.2.0",
      "_model_name": "LayoutModel",
      "_view_count": null,
      "_view_module": "@jupyter-widgets/base",
      "_view_module_version": "1.2.0",
      "_view_name": "LayoutView",
      "align_content": null,
      "align_items": null,
      "align_self": null,
      "border": null,
      "bottom": null,
      "display": null,
      "flex": null,
      "flex_flow": null,
      "grid_area": null,
      "grid_auto_columns": null,
      "grid_auto_flow": null,
      "grid_auto_rows": null,
      "grid_column": null,
      "grid_gap": null,
      "grid_row": null,
      "grid_template_areas": null,
      "grid_template_columns": null,
      "grid_template_rows": null,
      "height": null,
      "justify_content": null,
      "justify_items": null,
      "left": null,
      "margin": null,
      "max_height": null,
      "max_width": null,
      "min_height": null,
      "min_width": null,
      "object_fit": null,
      "object_position": null,
      "order": null,
      "overflow": null,
      "overflow_x": null,
      "overflow_y": null,
      "padding": null,
      "right": null,
      "top": null,
      "visibility": null,
      "width": null
     }
    }
   }
  }
 },
 "nbformat": 4,
 "nbformat_minor": 1
}
